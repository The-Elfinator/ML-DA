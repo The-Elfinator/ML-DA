{
  "nbformat": 4,
  "nbformat_minor": 0,
  "metadata": {
    "colab": {
      "provenance": []
    },
    "kernelspec": {
      "name": "python3",
      "display_name": "Python 3"
    },
    "language_info": {
      "name": "python"
    }
  },
  "cells": [
    {
      "cell_type": "markdown",
      "source": [
        "# Датасет"
      ],
      "metadata": {
        "id": "0GHfBFsHqmnS"
      }
    },
    {
      "cell_type": "code",
      "source": [
        "!cp ./drive/MyDrive/SMS.tsv ./SMS.tsv"
      ],
      "metadata": {
        "id": "LwQ4UYw-vkT_"
      },
      "execution_count": null,
      "outputs": []
    },
    {
      "cell_type": "code",
      "execution_count": null,
      "metadata": {
        "id": "thAxiLY0k53K",
        "colab": {
          "base_uri": "https://localhost:8080/"
        },
        "outputId": "478a5ab7-5223-4d94-e004-10ada8051671"
      },
      "outputs": [
        {
          "output_type": "stream",
          "name": "stderr",
          "text": [
            "[nltk_data] Downloading package stopwords to /root/nltk_data...\n",
            "[nltk_data]   Unzipping corpora/stopwords.zip.\n"
          ]
        }
      ],
      "source": [
        "import pandas as pd\n",
        "from sklearn.feature_extraction.text import TfidfVectorizer\n",
        "import nltk\n",
        "nltk.download('stopwords')\n",
        "\n",
        "n_features = 30\n",
        "df = pd.read_csv('SMS.tsv', sep='\\t')\n",
        "y = df['class'].apply(lambda y: 1 if y == 'ham' else -1)\n",
        "vectorizer = TfidfVectorizer(min_df=0.005, stop_words=nltk.corpus.stopwords.words('english'))\n",
        "features = vectorizer.fit_transform(df.iloc[:, 1])\n",
        "X = pd.DataFrame(features.todense(), columns=vectorizer.get_feature_names_out())"
      ]
    },
    {
      "cell_type": "code",
      "source": [
        "X"
      ],
      "metadata": {
        "colab": {
          "base_uri": "https://localhost:8080/",
          "height": 733
        },
        "id": "BiY1XxDJx9vH",
        "outputId": "07ea437e-525c-4530-ce26-cd23938f9f2b"
      },
      "execution_count": null,
      "outputs": [
        {
          "output_type": "execute_result",
          "data": {
            "text/plain": [
              "       10  100  1000  150p  150ppm   16   18  1st       2nd   50  ...  would  \\\n",
              "0     0.0  0.0   0.0   0.0     0.0  0.0  0.0  0.0  0.000000  0.0  ...    0.0   \n",
              "1     0.0  0.0   0.0   0.0     0.0  0.0  0.0  0.0  0.000000  0.0  ...    0.0   \n",
              "2     0.0  0.0   0.0   0.0     0.0  0.0  0.0  0.0  0.000000  0.0  ...    0.0   \n",
              "3     0.0  0.0   0.0   0.0     0.0  0.0  0.0  0.0  0.000000  0.0  ...    0.0   \n",
              "4     0.0  0.0   0.0   0.0     0.0  0.0  0.0  0.0  0.000000  0.0  ...    0.0   \n",
              "...   ...  ...   ...   ...     ...  ...  ...  ...       ...  ...  ...    ...   \n",
              "5567  0.0  0.0   0.0   0.0     0.0  0.0  0.0  0.0  0.363053  0.0  ...    0.0   \n",
              "5568  0.0  0.0   0.0   0.0     0.0  0.0  0.0  0.0  0.000000  0.0  ...    0.0   \n",
              "5569  0.0  0.0   0.0   0.0     0.0  0.0  0.0  0.0  0.000000  0.0  ...    0.0   \n",
              "5570  0.0  0.0   0.0   0.0     0.0  0.0  0.0  0.0  0.000000  0.0  ...    0.0   \n",
              "5571  0.0  0.0   0.0   0.0     0.0  0.0  0.0  0.0  0.000000  0.0  ...    0.0   \n",
              "\n",
              "      www  xxx   ya  yeah  year  yes  yet   yo  yup  \n",
              "0     0.0  0.0  0.0   0.0   0.0  0.0  0.0  0.0  0.0  \n",
              "1     0.0  0.0  0.0   0.0   0.0  0.0  0.0  0.0  0.0  \n",
              "2     0.0  0.0  0.0   0.0   0.0  0.0  0.0  0.0  0.0  \n",
              "3     0.0  0.0  0.0   0.0   0.0  0.0  0.0  0.0  0.0  \n",
              "4     0.0  0.0  0.0   0.0   0.0  0.0  0.0  0.0  0.0  \n",
              "...   ...  ...  ...   ...   ...  ...  ...  ...  ...  \n",
              "5567  0.0  0.0  0.0   0.0   0.0  0.0  0.0  0.0  0.0  \n",
              "5568  0.0  0.0  0.0   0.0   0.0  0.0  0.0  0.0  0.0  \n",
              "5569  0.0  0.0  0.0   0.0   0.0  0.0  0.0  0.0  0.0  \n",
              "5570  0.0  0.0  0.0   0.0   0.0  0.0  0.0  0.0  0.0  \n",
              "5571  0.0  0.0  0.0   0.0   0.0  0.0  0.0  0.0  0.0  \n",
              "\n",
              "[5572 rows x 327 columns]"
            ],
            "text/html": [
              "\n",
              "  <div id=\"df-91cf801a-8c28-4f77-b257-1177fd5b133f\" class=\"colab-df-container\">\n",
              "    <div>\n",
              "<style scoped>\n",
              "    .dataframe tbody tr th:only-of-type {\n",
              "        vertical-align: middle;\n",
              "    }\n",
              "\n",
              "    .dataframe tbody tr th {\n",
              "        vertical-align: top;\n",
              "    }\n",
              "\n",
              "    .dataframe thead th {\n",
              "        text-align: right;\n",
              "    }\n",
              "</style>\n",
              "<table border=\"1\" class=\"dataframe\">\n",
              "  <thead>\n",
              "    <tr style=\"text-align: right;\">\n",
              "      <th></th>\n",
              "      <th>10</th>\n",
              "      <th>100</th>\n",
              "      <th>1000</th>\n",
              "      <th>150p</th>\n",
              "      <th>150ppm</th>\n",
              "      <th>16</th>\n",
              "      <th>18</th>\n",
              "      <th>1st</th>\n",
              "      <th>2nd</th>\n",
              "      <th>50</th>\n",
              "      <th>...</th>\n",
              "      <th>would</th>\n",
              "      <th>www</th>\n",
              "      <th>xxx</th>\n",
              "      <th>ya</th>\n",
              "      <th>yeah</th>\n",
              "      <th>year</th>\n",
              "      <th>yes</th>\n",
              "      <th>yet</th>\n",
              "      <th>yo</th>\n",
              "      <th>yup</th>\n",
              "    </tr>\n",
              "  </thead>\n",
              "  <tbody>\n",
              "    <tr>\n",
              "      <th>0</th>\n",
              "      <td>0.0</td>\n",
              "      <td>0.0</td>\n",
              "      <td>0.0</td>\n",
              "      <td>0.0</td>\n",
              "      <td>0.0</td>\n",
              "      <td>0.0</td>\n",
              "      <td>0.0</td>\n",
              "      <td>0.0</td>\n",
              "      <td>0.000000</td>\n",
              "      <td>0.0</td>\n",
              "      <td>...</td>\n",
              "      <td>0.0</td>\n",
              "      <td>0.0</td>\n",
              "      <td>0.0</td>\n",
              "      <td>0.0</td>\n",
              "      <td>0.0</td>\n",
              "      <td>0.0</td>\n",
              "      <td>0.0</td>\n",
              "      <td>0.0</td>\n",
              "      <td>0.0</td>\n",
              "      <td>0.0</td>\n",
              "    </tr>\n",
              "    <tr>\n",
              "      <th>1</th>\n",
              "      <td>0.0</td>\n",
              "      <td>0.0</td>\n",
              "      <td>0.0</td>\n",
              "      <td>0.0</td>\n",
              "      <td>0.0</td>\n",
              "      <td>0.0</td>\n",
              "      <td>0.0</td>\n",
              "      <td>0.0</td>\n",
              "      <td>0.000000</td>\n",
              "      <td>0.0</td>\n",
              "      <td>...</td>\n",
              "      <td>0.0</td>\n",
              "      <td>0.0</td>\n",
              "      <td>0.0</td>\n",
              "      <td>0.0</td>\n",
              "      <td>0.0</td>\n",
              "      <td>0.0</td>\n",
              "      <td>0.0</td>\n",
              "      <td>0.0</td>\n",
              "      <td>0.0</td>\n",
              "      <td>0.0</td>\n",
              "    </tr>\n",
              "    <tr>\n",
              "      <th>2</th>\n",
              "      <td>0.0</td>\n",
              "      <td>0.0</td>\n",
              "      <td>0.0</td>\n",
              "      <td>0.0</td>\n",
              "      <td>0.0</td>\n",
              "      <td>0.0</td>\n",
              "      <td>0.0</td>\n",
              "      <td>0.0</td>\n",
              "      <td>0.000000</td>\n",
              "      <td>0.0</td>\n",
              "      <td>...</td>\n",
              "      <td>0.0</td>\n",
              "      <td>0.0</td>\n",
              "      <td>0.0</td>\n",
              "      <td>0.0</td>\n",
              "      <td>0.0</td>\n",
              "      <td>0.0</td>\n",
              "      <td>0.0</td>\n",
              "      <td>0.0</td>\n",
              "      <td>0.0</td>\n",
              "      <td>0.0</td>\n",
              "    </tr>\n",
              "    <tr>\n",
              "      <th>3</th>\n",
              "      <td>0.0</td>\n",
              "      <td>0.0</td>\n",
              "      <td>0.0</td>\n",
              "      <td>0.0</td>\n",
              "      <td>0.0</td>\n",
              "      <td>0.0</td>\n",
              "      <td>0.0</td>\n",
              "      <td>0.0</td>\n",
              "      <td>0.000000</td>\n",
              "      <td>0.0</td>\n",
              "      <td>...</td>\n",
              "      <td>0.0</td>\n",
              "      <td>0.0</td>\n",
              "      <td>0.0</td>\n",
              "      <td>0.0</td>\n",
              "      <td>0.0</td>\n",
              "      <td>0.0</td>\n",
              "      <td>0.0</td>\n",
              "      <td>0.0</td>\n",
              "      <td>0.0</td>\n",
              "      <td>0.0</td>\n",
              "    </tr>\n",
              "    <tr>\n",
              "      <th>4</th>\n",
              "      <td>0.0</td>\n",
              "      <td>0.0</td>\n",
              "      <td>0.0</td>\n",
              "      <td>0.0</td>\n",
              "      <td>0.0</td>\n",
              "      <td>0.0</td>\n",
              "      <td>0.0</td>\n",
              "      <td>0.0</td>\n",
              "      <td>0.000000</td>\n",
              "      <td>0.0</td>\n",
              "      <td>...</td>\n",
              "      <td>0.0</td>\n",
              "      <td>0.0</td>\n",
              "      <td>0.0</td>\n",
              "      <td>0.0</td>\n",
              "      <td>0.0</td>\n",
              "      <td>0.0</td>\n",
              "      <td>0.0</td>\n",
              "      <td>0.0</td>\n",
              "      <td>0.0</td>\n",
              "      <td>0.0</td>\n",
              "    </tr>\n",
              "    <tr>\n",
              "      <th>...</th>\n",
              "      <td>...</td>\n",
              "      <td>...</td>\n",
              "      <td>...</td>\n",
              "      <td>...</td>\n",
              "      <td>...</td>\n",
              "      <td>...</td>\n",
              "      <td>...</td>\n",
              "      <td>...</td>\n",
              "      <td>...</td>\n",
              "      <td>...</td>\n",
              "      <td>...</td>\n",
              "      <td>...</td>\n",
              "      <td>...</td>\n",
              "      <td>...</td>\n",
              "      <td>...</td>\n",
              "      <td>...</td>\n",
              "      <td>...</td>\n",
              "      <td>...</td>\n",
              "      <td>...</td>\n",
              "      <td>...</td>\n",
              "      <td>...</td>\n",
              "    </tr>\n",
              "    <tr>\n",
              "      <th>5567</th>\n",
              "      <td>0.0</td>\n",
              "      <td>0.0</td>\n",
              "      <td>0.0</td>\n",
              "      <td>0.0</td>\n",
              "      <td>0.0</td>\n",
              "      <td>0.0</td>\n",
              "      <td>0.0</td>\n",
              "      <td>0.0</td>\n",
              "      <td>0.363053</td>\n",
              "      <td>0.0</td>\n",
              "      <td>...</td>\n",
              "      <td>0.0</td>\n",
              "      <td>0.0</td>\n",
              "      <td>0.0</td>\n",
              "      <td>0.0</td>\n",
              "      <td>0.0</td>\n",
              "      <td>0.0</td>\n",
              "      <td>0.0</td>\n",
              "      <td>0.0</td>\n",
              "      <td>0.0</td>\n",
              "      <td>0.0</td>\n",
              "    </tr>\n",
              "    <tr>\n",
              "      <th>5568</th>\n",
              "      <td>0.0</td>\n",
              "      <td>0.0</td>\n",
              "      <td>0.0</td>\n",
              "      <td>0.0</td>\n",
              "      <td>0.0</td>\n",
              "      <td>0.0</td>\n",
              "      <td>0.0</td>\n",
              "      <td>0.0</td>\n",
              "      <td>0.000000</td>\n",
              "      <td>0.0</td>\n",
              "      <td>...</td>\n",
              "      <td>0.0</td>\n",
              "      <td>0.0</td>\n",
              "      <td>0.0</td>\n",
              "      <td>0.0</td>\n",
              "      <td>0.0</td>\n",
              "      <td>0.0</td>\n",
              "      <td>0.0</td>\n",
              "      <td>0.0</td>\n",
              "      <td>0.0</td>\n",
              "      <td>0.0</td>\n",
              "    </tr>\n",
              "    <tr>\n",
              "      <th>5569</th>\n",
              "      <td>0.0</td>\n",
              "      <td>0.0</td>\n",
              "      <td>0.0</td>\n",
              "      <td>0.0</td>\n",
              "      <td>0.0</td>\n",
              "      <td>0.0</td>\n",
              "      <td>0.0</td>\n",
              "      <td>0.0</td>\n",
              "      <td>0.000000</td>\n",
              "      <td>0.0</td>\n",
              "      <td>...</td>\n",
              "      <td>0.0</td>\n",
              "      <td>0.0</td>\n",
              "      <td>0.0</td>\n",
              "      <td>0.0</td>\n",
              "      <td>0.0</td>\n",
              "      <td>0.0</td>\n",
              "      <td>0.0</td>\n",
              "      <td>0.0</td>\n",
              "      <td>0.0</td>\n",
              "      <td>0.0</td>\n",
              "    </tr>\n",
              "    <tr>\n",
              "      <th>5570</th>\n",
              "      <td>0.0</td>\n",
              "      <td>0.0</td>\n",
              "      <td>0.0</td>\n",
              "      <td>0.0</td>\n",
              "      <td>0.0</td>\n",
              "      <td>0.0</td>\n",
              "      <td>0.0</td>\n",
              "      <td>0.0</td>\n",
              "      <td>0.000000</td>\n",
              "      <td>0.0</td>\n",
              "      <td>...</td>\n",
              "      <td>0.0</td>\n",
              "      <td>0.0</td>\n",
              "      <td>0.0</td>\n",
              "      <td>0.0</td>\n",
              "      <td>0.0</td>\n",
              "      <td>0.0</td>\n",
              "      <td>0.0</td>\n",
              "      <td>0.0</td>\n",
              "      <td>0.0</td>\n",
              "      <td>0.0</td>\n",
              "    </tr>\n",
              "    <tr>\n",
              "      <th>5571</th>\n",
              "      <td>0.0</td>\n",
              "      <td>0.0</td>\n",
              "      <td>0.0</td>\n",
              "      <td>0.0</td>\n",
              "      <td>0.0</td>\n",
              "      <td>0.0</td>\n",
              "      <td>0.0</td>\n",
              "      <td>0.0</td>\n",
              "      <td>0.000000</td>\n",
              "      <td>0.0</td>\n",
              "      <td>...</td>\n",
              "      <td>0.0</td>\n",
              "      <td>0.0</td>\n",
              "      <td>0.0</td>\n",
              "      <td>0.0</td>\n",
              "      <td>0.0</td>\n",
              "      <td>0.0</td>\n",
              "      <td>0.0</td>\n",
              "      <td>0.0</td>\n",
              "      <td>0.0</td>\n",
              "      <td>0.0</td>\n",
              "    </tr>\n",
              "  </tbody>\n",
              "</table>\n",
              "<p>5572 rows × 327 columns</p>\n",
              "</div>\n",
              "    <div class=\"colab-df-buttons\">\n",
              "\n",
              "  <div class=\"colab-df-container\">\n",
              "    <button class=\"colab-df-convert\" onclick=\"convertToInteractive('df-91cf801a-8c28-4f77-b257-1177fd5b133f')\"\n",
              "            title=\"Convert this dataframe to an interactive table.\"\n",
              "            style=\"display:none;\">\n",
              "\n",
              "  <svg xmlns=\"http://www.w3.org/2000/svg\" height=\"24px\" viewBox=\"0 -960 960 960\">\n",
              "    <path d=\"M120-120v-720h720v720H120Zm60-500h600v-160H180v160Zm220 220h160v-160H400v160Zm0 220h160v-160H400v160ZM180-400h160v-160H180v160Zm440 0h160v-160H620v160ZM180-180h160v-160H180v160Zm440 0h160v-160H620v160Z\"/>\n",
              "  </svg>\n",
              "    </button>\n",
              "\n",
              "  <style>\n",
              "    .colab-df-container {\n",
              "      display:flex;\n",
              "      gap: 12px;\n",
              "    }\n",
              "\n",
              "    .colab-df-convert {\n",
              "      background-color: #E8F0FE;\n",
              "      border: none;\n",
              "      border-radius: 50%;\n",
              "      cursor: pointer;\n",
              "      display: none;\n",
              "      fill: #1967D2;\n",
              "      height: 32px;\n",
              "      padding: 0 0 0 0;\n",
              "      width: 32px;\n",
              "    }\n",
              "\n",
              "    .colab-df-convert:hover {\n",
              "      background-color: #E2EBFA;\n",
              "      box-shadow: 0px 1px 2px rgba(60, 64, 67, 0.3), 0px 1px 3px 1px rgba(60, 64, 67, 0.15);\n",
              "      fill: #174EA6;\n",
              "    }\n",
              "\n",
              "    .colab-df-buttons div {\n",
              "      margin-bottom: 4px;\n",
              "    }\n",
              "\n",
              "    [theme=dark] .colab-df-convert {\n",
              "      background-color: #3B4455;\n",
              "      fill: #D2E3FC;\n",
              "    }\n",
              "\n",
              "    [theme=dark] .colab-df-convert:hover {\n",
              "      background-color: #434B5C;\n",
              "      box-shadow: 0px 1px 3px 1px rgba(0, 0, 0, 0.15);\n",
              "      filter: drop-shadow(0px 1px 2px rgba(0, 0, 0, 0.3));\n",
              "      fill: #FFFFFF;\n",
              "    }\n",
              "  </style>\n",
              "\n",
              "    <script>\n",
              "      const buttonEl =\n",
              "        document.querySelector('#df-91cf801a-8c28-4f77-b257-1177fd5b133f button.colab-df-convert');\n",
              "      buttonEl.style.display =\n",
              "        google.colab.kernel.accessAllowed ? 'block' : 'none';\n",
              "\n",
              "      async function convertToInteractive(key) {\n",
              "        const element = document.querySelector('#df-91cf801a-8c28-4f77-b257-1177fd5b133f');\n",
              "        const dataTable =\n",
              "          await google.colab.kernel.invokeFunction('convertToInteractive',\n",
              "                                                    [key], {});\n",
              "        if (!dataTable) return;\n",
              "\n",
              "        const docLinkHtml = 'Like what you see? Visit the ' +\n",
              "          '<a target=\"_blank\" href=https://colab.research.google.com/notebooks/data_table.ipynb>data table notebook</a>'\n",
              "          + ' to learn more about interactive tables.';\n",
              "        element.innerHTML = '';\n",
              "        dataTable['output_type'] = 'display_data';\n",
              "        await google.colab.output.renderOutput(dataTable, element);\n",
              "        const docLink = document.createElement('div');\n",
              "        docLink.innerHTML = docLinkHtml;\n",
              "        element.appendChild(docLink);\n",
              "      }\n",
              "    </script>\n",
              "  </div>\n",
              "\n",
              "\n",
              "<div id=\"df-b392c874-f3ba-41b8-92b0-6cc29bc64158\">\n",
              "  <button class=\"colab-df-quickchart\" onclick=\"quickchart('df-b392c874-f3ba-41b8-92b0-6cc29bc64158')\"\n",
              "            title=\"Suggest charts\"\n",
              "            style=\"display:none;\">\n",
              "\n",
              "<svg xmlns=\"http://www.w3.org/2000/svg\" height=\"24px\"viewBox=\"0 0 24 24\"\n",
              "     width=\"24px\">\n",
              "    <g>\n",
              "        <path d=\"M19 3H5c-1.1 0-2 .9-2 2v14c0 1.1.9 2 2 2h14c1.1 0 2-.9 2-2V5c0-1.1-.9-2-2-2zM9 17H7v-7h2v7zm4 0h-2V7h2v10zm4 0h-2v-4h2v4z\"/>\n",
              "    </g>\n",
              "</svg>\n",
              "  </button>\n",
              "\n",
              "<style>\n",
              "  .colab-df-quickchart {\n",
              "      --bg-color: #E8F0FE;\n",
              "      --fill-color: #1967D2;\n",
              "      --hover-bg-color: #E2EBFA;\n",
              "      --hover-fill-color: #174EA6;\n",
              "      --disabled-fill-color: #AAA;\n",
              "      --disabled-bg-color: #DDD;\n",
              "  }\n",
              "\n",
              "  [theme=dark] .colab-df-quickchart {\n",
              "      --bg-color: #3B4455;\n",
              "      --fill-color: #D2E3FC;\n",
              "      --hover-bg-color: #434B5C;\n",
              "      --hover-fill-color: #FFFFFF;\n",
              "      --disabled-bg-color: #3B4455;\n",
              "      --disabled-fill-color: #666;\n",
              "  }\n",
              "\n",
              "  .colab-df-quickchart {\n",
              "    background-color: var(--bg-color);\n",
              "    border: none;\n",
              "    border-radius: 50%;\n",
              "    cursor: pointer;\n",
              "    display: none;\n",
              "    fill: var(--fill-color);\n",
              "    height: 32px;\n",
              "    padding: 0;\n",
              "    width: 32px;\n",
              "  }\n",
              "\n",
              "  .colab-df-quickchart:hover {\n",
              "    background-color: var(--hover-bg-color);\n",
              "    box-shadow: 0 1px 2px rgba(60, 64, 67, 0.3), 0 1px 3px 1px rgba(60, 64, 67, 0.15);\n",
              "    fill: var(--button-hover-fill-color);\n",
              "  }\n",
              "\n",
              "  .colab-df-quickchart-complete:disabled,\n",
              "  .colab-df-quickchart-complete:disabled:hover {\n",
              "    background-color: var(--disabled-bg-color);\n",
              "    fill: var(--disabled-fill-color);\n",
              "    box-shadow: none;\n",
              "  }\n",
              "\n",
              "  .colab-df-spinner {\n",
              "    border: 2px solid var(--fill-color);\n",
              "    border-color: transparent;\n",
              "    border-bottom-color: var(--fill-color);\n",
              "    animation:\n",
              "      spin 1s steps(1) infinite;\n",
              "  }\n",
              "\n",
              "  @keyframes spin {\n",
              "    0% {\n",
              "      border-color: transparent;\n",
              "      border-bottom-color: var(--fill-color);\n",
              "      border-left-color: var(--fill-color);\n",
              "    }\n",
              "    20% {\n",
              "      border-color: transparent;\n",
              "      border-left-color: var(--fill-color);\n",
              "      border-top-color: var(--fill-color);\n",
              "    }\n",
              "    30% {\n",
              "      border-color: transparent;\n",
              "      border-left-color: var(--fill-color);\n",
              "      border-top-color: var(--fill-color);\n",
              "      border-right-color: var(--fill-color);\n",
              "    }\n",
              "    40% {\n",
              "      border-color: transparent;\n",
              "      border-right-color: var(--fill-color);\n",
              "      border-top-color: var(--fill-color);\n",
              "    }\n",
              "    60% {\n",
              "      border-color: transparent;\n",
              "      border-right-color: var(--fill-color);\n",
              "    }\n",
              "    80% {\n",
              "      border-color: transparent;\n",
              "      border-right-color: var(--fill-color);\n",
              "      border-bottom-color: var(--fill-color);\n",
              "    }\n",
              "    90% {\n",
              "      border-color: transparent;\n",
              "      border-bottom-color: var(--fill-color);\n",
              "    }\n",
              "  }\n",
              "</style>\n",
              "\n",
              "  <script>\n",
              "    async function quickchart(key) {\n",
              "      const quickchartButtonEl =\n",
              "        document.querySelector('#' + key + ' button');\n",
              "      quickchartButtonEl.disabled = true;  // To prevent multiple clicks.\n",
              "      quickchartButtonEl.classList.add('colab-df-spinner');\n",
              "      try {\n",
              "        const charts = await google.colab.kernel.invokeFunction(\n",
              "            'suggestCharts', [key], {});\n",
              "      } catch (error) {\n",
              "        console.error('Error during call to suggestCharts:', error);\n",
              "      }\n",
              "      quickchartButtonEl.classList.remove('colab-df-spinner');\n",
              "      quickchartButtonEl.classList.add('colab-df-quickchart-complete');\n",
              "    }\n",
              "    (() => {\n",
              "      let quickchartButtonEl =\n",
              "        document.querySelector('#df-b392c874-f3ba-41b8-92b0-6cc29bc64158 button');\n",
              "      quickchartButtonEl.style.display =\n",
              "        google.colab.kernel.accessAllowed ? 'block' : 'none';\n",
              "    })();\n",
              "  </script>\n",
              "</div>\n",
              "    </div>\n",
              "  </div>\n"
            ],
            "application/vnd.google.colaboratory.intrinsic+json": {
              "type": "dataframe",
              "variable_name": "X"
            }
          },
          "metadata": {},
          "execution_count": 5
        },
        {
          "output_type": "stream",
          "name": "stdout",
          "text": [
            "Warning: Total number of columns (327) exceeds max_columns (20) limiting to first (20) columns.\n",
            "Warning: Total number of columns (327) exceeds max_columns (20) limiting to first (20) columns.\n"
          ]
        }
      ]
    },
    {
      "cell_type": "markdown",
      "source": [
        "# Реализации"
      ],
      "metadata": {
        "id": "2g-M5Uh-ybqe"
      }
    },
    {
      "cell_type": "markdown",
      "source": [
        "## Losses"
      ],
      "metadata": {
        "id": "ecV00R5qyrp3"
      }
    },
    {
      "cell_type": "code",
      "source": [
        "import numpy as np\n",
        "\n",
        "\n",
        "def get_loss(loss_name):\n",
        "    match loss_name:\n",
        "        case 'linear':\n",
        "            return linear_loss\n",
        "        case 'logarithmic':\n",
        "            return logarithmic_loss\n",
        "        case 'square':\n",
        "            return square_loss\n",
        "        case 'sigmoid':\n",
        "            return sigmoid_loss\n",
        "        case _:\n",
        "            raise Exception('Unknown loss specified: '\n",
        "                            'linear, logarithmic, square or sigmoid are available.')\n",
        "\n",
        "\n",
        "def get_loss_gradient(loss_name):\n",
        "    match loss_name:\n",
        "        case 'linear':\n",
        "            return linear_loss_gradient\n",
        "        case 'logarithmic':\n",
        "            return logarithmic_loss_gradient\n",
        "        case 'square':\n",
        "            return square_loss_gradient\n",
        "        case 'sigmoid':\n",
        "            return sigmoid_loss_gradient\n",
        "        case _:\n",
        "            raise Exception('Unknown loss specified: '\n",
        "                            'linear, logarithmic, square or sigmoid are available.')\n",
        "\n",
        "\n",
        "def linear_loss(X, y, w):\n",
        "    value = 0\n",
        "    n = X.shape[0]\n",
        "    for i in range(n):\n",
        "        value += max(0, -np.dot(X.iloc[i], w) * y.iloc[i])\n",
        "    return value / n\n",
        "\n",
        "\n",
        "def logarithmic_loss(X, y, w):\n",
        "    value = 0\n",
        "    n = X.shape[0]\n",
        "    for i in range(n):\n",
        "        value += np.log2(1 + np.exp(-np.dot(X.iloc[i], w) * y.iloc[i]))\n",
        "    return value / n\n",
        "\n",
        "\n",
        "def square_loss(X, y, w):\n",
        "    value = 0\n",
        "    n = X.shape[0]\n",
        "    for i in range(n):\n",
        "        m = np.dot(X.iloc[i], w) * y.iloc[i]\n",
        "        value += (1 - m) * (1 - m)\n",
        "    return value / n\n",
        "\n",
        "\n",
        "def sigmoid_loss(X, y, w):\n",
        "    value = 0\n",
        "    n = X.shape[0]\n",
        "    for i in range(n):\n",
        "        value += 2 / (1 + np.exp(np.dot(X.iloc[i], w) * y.iloc[i]))\n",
        "    return value / n\n",
        "\n",
        "\n",
        "def linear_loss_gradient(X, y, w):\n",
        "    value = np.zeros(X.shape[1])\n",
        "    n = X.shape[0]\n",
        "    for i in range(n):\n",
        "        if np.dot(X.iloc[i], w) * y.iloc[i] <= 0:\n",
        "            value -= y.iloc[i] * X.iloc[i]\n",
        "    return value\n",
        "\n",
        "\n",
        "def logarithmic_loss_gradient(X, y, w):\n",
        "    value = np.zeros(X.shape[1])\n",
        "    n = X.shape[0]\n",
        "    for i in range(n):\n",
        "        value += X.iloc[i] * y.iloc[i] / (1 + np.exp(y.iloc[i] * np.dot(X.iloc[i], w)))\n",
        "    return -value\n",
        "\n",
        "\n",
        "def square_loss_gradient(X, y, w):\n",
        "    value = np.zeros(X.shape[1])\n",
        "    n = X.shape[0]\n",
        "    for i in range(n):\n",
        "        value -= 2 * y.iloc[i] * (1 - y.iloc[i] * np.dot(X.iloc[i], w)) * X.iloc[i]\n",
        "    return value\n",
        "\n",
        "\n",
        "def sigmoid_loss_gradient(X, y, w):\n",
        "    value = np.zeros(X.shape[1])\n",
        "    n = X.shape[0]\n",
        "    for i in range(n):\n",
        "        sigmoid = 1 / (1 + np.exp(y.iloc[i] * np.dot(X.iloc[i], w)))\n",
        "        value -= 2 * y.iloc[i] * sigmoid * (1 - sigmoid) * X.iloc[i]\n",
        "    return value\n"
      ],
      "metadata": {
        "id": "-vLQB4E6yKV4"
      },
      "execution_count": null,
      "outputs": []
    },
    {
      "cell_type": "markdown",
      "source": [
        "## GDClassifier"
      ],
      "metadata": {
        "id": "kx4-2nhGzWDU"
      }
    },
    {
      "cell_type": "code",
      "source": [
        "from numpy import dot\n",
        "\n",
        "class GDClassifier:\n",
        "    loss = None\n",
        "    loss_gradient = None\n",
        "    l1 = 0\n",
        "    l2 = 0\n",
        "    lr = 1e-4\n",
        "    epochs = 1\n",
        "    w = None\n",
        "\n",
        "    def __init__(self, lr, epochs, loss='linear', l1=0, l2=0):\n",
        "        self.loss = get_loss(loss)\n",
        "        self.loss_gradient = get_loss_gradient(loss)\n",
        "        self.l1 = l1\n",
        "        self.l2 = l2\n",
        "        self.lr = lr\n",
        "        self.epochs = epochs\n",
        "\n",
        "    def fit(self, X, y):\n",
        "        self.w = np.zeros(X.shape[1])\n",
        "        for epoch in range(self.epochs):\n",
        "            gradient = self.loss_gradient(X, y, self.w) + self.l1 * np.sign(self.w) + 2 * self.l2 * self.w\n",
        "            self.w -= self.lr * gradient\n",
        "\n",
        "    def predict(self, X):\n",
        "        return np.array([1 if dot(X.iloc[i], self.w) >= 0 else -1 for i in range(X.shape[0])])"
      ],
      "metadata": {
        "id": "2pRmVAT9yeHb"
      },
      "execution_count": null,
      "outputs": []
    },
    {
      "cell_type": "markdown",
      "source": [
        "## Features Extraction"
      ],
      "metadata": {
        "id": "HX8bMO0szYiV"
      }
    },
    {
      "cell_type": "code",
      "source": [
        "from sklearn.metrics import f1_score\n",
        "\n",
        "class EmbeddedFeatureSelector:\n",
        "    def __init__(self, lr, epochs, loss='linear', l1=0, l2=0):\n",
        "        self.classifier = GDClassifier(lr, epochs, loss, l1, l2)\n",
        "\n",
        "    def select_features(self, X, y, n_features):\n",
        "        self.classifier.fit(X, y)\n",
        "        feature_importance = self.classifier.w.apply(abs).sort_values(ascending=False)\n",
        "        return feature_importance[:n_features].index.values\n"
      ],
      "metadata": {
        "id": "nha6Z9VQyeiJ"
      },
      "execution_count": null,
      "outputs": []
    },
    {
      "cell_type": "code",
      "source": [
        "from sklearn.linear_model import SGDClassifier\n",
        "\n",
        "class WrapperFeatureSelector:\n",
        "    def __init__(self):\n",
        "        self.classifier = SGDClassifier()\n",
        "\n",
        "    def select_features(self, X, y, n_features):\n",
        "        features = set(X.columns.values)\n",
        "        selected_features = []\n",
        "        for i in range(n_features):\n",
        "            max_quality = 0\n",
        "            best_feature = None\n",
        "            for feature in features:\n",
        "                X_subset = X[selected_features + [feature]]\n",
        "                self.classifier.fit(X_subset, y)\n",
        "                quality = f1_score(y, self.classifier.predict(X_subset))\n",
        "                if quality > max_quality:\n",
        "                    max_quality = quality\n",
        "                    best_feature = feature\n",
        "            selected_features.append(best_feature)\n",
        "            features.remove(best_feature)\n",
        "        return selected_features\n"
      ],
      "metadata": {
        "id": "iUxduyBIyev2"
      },
      "execution_count": null,
      "outputs": []
    },
    {
      "cell_type": "code",
      "source": [
        "class FilterFeatureSelector:\n",
        "    def select_features(self, X, y, n_features):\n",
        "        features = X.columns\n",
        "        conditional_variance = pd.Series(np.zeros(features.size), index=features)\n",
        "        size = X.shape[0]\n",
        "        pos_size = y.loc[y == 1].size\n",
        "        neg_size = size - pos_size\n",
        "        for feature in features:\n",
        "            pos_sum = 0\n",
        "            pos_sqr_sum = 0\n",
        "            neg_sum = 0\n",
        "            neg_sqr_sum = 0\n",
        "            for i in range(size):\n",
        "                value = X[feature].iloc[i]\n",
        "                if y.iloc[i] == 1:\n",
        "                    pos_sum += value\n",
        "                    pos_sqr_sum += value * value\n",
        "                else:\n",
        "                    neg_sum += value\n",
        "                    neg_sqr_sum += value * value\n",
        "            pos_variance = pos_sqr_sum / pos_size - (pos_sum / pos_size) ** 2\n",
        "            neg_variance = neg_sqr_sum / neg_size - (neg_sum / neg_size) ** 2\n",
        "            conditional_variance[feature] = (pos_variance * pos_size + neg_variance * neg_size) / size\n",
        "        return conditional_variance.sort_values()[:n_features].index.values"
      ],
      "metadata": {
        "id": "FtBgOt3Yye6h"
      },
      "execution_count": null,
      "outputs": []
    },
    {
      "cell_type": "markdown",
      "source": [
        "## Примеры работ"
      ],
      "metadata": {
        "id": "MtMmwrqjz95i"
      }
    },
    {
      "cell_type": "code",
      "source": [
        "selector = EmbeddedFeatureSelector(lr=0.001, epochs=100)\n",
        "embedded_features = selector.select_features(X, y, n_features)\n",
        "print(embedded_features)"
      ],
      "metadata": {
        "colab": {
          "base_uri": "https://localhost:8080/"
        },
        "id": "sSF1ul-wzrWN",
        "outputId": "0591329e-95d8-4237-87b3-0260ecb0638e"
      },
      "execution_count": null,
      "outputs": [
        {
          "output_type": "stream",
          "name": "stdout",
          "text": [
            "['gt' 'lt' 'da' 'lor' '150p' 'later' 'ok' 'uk' 'come' 'www' '500' 'wat'\n",
            " 'gonna' 'way' 'yeah' '18' 'remember' 'lol' 'home' 'claim' 'co' 'ask'\n",
            " 'yup' '1000' 'happy' 'anything' 'said' 'dear' 'min' 'told']\n"
          ]
        }
      ]
    },
    {
      "cell_type": "code",
      "source": [
        "selector = WrapperFeatureSelector()\n",
        "wrapper_features = selector.select_features(X, y, n_features)\n",
        "print(wrapper_features)"
      ],
      "metadata": {
        "colab": {
          "base_uri": "https://localhost:8080/"
        },
        "id": "QHvY0a4X0Fua",
        "outputId": "94714ac4-a556-473e-c800-68bb768a30ab"
      },
      "execution_count": null,
      "outputs": [
        {
          "output_type": "stream",
          "name": "stdout",
          "text": [
            "['txt', 'claim', 'mobile', 'www', 'service', '150p', '16', '50', 'video', 'landline', 'ringtone', 'uk', 'rate', 'code', 'prize', 'nokia', '500', 'gt', 'ill', '18', 'apply', 'car', 'work', 'pa', 'something', 'afternoon', 'better', 'probably', 'fine', 'leh']\n"
          ]
        }
      ]
    },
    {
      "cell_type": "code",
      "source": [
        "selector = FilterFeatureSelector()\n",
        "filter_features = selector.select_features(X, y, n_features)\n",
        "print(filter_features)"
      ],
      "metadata": {
        "colab": {
          "base_uri": "https://localhost:8080/"
        },
        "id": "JT1I77jb0U7Y",
        "outputId": "2e92038d-963c-4721-db12-24fb42ea3b18"
      },
      "execution_count": null,
      "outputs": [
        {
          "output_type": "stream",
          "name": "stdout",
          "text": [
            "['1st' '150ppm' 'network' 'rate' 'landline' 'texts' '16' 'apply' 'cs'\n",
            " 'video' '1000' 'po' 'orange' '500' 'selected' 'guaranteed' 'awarded'\n",
            " 'box' 'latest' 'camera' 'leh' 'kiss' 'easy' '2nd' 'everything' 'offer'\n",
            " 'afternoon' '18' '100' 'code']\n"
          ]
        }
      ]
    },
    {
      "cell_type": "markdown",
      "source": [
        "# Библиотечные методы"
      ],
      "metadata": {
        "id": "Ms3GzQLZ0vPU"
      }
    },
    {
      "cell_type": "code",
      "source": [
        "from sklearn.feature_selection import SelectFromModel\n",
        "from sklearn.tree import DecisionTreeClassifier\n",
        "\n",
        "selector = SelectFromModel(estimator=DecisionTreeClassifier(), max_features=n_features)\n",
        "selector.fit(X, y)\n",
        "sklearn_embedded_features = selector.get_feature_names_out()\n",
        "print(sklearn_embedded_features)"
      ],
      "metadata": {
        "colab": {
          "base_uri": "https://localhost:8080/"
        },
        "id": "m5WGxIu20w8R",
        "outputId": "f999d3ac-9109-42a6-8d15-f193738ae7c8"
      },
      "execution_count": null,
      "outputs": [
        {
          "output_type": "stream",
          "name": "stdout",
          "text": [
            "['150p' '18' '50' 'call' 'chat' 'claim' 'da' 'free' 'get' 'give' 'got'\n",
            " 'gt' 'home' 'min' 'mobile' 'new' 'nokia' 'real' 'ringtone' 'service'\n",
            " 'sms' 'stop' 'tell' 'text' 'txt' 'uk' 'us' 'win' 'work' 'www']\n"
          ]
        }
      ]
    },
    {
      "cell_type": "code",
      "source": [
        "from sklearn.feature_selection import RFE\n",
        "from sklearn.svm import LinearSVC\n",
        "\n",
        "selector = RFE(estimator=LinearSVC(dual='auto'), n_features_to_select=n_features)\n",
        "selector.fit(X, y)\n",
        "sklearn_wrapper_features = selector.get_feature_names_out()\n",
        "print(sklearn_wrapper_features)"
      ],
      "metadata": {
        "colab": {
          "base_uri": "https://localhost:8080/"
        },
        "id": "DFNKqhcX1Pvj",
        "outputId": "bb6a8c24-af09-46ff-9a8c-24144db89571"
      },
      "execution_count": null,
      "outputs": [
        {
          "output_type": "stream",
          "name": "stdout",
          "text": [
            "['100' '1000' '150p' '16' '18' '50' '500' 'apply' 'awarded' 'chat' 'claim'\n",
            " 'code' 'friends' 'gt' 'landline' 'latest' 'mobile' 'nokia' 'orange' 'per'\n",
            " 'prize' 'rate' 'ringtone' 'service' 'tone' 'txt' 'uk' 'urgent' 'video'\n",
            " 'www']\n"
          ]
        }
      ]
    },
    {
      "cell_type": "code",
      "source": [
        "from sklearn.feature_selection import SelectKBest\n",
        "\n",
        "selector = SelectKBest(k=n_features)\n",
        "selector.fit(X, y)\n",
        "sklearn_filter_features = selector.get_feature_names_out()\n",
        "print(sklearn_filter_features)"
      ],
      "metadata": {
        "colab": {
          "base_uri": "https://localhost:8080/"
        },
        "id": "ieIhcTju1T6_",
        "outputId": "217c1e27-6c49-4897-f0e8-4fcab5d61b18"
      },
      "execution_count": null,
      "outputs": [
        {
          "output_type": "stream",
          "name": "stdout",
          "text": [
            "['100' '1000' '150p' '150ppm' '16' '18' '50' '500' 'awarded' 'call' 'cash'\n",
            " 'claim' 'co' 'contact' 'cs' 'free' 'guaranteed' 'mobile' 'nokia' 'prize'\n",
            " 'reply' 'service' 'stop' 'text' 'tone' 'txt' 'uk' 'urgent' 'win' 'www']\n"
          ]
        }
      ]
    },
    {
      "cell_type": "markdown",
      "source": [
        "# Сравнение"
      ],
      "metadata": {
        "id": "h8aLtJzW1dh9"
      }
    },
    {
      "cell_type": "code",
      "source": [
        "embedded_intersection = set(embedded_features) & set(sklearn_embedded_features)\n",
        "print(f'Embedded methods - {len(embedded_intersection)} matched:\\n{embedded_intersection=}\\n')\n",
        "\n",
        "wrapper_intersection = set(wrapper_features) & set(sklearn_wrapper_features)\n",
        "print(f'Wrapper methods - {len(wrapper_intersection)} matched:\\n{wrapper_intersection=}\\n')\n",
        "\n",
        "filter_intersection = set(filter_features) & set(sklearn_filter_features)\n",
        "print(f'Filter methods - {len(filter_intersection)} matched:\\n{filter_intersection=}\\n')"
      ],
      "metadata": {
        "colab": {
          "base_uri": "https://localhost:8080/"
        },
        "id": "lEiyoyK31ZdM",
        "outputId": "0e4d492a-d101-4e5a-db2f-efe369ccc41b"
      },
      "execution_count": null,
      "outputs": [
        {
          "output_type": "stream",
          "name": "stdout",
          "text": [
            "Embedded methods - 9 matched:\n",
            "embedded_intersection={'150p', 'www', 'min', 'home', 'gt', 'da', 'uk', '18', 'claim'}\n",
            "\n",
            "Wrapper methods - 20 matched:\n",
            "wrapper_intersection={'50', 'ringtone', 'prize', 'apply', 'www', 'service', 'rate', 'uk', '150p', 'landline', '500', 'video', 'txt', 'nokia', 'mobile', 'gt', 'code', '16', '18', 'claim'}\n",
            "\n",
            "Filter methods - 9 matched:\n",
            "filter_intersection={'cs', 'guaranteed', '500', '100', 'awarded', '16', '18', '1000', '150ppm'}\n",
            "\n"
          ]
        }
      ]
    },
    {
      "cell_type": "markdown",
      "source": [
        "# Изменение качества"
      ],
      "metadata": {
        "id": "D42n3syM2JEs"
      }
    },
    {
      "cell_type": "code",
      "source": [
        "from sklearn.model_selection import train_test_split\n",
        "\n",
        "train_size = 0.8\n",
        "selected_features = {'embedded': embedded_features, 'wrapper': wrapper_features, 'filter': filter_features}\n",
        "X_train, X_test, y_train, y_test = train_test_split(X, y, train_size=train_size)"
      ],
      "metadata": {
        "id": "9O5vKyh41hZL"
      },
      "execution_count": null,
      "outputs": []
    },
    {
      "cell_type": "code",
      "source": [
        "classifier = SGDClassifier()\n",
        "classifier.fit(X_train, y_train)\n",
        "print(f'Before:  {f1_score(y_test, classifier.predict(X_test))}')\n",
        "for (method, features) in selected_features.items():\n",
        "    X_subset_train = X_train[features]\n",
        "    X_subset_test = X_test[features]\n",
        "    classifier.fit(X_subset_train, y_train)\n",
        "    print(f'After {method}: {f1_score(y_test, classifier.predict(X_subset_test))}')"
      ],
      "metadata": {
        "colab": {
          "base_uri": "https://localhost:8080/"
        },
        "id": "b46shFWN2cU1",
        "outputId": "14e31376-01d6-4632-8562-1d9ce4b9f748"
      },
      "execution_count": null,
      "outputs": [
        {
          "output_type": "stream",
          "name": "stdout",
          "text": [
            "Before:  0.9886714727085479\n",
            "After embedded: 0.9627791563275434\n",
            "After wrapper: 0.9831546707503829\n",
            "After filter: 0.9635182408795602\n"
          ]
        }
      ]
    },
    {
      "cell_type": "code",
      "source": [
        "classifier = DecisionTreeClassifier()\n",
        "classifier.fit(X_train, y_train)\n",
        "print(f'Before:  {f1_score(y_test, classifier.predict(X_test))}')\n",
        "for (method, features) in selected_features.items():\n",
        "    X_subset_train = X_train[features]\n",
        "    X_subset_test = X_test[features]\n",
        "    classifier.fit(X_subset_train, y_train)\n",
        "    print(f'After {method}: {f1_score(y_test, classifier.predict(X_subset_test))}')"
      ],
      "metadata": {
        "colab": {
          "base_uri": "https://localhost:8080/"
        },
        "id": "XsUmoxje24fC",
        "outputId": "a7ee01e0-dbae-4dcb-f9d6-176b801e9471"
      },
      "execution_count": null,
      "outputs": [
        {
          "output_type": "stream",
          "name": "stdout",
          "text": [
            "Before:  0.9808587687532333\n",
            "After embedded: 0.9627051218299354\n",
            "After wrapper: 0.9811704834605598\n",
            "After filter: 0.9639278557114228\n"
          ]
        }
      ]
    },
    {
      "cell_type": "code",
      "source": [
        "from sklearn.neighbors import KNeighborsClassifier\n",
        "\n",
        "classifier = KNeighborsClassifier(n_jobs=1)\n",
        "classifier.fit(X_train, y_train)\n",
        "print(f'Before:  {f1_score(y_test, classifier.predict(X_test))}')\n",
        "for (method, features) in selected_features.items():\n",
        "    X_subset_train = X_train[features]\n",
        "    X_subset_test = X_test[features]\n",
        "    classifier.fit(X_subset_train, y_train)\n",
        "    print(f'After {method}: {f1_score(y_test, classifier.predict(X_subset_test))}')"
      ],
      "metadata": {
        "colab": {
          "base_uri": "https://localhost:8080/"
        },
        "id": "JuAHc4Sb24Ue",
        "outputId": "addfed2a-d39f-47b5-8ae6-284c01563ffd"
      },
      "execution_count": null,
      "outputs": [
        {
          "output_type": "stream",
          "name": "stdout",
          "text": [
            "Before:  0.9762985375693394\n",
            "After embedded: 0.9637357178340785\n",
            "After wrapper: 0.9831546707503829\n",
            "After filter: 0.9634085213032582\n"
          ]
        }
      ]
    },
    {
      "cell_type": "code",
      "source": [],
      "metadata": {
        "id": "bSVehyTu4Fvu"
      },
      "execution_count": null,
      "outputs": []
    }
  ]
}