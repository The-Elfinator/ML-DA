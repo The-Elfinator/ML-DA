{
  "nbformat": 4,
  "nbformat_minor": 0,
  "metadata": {
    "colab": {
      "provenance": []
    },
    "kernelspec": {
      "name": "python3",
      "display_name": "Python 3"
    },
    "language_info": {
      "name": "python"
    }
  },
  "cells": [
    {
      "cell_type": "code",
      "source": [
        "!pip install optuna"
      ],
      "metadata": {
        "colab": {
          "base_uri": "https://localhost:8080/"
        },
        "id": "RtJep_d3grlN",
        "outputId": "3bd523df-6486-4b39-fbe9-67ae6d260d5c"
      },
      "execution_count": null,
      "outputs": [
        {
          "output_type": "stream",
          "name": "stdout",
          "text": [
            "Requirement already satisfied: optuna in /usr/local/lib/python3.10/dist-packages (4.0.0)\n",
            "Requirement already satisfied: alembic>=1.5.0 in /usr/local/lib/python3.10/dist-packages (from optuna) (1.13.3)\n",
            "Requirement already satisfied: colorlog in /usr/local/lib/python3.10/dist-packages (from optuna) (6.8.2)\n",
            "Requirement already satisfied: numpy in /usr/local/lib/python3.10/dist-packages (from optuna) (1.26.4)\n",
            "Requirement already satisfied: packaging>=20.0 in /usr/local/lib/python3.10/dist-packages (from optuna) (24.1)\n",
            "Requirement already satisfied: sqlalchemy>=1.3.0 in /usr/local/lib/python3.10/dist-packages (from optuna) (2.0.35)\n",
            "Requirement already satisfied: tqdm in /usr/local/lib/python3.10/dist-packages (from optuna) (4.66.5)\n",
            "Requirement already satisfied: PyYAML in /usr/local/lib/python3.10/dist-packages (from optuna) (6.0.2)\n",
            "Requirement already satisfied: Mako in /usr/local/lib/python3.10/dist-packages (from alembic>=1.5.0->optuna) (1.3.5)\n",
            "Requirement already satisfied: typing-extensions>=4 in /usr/local/lib/python3.10/dist-packages (from alembic>=1.5.0->optuna) (4.12.2)\n",
            "Requirement already satisfied: greenlet!=0.4.17 in /usr/local/lib/python3.10/dist-packages (from sqlalchemy>=1.3.0->optuna) (3.1.1)\n",
            "Requirement already satisfied: MarkupSafe>=0.9.2 in /usr/local/lib/python3.10/dist-packages (from Mako->alembic>=1.5.0->optuna) (3.0.1)\n"
          ]
        }
      ]
    },
    {
      "cell_type": "markdown",
      "source": [
        "# Датасет"
      ],
      "metadata": {
        "id": "2rkF4G9YpnMv"
      }
    },
    {
      "cell_type": "code",
      "source": [
        "!cp drive/MyDrive/us_cities.csv ./us_cities.csv"
      ],
      "metadata": {
        "id": "J_sXL-Z6eInI"
      },
      "execution_count": null,
      "outputs": []
    },
    {
      "cell_type": "code",
      "execution_count": null,
      "metadata": {
        "id": "_l38FRlNuNz-",
        "colab": {
          "base_uri": "https://localhost:8080/"
        },
        "outputId": "10a01174-e839-43c7-df13-61599b719923"
      },
      "outputs": [
        {
          "output_type": "stream",
          "name": "stdout",
          "text": [
            "<class 'pandas.core.frame.DataFrame'>\n",
            "RangeIndex: 14648 entries, 0 to 14647\n",
            "Data columns (total 23 columns):\n",
            " #   Column                 Non-Null Count  Dtype  \n",
            "---  ------                 --------------  -----  \n",
            " 0   Latitude               14648 non-null  float64\n",
            " 1   Longitude              14648 non-null  float64\n",
            " 2   Population             14648 non-null  float64\n",
            " 3   Asian                  14648 non-null  float64\n",
            " 4   White                  14648 non-null  float64\n",
            " 5   Black                  14648 non-null  float64\n",
            " 6   Indian                 14648 non-null  float64\n",
            " 7   Hispanic               14648 non-null  float64\n",
            " 8   Hawaiian               14648 non-null  float64\n",
            " 9   Other                  14648 non-null  float64\n",
            " 10  Females                14648 non-null  float64\n",
            " 11  Males                  14648 non-null  float64\n",
            " 12  Median_age             14648 non-null  float64\n",
            " 13  Median_female_age      14648 non-null  float64\n",
            " 14  Median_male_age        14648 non-null  float64\n",
            " 15  Households             14648 non-null  float64\n",
            " 16  Persons_per_household  14648 non-null  float64\n",
            " 17  Household_income       14648 non-null  float64\n",
            " 18  Total_area             14648 non-null  float64\n",
            " 19  Land_area              14648 non-null  float64\n",
            " 20  Water_area             14648 non-null  float64\n",
            " 21  Elevation              14648 non-null  float64\n",
            " 22  Density                14648 non-null  float64\n",
            "dtypes: float64(23)\n",
            "memory usage: 2.6 MB\n",
            "None\n",
            "<class 'pandas.core.frame.DataFrame'>\n",
            "Index: 11718 entries, 12023 to 609\n",
            "Data columns (total 23 columns):\n",
            " #   Column                 Non-Null Count  Dtype  \n",
            "---  ------                 --------------  -----  \n",
            " 0   Latitude               11718 non-null  float64\n",
            " 1   Longitude              11718 non-null  float64\n",
            " 2   Population             11718 non-null  float64\n",
            " 3   Asian                  11718 non-null  float64\n",
            " 4   White                  11718 non-null  float64\n",
            " 5   Black                  11718 non-null  float64\n",
            " 6   Indian                 11718 non-null  float64\n",
            " 7   Hispanic               11718 non-null  float64\n",
            " 8   Hawaiian               11718 non-null  float64\n",
            " 9   Other                  11718 non-null  float64\n",
            " 10  Females                11718 non-null  float64\n",
            " 11  Males                  11718 non-null  float64\n",
            " 12  Median_age             11718 non-null  float64\n",
            " 13  Median_female_age      11718 non-null  float64\n",
            " 14  Median_male_age        11718 non-null  float64\n",
            " 15  Households             11718 non-null  float64\n",
            " 16  Persons_per_household  11718 non-null  float64\n",
            " 17  Household_income       11718 non-null  float64\n",
            " 18  Total_area             11718 non-null  float64\n",
            " 19  Land_area              11718 non-null  float64\n",
            " 20  Water_area             11718 non-null  float64\n",
            " 21  Elevation              11718 non-null  float64\n",
            " 22  Density                11718 non-null  float64\n",
            "dtypes: float64(23)\n",
            "memory usage: 2.1 MB\n",
            "None\n",
            "<class 'pandas.core.frame.DataFrame'>\n",
            "Index: 2930 entries, 462 to 3054\n",
            "Data columns (total 23 columns):\n",
            " #   Column                 Non-Null Count  Dtype  \n",
            "---  ------                 --------------  -----  \n",
            " 0   Latitude               2930 non-null   float64\n",
            " 1   Longitude              2930 non-null   float64\n",
            " 2   Population             2930 non-null   float64\n",
            " 3   Asian                  2930 non-null   float64\n",
            " 4   White                  2930 non-null   float64\n",
            " 5   Black                  2930 non-null   float64\n",
            " 6   Indian                 2930 non-null   float64\n",
            " 7   Hispanic               2930 non-null   float64\n",
            " 8   Hawaiian               2930 non-null   float64\n",
            " 9   Other                  2930 non-null   float64\n",
            " 10  Females                2930 non-null   float64\n",
            " 11  Males                  2930 non-null   float64\n",
            " 12  Median_age             2930 non-null   float64\n",
            " 13  Median_female_age      2930 non-null   float64\n",
            " 14  Median_male_age        2930 non-null   float64\n",
            " 15  Households             2930 non-null   float64\n",
            " 16  Persons_per_household  2930 non-null   float64\n",
            " 17  Household_income       2930 non-null   float64\n",
            " 18  Total_area             2930 non-null   float64\n",
            " 19  Land_area              2930 non-null   float64\n",
            " 20  Water_area             2930 non-null   float64\n",
            " 21  Elevation              2930 non-null   float64\n",
            " 22  Density                2930 non-null   float64\n",
            "dtypes: float64(23)\n",
            "memory usage: 549.4 KB\n",
            "None\n",
            "<class 'pandas.core.series.Series'>\n",
            "Index: 11718 entries, 12023 to 609\n",
            "Series name: None\n",
            "Non-Null Count  Dtype\n",
            "--------------  -----\n",
            "11718 non-null  int64\n",
            "dtypes: int64(1)\n",
            "memory usage: 183.1 KB\n",
            "None\n",
            "<class 'pandas.core.series.Series'>\n",
            "Index: 2930 entries, 462 to 3054\n",
            "Series name: None\n",
            "Non-Null Count  Dtype\n",
            "--------------  -----\n",
            "2930 non-null   int64\n",
            "dtypes: int64(1)\n",
            "memory usage: 45.8 KB\n",
            "None\n"
          ]
        }
      ],
      "source": [
        "import pandas as pd\n",
        "import numpy as np\n",
        "from sklearn.model_selection import train_test_split\n",
        "\n",
        "feature = 'State'\n",
        "train_ratio = 0.8\n",
        "\n",
        "df = pd.read_csv('us_cities.csv')\n",
        "df = df.dropna(ignore_index=True)\n",
        "target = pd.Series(pd.factorize(df[feature])[0])\n",
        "df = df.iloc[:, 6:]\n",
        "for column in df:\n",
        "    mean = df[column].mean()\n",
        "    std = df[column].std()\n",
        "    outliers = np.where((df[column] - mean) / std >= 3)[0]\n",
        "    df = df.drop(index=outliers).reset_index(drop=True)\n",
        "    target = target.drop(index=outliers).reset_index(drop=True)\n",
        "\n",
        "df = (df - df.mean()) / df.std()\n",
        "print(df.info())\n",
        "X_train, X_test, y_train, y_test = train_test_split(df, target, train_size=train_ratio)\n",
        "print(X_train.info())\n",
        "print(X_test.info())\n",
        "print(y_train.info())\n",
        "print(y_test.info())"
      ]
    },
    {
      "cell_type": "markdown",
      "source": [
        "# Вспомогательные функции для ядер и метрик"
      ],
      "metadata": {
        "id": "34A5LM_ipqoH"
      }
    },
    {
      "cell_type": "code",
      "source": [
        "def get_kernel(kernel_name, a=1, b=1):\n",
        "    match kernel_name:\n",
        "        case 'uniform':\n",
        "            return lambda x: 0.5 * (1 if x < 1 else 0)\n",
        "        case 'gaussian':\n",
        "            return lambda x: 1 / np.sqrt(2 * np.pi) * np.exp(- x * x / 2)\n",
        "        case 'triangular':\n",
        "            return lambda x: (1 - np.abs(x)) * (1 if x < 1 else 0)\n",
        "        case 'epanechnikov':\n",
        "            return lambda x: 0.75 * (1 - x ** 2) * (1 if x < 1 else 0)\n",
        "        case 'biquadratic':\n",
        "            return lambda x: 0.9375 * (1 - x ** 2) ** 2 * (1 if x < 1 else 0)\n",
        "        case 'common':\n",
        "            return lambda x: (1 - np.abs(x) ** a) ** b * (1 if x < 1 else 0)\n",
        "        case _:\n",
        "            raise Exception('Unknown kernel specified: '\n",
        "                            'uniform, gaussian, triangular, epanechnikov, biquadratic or common are available.')"
      ],
      "metadata": {
        "id": "WVxZ8s8HkmMs"
      },
      "execution_count": null,
      "outputs": []
    },
    {
      "cell_type": "code",
      "source": [
        "from sklearn.metrics import DistanceMetric\n",
        "\n",
        "\n",
        "def get_metric(metric_name, p=2):\n",
        "    if metric_name == 'minkowski':\n",
        "        return DistanceMetric.get_metric('minkowski', p=p)\n",
        "    elif metric_name == 'cosine':\n",
        "        return DistanceMetric.get_metric(\n",
        "            'pyfunc',\n",
        "            func=lambda x, y: 1 - np.inner(x, y) / (np.linalg.norm(x) * np.linalg.norm(y))\n",
        "        )\n",
        "    elif metric_name in ['manhattan', 'euclidean', 'chebyshev', 'minkowski']:\n",
        "        return DistanceMetric.get_metric(metric_name)\n",
        "    else:\n",
        "        raise Exception('Unknown metric specified: '\n",
        "                        'manhattan, euclidean, chebyshev, minkowski or cosine are available.')"
      ],
      "metadata": {
        "id": "58-HI1RBkuqT"
      },
      "execution_count": null,
      "outputs": []
    },
    {
      "cell_type": "markdown",
      "source": [
        "# Реализация kNN"
      ],
      "metadata": {
        "id": "oH_hGiQppwWJ"
      }
    },
    {
      "cell_type": "code",
      "source": [
        "from sklearn.neighbors import BallTree\n",
        "\n",
        "\n",
        "class KnnClassifier:\n",
        "    neighbors_number = 1\n",
        "    window_type = None\n",
        "    h = 1\n",
        "    kernel_function = None\n",
        "    metric = None\n",
        "    tree = None\n",
        "    values = None\n",
        "    weights = None\n",
        "    features_number = 0\n",
        "\n",
        "    def __init__(self,\n",
        "                 neighbors_number,\n",
        "                 window_type='unfixed',\n",
        "                 h=1,\n",
        "                 kernel='uniform',\n",
        "                 a=1,\n",
        "                 b=1,\n",
        "                 metric='minkowski',\n",
        "                 p=2):\n",
        "        self.neighbors_number = neighbors_number\n",
        "        if window_type not in ['fixed', 'unfixed']:\n",
        "            raise Exception('Unknown window type specified: fixed or unfixed are available.')\n",
        "        self.window_type = window_type\n",
        "        self.h = h\n",
        "        self.metric = get_metric(metric, p)\n",
        "        self.kernel_function = get_kernel(kernel, a, b)\n",
        "\n",
        "    def fit(self, X, y, w=None):\n",
        "        self.tree = BallTree(X, metric=self.metric)\n",
        "        self.values = y\n",
        "        self.weights = w\n",
        "        self.features_number = len(y.unique())\n",
        "\n",
        "    def predict(self, X):\n",
        "        preds = [0.0] * X.shape[0]\n",
        "        for i in range(X.shape[0]):\n",
        "            if self.window_type == 'fixed':\n",
        "                ind, dist = self.tree.query_radius([X.iloc[i].values], self.h, return_distance=True)\n",
        "                ind, dist = ind[0], dist[0]\n",
        "                h = self.h\n",
        "            else:\n",
        "                dist, ind = self.tree.query([X.iloc[i].values], self.neighbors_number + 1, return_distance=True)\n",
        "                dist, ind = dist[0], ind[0]\n",
        "                h = dist[-1]\n",
        "            feature_factors = [0.0] * self.features_number\n",
        "\n",
        "            for j, k in enumerate(ind):\n",
        "                try:\n",
        "                    weight = 1 if self.weights is None else self.weights[k]\n",
        "                    factor = self.kernel_function(dist[j] / h) * weight\n",
        "                    feature_factors[self.values.iloc[k]-1] += factor\n",
        "                except IndexError:\n",
        "                    raise IndexError(\"Index error occurred in section with weights\")\n",
        "            preds[i] = np.argmax(feature_factors)\n",
        "        return preds"
      ],
      "metadata": {
        "id": "nZ6C3MmlkgMm"
      },
      "execution_count": null,
      "outputs": []
    },
    {
      "cell_type": "markdown",
      "source": [
        "# Подбор гиперпараметров"
      ],
      "metadata": {
        "id": "__HKYR0zqE7O"
      }
    },
    {
      "cell_type": "code",
      "source": [
        "import optuna\n",
        "from sklearn.metrics import accuracy_score\n",
        "\n",
        "train_size = int(X_train.shape[0] * train_ratio)\n",
        "train_data = X_train[: train_size]\n",
        "valid_data = X_train[train_size:]\n",
        "train_target = y_train[: train_size]\n",
        "valid_target = y_train[train_size :]"
      ],
      "metadata": {
        "id": "is_SsK0aueGx"
      },
      "execution_count": null,
      "outputs": []
    },
    {
      "cell_type": "code",
      "source": [
        "def my_objective(trial):\n",
        "    neighbors = trial.suggest_int('neighbors', 1, 50, log=True)\n",
        "    window = trial.suggest_categorical('window', ['fixed', 'unfixed'])\n",
        "    kernel = trial.suggest_categorical('kernel', ['uniform', 'gaussian', 'common'])\n",
        "    metric = trial.suggest_categorical('metric', ['minkowski', 'chebyshev', 'cosine'])\n",
        "    h, a, b, p = 1, 1, 1, 1\n",
        "    if window == 'fixed':\n",
        "        h = trial.suggest_float('h', 1e-2, 1e2, log=True)\n",
        "    if kernel == 'common':\n",
        "        a = trial.suggest_int('a', 1, 4)\n",
        "        b = trial.suggest_int('b', 1, 4)\n",
        "    if metric == 'minkowski':\n",
        "        p = trial.suggest_int('p', 1, 4)\n",
        "    classifier = KnnClassifier(neighbors, window, h, kernel, a, b, metric, p)\n",
        "    classifier.fit(train_data, train_target)\n",
        "    return accuracy_score(valid_target, classifier.predict(valid_data))\n",
        "\n",
        "study = optuna.create_study(direction='maximize')\n",
        "study.optimize(my_objective, n_trials=100)\n",
        "print(study.best_params)"
      ],
      "metadata": {
        "colab": {
          "base_uri": "https://localhost:8080/"
        },
        "id": "wgFDM3t0goqK",
        "outputId": "dc77d74c-cf4a-4a0f-e33b-ce09843b0c76",
        "collapsed": true
      },
      "execution_count": null,
      "outputs": [
        {
          "output_type": "stream",
          "name": "stderr",
          "text": [
            "[I 2024-10-16 21:40:09,137] A new study created in memory with name: no-name-2ccf61f4-cb1d-4b5f-adfa-d4031bf9f2ba\n",
            "[I 2024-10-16 21:40:10,663] Trial 0 finished with value: 0.0 and parameters: {'neighbors': 7, 'window': 'fixed', 'kernel': 'gaussian', 'metric': 'minkowski', 'h': 0.0842992866468662, 'p': 2}. Best is trial 0 with value: 0.0.\n",
            "[I 2024-10-16 21:40:12,163] Trial 1 finished with value: 0.0 and parameters: {'neighbors': 2, 'window': 'fixed', 'kernel': 'common', 'metric': 'minkowski', 'h': 0.05901378695597417, 'a': 4, 'b': 1, 'p': 1}. Best is trial 0 with value: 0.0.\n",
            "[I 2024-10-16 21:40:30,743] Trial 2 finished with value: 0.014931740614334471 and parameters: {'neighbors': 4, 'window': 'unfixed', 'kernel': 'uniform', 'metric': 'minkowski', 'p': 4}. Best is trial 2 with value: 0.014931740614334471.\n",
            "[I 2024-10-16 21:42:53,658] Trial 3 finished with value: 0.014078498293515358 and parameters: {'neighbors': 11, 'window': 'unfixed', 'kernel': 'common', 'metric': 'cosine', 'a': 4, 'b': 4}. Best is trial 2 with value: 0.014931740614334471.\n",
            "[I 2024-10-16 21:45:19,810] Trial 4 finished with value: 0.017918088737201365 and parameters: {'neighbors': 36, 'window': 'unfixed', 'kernel': 'uniform', 'metric': 'cosine'}. Best is trial 4 with value: 0.017918088737201365.\n",
            "[I 2024-10-16 21:45:21,496] Trial 5 finished with value: 0.0 and parameters: {'neighbors': 28, 'window': 'fixed', 'kernel': 'uniform', 'metric': 'chebyshev', 'h': 0.14130882906042863}. Best is trial 4 with value: 0.017918088737201365.\n",
            "[I 2024-10-16 21:45:23,552] Trial 6 finished with value: 0.016638225255972697 and parameters: {'neighbors': 6, 'window': 'unfixed', 'kernel': 'uniform', 'metric': 'chebyshev'}. Best is trial 4 with value: 0.017918088737201365.\n",
            "[I 2024-10-16 21:48:37,598] Trial 7 finished with value: 0.004266211604095563 and parameters: {'neighbors': 24, 'window': 'fixed', 'kernel': 'gaussian', 'metric': 'minkowski', 'h': 16.757580889210555, 'p': 1}. Best is trial 4 with value: 0.017918088737201365.\n",
            "[I 2024-10-16 21:50:48,160] Trial 8 finished with value: 0.014505119453924915 and parameters: {'neighbors': 8, 'window': 'unfixed', 'kernel': 'common', 'metric': 'cosine', 'a': 2, 'b': 2}. Best is trial 4 with value: 0.017918088737201365.\n",
            "[I 2024-10-16 21:58:02,464] Trial 9 finished with value: 0.014931740614334471 and parameters: {'neighbors': 30, 'window': 'fixed', 'kernel': 'gaussian', 'metric': 'cosine', 'h': 1.074344436449282}. Best is trial 4 with value: 0.017918088737201365.\n",
            "[I 2024-10-16 22:00:03,790] Trial 10 finished with value: 0.016638225255972697 and parameters: {'neighbors': 1, 'window': 'unfixed', 'kernel': 'uniform', 'metric': 'cosine'}. Best is trial 4 with value: 0.017918088737201365.\n",
            "[I 2024-10-16 22:00:08,422] Trial 11 finished with value: 0.01877133105802048 and parameters: {'neighbors': 50, 'window': 'unfixed', 'kernel': 'uniform', 'metric': 'chebyshev'}. Best is trial 11 with value: 0.01877133105802048.\n",
            "[I 2024-10-16 22:00:13,398] Trial 12 finished with value: 0.01877133105802048 and parameters: {'neighbors': 46, 'window': 'unfixed', 'kernel': 'uniform', 'metric': 'chebyshev'}. Best is trial 11 with value: 0.01877133105802048.\n",
            "[I 2024-10-16 22:00:15,869] Trial 13 finished with value: 0.014505119453924915 and parameters: {'neighbors': 16, 'window': 'unfixed', 'kernel': 'uniform', 'metric': 'chebyshev'}. Best is trial 11 with value: 0.01877133105802048.\n",
            "[I 2024-10-16 22:00:19,599] Trial 14 finished with value: 0.01877133105802048 and parameters: {'neighbors': 50, 'window': 'unfixed', 'kernel': 'uniform', 'metric': 'chebyshev'}. Best is trial 11 with value: 0.01877133105802048.\n",
            "[I 2024-10-16 22:00:22,354] Trial 15 finished with value: 0.014505119453924915 and parameters: {'neighbors': 16, 'window': 'unfixed', 'kernel': 'uniform', 'metric': 'chebyshev'}. Best is trial 11 with value: 0.01877133105802048.\n",
            "[I 2024-10-16 22:00:27,969] Trial 16 finished with value: 0.01877133105802048 and parameters: {'neighbors': 50, 'window': 'unfixed', 'kernel': 'uniform', 'metric': 'chebyshev'}. Best is trial 11 with value: 0.01877133105802048.\n",
            "[I 2024-10-16 22:00:29,975] Trial 17 finished with value: 0.013651877133105802 and parameters: {'neighbors': 3, 'window': 'unfixed', 'kernel': 'uniform', 'metric': 'chebyshev'}. Best is trial 11 with value: 0.01877133105802048.\n",
            "[I 2024-10-16 22:00:32,644] Trial 18 finished with value: 0.014931740614334471 and parameters: {'neighbors': 16, 'window': 'unfixed', 'kernel': 'gaussian', 'metric': 'chebyshev'}. Best is trial 11 with value: 0.01877133105802048.\n",
            "[I 2024-10-16 22:00:34,580] Trial 19 finished with value: 0.01749146757679181 and parameters: {'neighbors': 1, 'window': 'unfixed', 'kernel': 'common', 'metric': 'chebyshev', 'a': 1, 'b': 4}. Best is trial 11 with value: 0.01877133105802048.\n",
            "[I 2024-10-16 22:00:36,816] Trial 20 finished with value: 0.015784982935153583 and parameters: {'neighbors': 2, 'window': 'unfixed', 'kernel': 'uniform', 'metric': 'chebyshev'}. Best is trial 11 with value: 0.01877133105802048.\n",
            "[I 2024-10-16 22:00:42,431] Trial 21 finished with value: 0.01877133105802048 and parameters: {'neighbors': 50, 'window': 'unfixed', 'kernel': 'uniform', 'metric': 'chebyshev'}. Best is trial 11 with value: 0.01877133105802048.\n",
            "[I 2024-10-16 22:00:45,753] Trial 22 finished with value: 0.020904436860068258 and parameters: {'neighbors': 39, 'window': 'unfixed', 'kernel': 'uniform', 'metric': 'chebyshev'}. Best is trial 22 with value: 0.020904436860068258.\n",
            "[I 2024-10-16 22:00:48,536] Trial 23 finished with value: 0.01749146757679181 and parameters: {'neighbors': 26, 'window': 'unfixed', 'kernel': 'uniform', 'metric': 'chebyshev'}. Best is trial 22 with value: 0.020904436860068258.\n",
            "[I 2024-10-16 22:00:51,294] Trial 24 finished with value: 0.016638225255972697 and parameters: {'neighbors': 18, 'window': 'unfixed', 'kernel': 'uniform', 'metric': 'chebyshev'}. Best is trial 22 with value: 0.020904436860068258.\n",
            "[I 2024-10-16 22:00:56,381] Trial 25 finished with value: 0.021757679180887373 and parameters: {'neighbors': 38, 'window': 'unfixed', 'kernel': 'uniform', 'metric': 'chebyshev'}. Best is trial 25 with value: 0.021757679180887373.\n",
            "[I 2024-10-16 22:06:24,944] Trial 26 finished with value: 0.0004266211604095563 and parameters: {'neighbors': 10, 'window': 'fixed', 'kernel': 'uniform', 'metric': 'chebyshev', 'h': 98.72678583932907}. Best is trial 25 with value: 0.021757679180887373.\n",
            "[I 2024-10-16 22:06:27,569] Trial 27 finished with value: 0.016211604095563138 and parameters: {'neighbors': 22, 'window': 'unfixed', 'kernel': 'uniform', 'metric': 'chebyshev'}. Best is trial 25 with value: 0.021757679180887373.\n",
            "[I 2024-10-16 22:06:48,331] Trial 28 finished with value: 0.013651877133105802 and parameters: {'neighbors': 35, 'window': 'unfixed', 'kernel': 'common', 'metric': 'minkowski', 'a': 1, 'b': 1, 'p': 4}. Best is trial 25 with value: 0.021757679180887373.\n",
            "[I 2024-10-16 22:07:39,795] Trial 29 finished with value: 0.013651877133105802 and parameters: {'neighbors': 12, 'window': 'fixed', 'kernel': 'gaussian', 'metric': 'chebyshev', 'h': 1.4729380136157604}. Best is trial 25 with value: 0.021757679180887373.\n",
            "[I 2024-10-16 22:07:59,948] Trial 30 finished with value: 0.01834470989761092 and parameters: {'neighbors': 36, 'window': 'unfixed', 'kernel': 'gaussian', 'metric': 'minkowski', 'p': 3}. Best is trial 25 with value: 0.021757679180887373.\n",
            "[I 2024-10-16 22:08:04,502] Trial 31 finished with value: 0.021331058020477817 and parameters: {'neighbors': 40, 'window': 'unfixed', 'kernel': 'uniform', 'metric': 'chebyshev'}. Best is trial 25 with value: 0.021757679180887373.\n",
            "[I 2024-10-16 22:08:08,591] Trial 32 finished with value: 0.020051194539249147 and parameters: {'neighbors': 36, 'window': 'unfixed', 'kernel': 'uniform', 'metric': 'chebyshev'}. Best is trial 25 with value: 0.021757679180887373.\n",
            "[I 2024-10-16 22:08:11,767] Trial 33 finished with value: 0.020051194539249147 and parameters: {'neighbors': 36, 'window': 'unfixed', 'kernel': 'uniform', 'metric': 'chebyshev'}. Best is trial 25 with value: 0.021757679180887373.\n",
            "[I 2024-10-16 22:08:14,402] Trial 34 finished with value: 0.016211604095563138 and parameters: {'neighbors': 22, 'window': 'unfixed', 'kernel': 'uniform', 'metric': 'chebyshev'}. Best is trial 25 with value: 0.021757679180887373.\n",
            "[I 2024-10-16 22:08:35,640] Trial 35 finished with value: 0.015358361774744027 and parameters: {'neighbors': 20, 'window': 'unfixed', 'kernel': 'common', 'metric': 'minkowski', 'a': 3, 'b': 3, 'p': 3}. Best is trial 25 with value: 0.021757679180887373.\n",
            "[I 2024-10-16 22:08:37,471] Trial 36 finished with value: 0.0 and parameters: {'neighbors': 4, 'window': 'fixed', 'kernel': 'uniform', 'metric': 'chebyshev', 'h': 0.013999880184988609}. Best is trial 25 with value: 0.021757679180887373.\n",
            "[I 2024-10-16 22:10:51,081] Trial 37 finished with value: 0.014505119453924915 and parameters: {'neighbors': 12, 'window': 'unfixed', 'kernel': 'uniform', 'metric': 'cosine'}. Best is trial 25 with value: 0.021757679180887373.\n",
            "[I 2024-10-16 22:10:54,080] Trial 38 finished with value: 0.01877133105802048 and parameters: {'neighbors': 31, 'window': 'unfixed', 'kernel': 'uniform', 'metric': 'chebyshev'}. Best is trial 25 with value: 0.021757679180887373.\n",
            "[I 2024-10-16 22:13:37,037] Trial 39 finished with value: 0.0021331058020477816 and parameters: {'neighbors': 39, 'window': 'fixed', 'kernel': 'uniform', 'metric': 'minkowski', 'h': 5.185960826074224, 'p': 2}. Best is trial 25 with value: 0.021757679180887373.\n",
            "[I 2024-10-16 22:13:40,303] Trial 40 finished with value: 0.014078498293515358 and parameters: {'neighbors': 27, 'window': 'unfixed', 'kernel': 'common', 'metric': 'chebyshev', 'a': 2, 'b': 2}. Best is trial 25 with value: 0.021757679180887373.\n",
            "[I 2024-10-16 22:13:44,855] Trial 41 finished with value: 0.021757679180887373 and parameters: {'neighbors': 38, 'window': 'unfixed', 'kernel': 'uniform', 'metric': 'chebyshev'}. Best is trial 25 with value: 0.021757679180887373.\n",
            "[I 2024-10-16 22:13:49,295] Trial 42 finished with value: 0.021757679180887373 and parameters: {'neighbors': 38, 'window': 'unfixed', 'kernel': 'uniform', 'metric': 'chebyshev'}. Best is trial 25 with value: 0.021757679180887373.\n",
            "[I 2024-10-16 22:13:52,208] Trial 43 finished with value: 0.01834470989761092 and parameters: {'neighbors': 27, 'window': 'unfixed', 'kernel': 'uniform', 'metric': 'chebyshev'}. Best is trial 25 with value: 0.021757679180887373.\n",
            "[I 2024-10-16 22:16:18,226] Trial 44 finished with value: 0.016211604095563138 and parameters: {'neighbors': 41, 'window': 'unfixed', 'kernel': 'uniform', 'metric': 'cosine'}. Best is trial 25 with value: 0.021757679180887373.\n",
            "[I 2024-10-16 22:16:20,367] Trial 45 finished with value: 0.014078498293515358 and parameters: {'neighbors': 8, 'window': 'unfixed', 'kernel': 'uniform', 'metric': 'chebyshev'}. Best is trial 25 with value: 0.021757679180887373.\n",
            "[I 2024-10-16 22:16:23,716] Trial 46 finished with value: 0.01962457337883959 and parameters: {'neighbors': 31, 'window': 'unfixed', 'kernel': 'gaussian', 'metric': 'chebyshev'}. Best is trial 25 with value: 0.021757679180887373.\n",
            "[I 2024-10-16 22:25:13,452] Trial 47 finished with value: 0.0004266211604095563 and parameters: {'neighbors': 24, 'window': 'fixed', 'kernel': 'uniform', 'metric': 'cosine', 'h': 75.81750212997834}. Best is trial 25 with value: 0.021757679180887373.\n",
            "[I 2024-10-16 22:25:16,853] Trial 48 finished with value: 0.021331058020477817 and parameters: {'neighbors': 42, 'window': 'unfixed', 'kernel': 'uniform', 'metric': 'chebyshev'}. Best is trial 25 with value: 0.021757679180887373.\n",
            "[I 2024-10-16 22:25:20,456] Trial 49 finished with value: 0.020477815699658702 and parameters: {'neighbors': 43, 'window': 'unfixed', 'kernel': 'uniform', 'metric': 'chebyshev'}. Best is trial 25 with value: 0.021757679180887373.\n",
            "[I 2024-10-16 22:25:24,850] Trial 50 finished with value: 0.015358361774744027 and parameters: {'neighbors': 19, 'window': 'unfixed', 'kernel': 'uniform', 'metric': 'chebyshev'}. Best is trial 25 with value: 0.021757679180887373.\n",
            "[I 2024-10-16 22:25:27,930] Trial 51 finished with value: 0.017918088737201365 and parameters: {'neighbors': 30, 'window': 'unfixed', 'kernel': 'uniform', 'metric': 'chebyshev'}. Best is trial 25 with value: 0.021757679180887373.\n",
            "[I 2024-10-16 22:25:31,399] Trial 52 finished with value: 0.020904436860068258 and parameters: {'neighbors': 39, 'window': 'unfixed', 'kernel': 'uniform', 'metric': 'chebyshev'}. Best is trial 25 with value: 0.021757679180887373.\n",
            "[I 2024-10-16 22:25:33,828] Trial 53 finished with value: 0.01151877133105802 and parameters: {'neighbors': 14, 'window': 'unfixed', 'kernel': 'uniform', 'metric': 'chebyshev'}. Best is trial 25 with value: 0.021757679180887373.\n",
            "[I 2024-10-16 22:25:39,397] Trial 54 finished with value: 0.020477815699658702 and parameters: {'neighbors': 43, 'window': 'unfixed', 'kernel': 'uniform', 'metric': 'chebyshev'}. Best is trial 25 with value: 0.021757679180887373.\n",
            "[I 2024-10-16 22:25:42,235] Trial 55 finished with value: 0.016211604095563138 and parameters: {'neighbors': 24, 'window': 'unfixed', 'kernel': 'uniform', 'metric': 'chebyshev'}. Best is trial 25 with value: 0.021757679180887373.\n",
            "[I 2024-10-16 22:25:45,445] Trial 56 finished with value: 0.014931740614334471 and parameters: {'neighbors': 30, 'window': 'unfixed', 'kernel': 'common', 'metric': 'chebyshev', 'a': 3, 'b': 3}. Best is trial 25 with value: 0.021757679180887373.\n",
            "[I 2024-10-16 22:28:12,623] Trial 57 finished with value: 0.01749146757679181 and parameters: {'neighbors': 45, 'window': 'unfixed', 'kernel': 'uniform', 'metric': 'cosine'}. Best is trial 25 with value: 0.021757679180887373.\n",
            "[I 2024-10-16 22:28:16,075] Trial 58 finished with value: 0.01962457337883959 and parameters: {'neighbors': 31, 'window': 'unfixed', 'kernel': 'gaussian', 'metric': 'chebyshev'}. Best is trial 25 with value: 0.021757679180887373.\n",
            "[I 2024-10-16 22:28:37,742] Trial 59 finished with value: 0.020904436860068258 and parameters: {'neighbors': 50, 'window': 'unfixed', 'kernel': 'uniform', 'metric': 'minkowski', 'p': 4}. Best is trial 25 with value: 0.021757679180887373.\n",
            "[I 2024-10-16 22:28:39,764] Trial 60 finished with value: 0.0 and parameters: {'neighbors': 2, 'window': 'fixed', 'kernel': 'uniform', 'metric': 'chebyshev', 'h': 0.011300916668316027}. Best is trial 25 with value: 0.021757679180887373.\n",
            "[I 2024-10-16 22:28:43,051] Trial 61 finished with value: 0.020904436860068258 and parameters: {'neighbors': 39, 'window': 'unfixed', 'kernel': 'uniform', 'metric': 'chebyshev'}. Best is trial 25 with value: 0.021757679180887373.\n",
            "[I 2024-10-16 22:28:46,117] Trial 62 finished with value: 0.01962457337883959 and parameters: {'neighbors': 34, 'window': 'unfixed', 'kernel': 'uniform', 'metric': 'chebyshev'}. Best is trial 25 with value: 0.021757679180887373.\n",
            "[I 2024-10-16 22:28:50,505] Trial 63 finished with value: 0.021331058020477817 and parameters: {'neighbors': 42, 'window': 'unfixed', 'kernel': 'uniform', 'metric': 'chebyshev'}. Best is trial 25 with value: 0.021757679180887373.\n",
            "[I 2024-10-16 22:28:53,588] Trial 64 finished with value: 0.016638225255972697 and parameters: {'neighbors': 6, 'window': 'unfixed', 'kernel': 'uniform', 'metric': 'chebyshev'}. Best is trial 25 with value: 0.021757679180887373.\n",
            "[I 2024-10-16 22:28:57,127] Trial 65 finished with value: 0.020051194539249147 and parameters: {'neighbors': 44, 'window': 'unfixed', 'kernel': 'uniform', 'metric': 'chebyshev'}. Best is trial 25 with value: 0.021757679180887373.\n",
            "[I 2024-10-16 22:28:59,841] Trial 66 finished with value: 0.016211604095563138 and parameters: {'neighbors': 22, 'window': 'unfixed', 'kernel': 'uniform', 'metric': 'chebyshev'}. Best is trial 25 with value: 0.021757679180887373.\n",
            "[I 2024-10-16 22:29:02,932] Trial 67 finished with value: 0.021331058020477817 and parameters: {'neighbors': 33, 'window': 'unfixed', 'kernel': 'uniform', 'metric': 'chebyshev'}. Best is trial 25 with value: 0.021757679180887373.\n",
            "[I 2024-10-16 22:29:07,963] Trial 68 finished with value: 0.01834470989761092 and parameters: {'neighbors': 27, 'window': 'unfixed', 'kernel': 'uniform', 'metric': 'chebyshev'}. Best is trial 25 with value: 0.021757679180887373.\n",
            "[I 2024-10-16 22:29:09,996] Trial 69 finished with value: 0.017064846416382253 and parameters: {'neighbors': 3, 'window': 'unfixed', 'kernel': 'common', 'metric': 'chebyshev', 'a': 4, 'b': 1}. Best is trial 25 with value: 0.021757679180887373.\n",
            "[I 2024-10-16 22:29:13,463] Trial 70 finished with value: 0.01962457337883959 and parameters: {'neighbors': 33, 'window': 'unfixed', 'kernel': 'gaussian', 'metric': 'chebyshev'}. Best is trial 25 with value: 0.021757679180887373.\n",
            "[I 2024-10-16 22:29:17,197] Trial 71 finished with value: 0.01877133105802048 and parameters: {'neighbors': 50, 'window': 'unfixed', 'kernel': 'uniform', 'metric': 'chebyshev'}. Best is trial 25 with value: 0.021757679180887373.\n",
            "[I 2024-10-16 22:29:22,375] Trial 72 finished with value: 0.020051194539249147 and parameters: {'neighbors': 36, 'window': 'unfixed', 'kernel': 'uniform', 'metric': 'chebyshev'}. Best is trial 25 with value: 0.021757679180887373.\n",
            "[I 2024-10-16 22:29:25,827] Trial 73 finished with value: 0.020477815699658702 and parameters: {'neighbors': 41, 'window': 'unfixed', 'kernel': 'uniform', 'metric': 'chebyshev'}. Best is trial 25 with value: 0.021757679180887373.\n",
            "[I 2024-10-16 22:29:28,628] Trial 74 finished with value: 0.01749146757679181 and parameters: {'neighbors': 26, 'window': 'unfixed', 'kernel': 'uniform', 'metric': 'chebyshev'}. Best is trial 25 with value: 0.021757679180887373.\n",
            "[I 2024-10-16 22:29:31,564] Trial 75 finished with value: 0.017064846416382253 and parameters: {'neighbors': 33, 'window': 'unfixed', 'kernel': 'uniform', 'metric': 'minkowski', 'p': 2}. Best is trial 25 with value: 0.021757679180887373.\n",
            "[I 2024-10-16 22:29:33,753] Trial 76 finished with value: 0.0017064846416382253 and parameters: {'neighbors': 18, 'window': 'fixed', 'kernel': 'uniform', 'metric': 'chebyshev', 'h': 0.2818407867734871}. Best is trial 25 with value: 0.021757679180887373.\n",
            "[I 2024-10-16 22:29:38,517] Trial 77 finished with value: 0.020904436860068258 and parameters: {'neighbors': 39, 'window': 'unfixed', 'kernel': 'uniform', 'metric': 'chebyshev'}. Best is trial 25 with value: 0.021757679180887373.\n",
            "[I 2024-10-16 22:29:42,055] Trial 78 finished with value: 0.01962457337883959 and parameters: {'neighbors': 45, 'window': 'unfixed', 'kernel': 'uniform', 'metric': 'chebyshev'}. Best is trial 25 with value: 0.021757679180887373.\n",
            "[I 2024-10-16 22:32:00,897] Trial 79 finished with value: 0.013651877133105802 and parameters: {'neighbors': 24, 'window': 'unfixed', 'kernel': 'uniform', 'metric': 'cosine'}. Best is trial 25 with value: 0.021757679180887373.\n",
            "[I 2024-10-16 22:32:05,663] Trial 80 finished with value: 0.01834470989761092 and parameters: {'neighbors': 29, 'window': 'unfixed', 'kernel': 'uniform', 'metric': 'chebyshev'}. Best is trial 25 with value: 0.021757679180887373.\n",
            "[I 2024-10-16 22:32:08,812] Trial 81 finished with value: 0.020051194539249147 and parameters: {'neighbors': 36, 'window': 'unfixed', 'kernel': 'uniform', 'metric': 'chebyshev'}. Best is trial 25 with value: 0.021757679180887373.\n",
            "[I 2024-10-16 22:32:12,001] Trial 82 finished with value: 0.020904436860068258 and parameters: {'neighbors': 39, 'window': 'unfixed', 'kernel': 'uniform', 'metric': 'chebyshev'}. Best is trial 25 with value: 0.021757679180887373.\n",
            "[I 2024-10-16 22:32:15,442] Trial 83 finished with value: 0.01877133105802048 and parameters: {'neighbors': 46, 'window': 'unfixed', 'kernel': 'uniform', 'metric': 'chebyshev'}. Best is trial 25 with value: 0.021757679180887373.\n",
            "[I 2024-10-16 22:32:20,559] Trial 84 finished with value: 0.020904436860068258 and parameters: {'neighbors': 39, 'window': 'unfixed', 'kernel': 'uniform', 'metric': 'chebyshev'}. Best is trial 25 with value: 0.021757679180887373.\n",
            "[I 2024-10-16 22:32:23,542] Trial 85 finished with value: 0.01962457337883959 and parameters: {'neighbors': 34, 'window': 'unfixed', 'kernel': 'uniform', 'metric': 'chebyshev'}. Best is trial 25 with value: 0.021757679180887373.\n",
            "[I 2024-10-16 22:32:26,246] Trial 86 finished with value: 0.016211604095563138 and parameters: {'neighbors': 21, 'window': 'unfixed', 'kernel': 'common', 'metric': 'chebyshev', 'a': 2, 'b': 3}. Best is trial 25 with value: 0.021757679180887373.\n",
            "[I 2024-10-16 22:32:29,072] Trial 87 finished with value: 0.01877133105802048 and parameters: {'neighbors': 28, 'window': 'unfixed', 'kernel': 'uniform', 'metric': 'chebyshev'}. Best is trial 25 with value: 0.021757679180887373.\n",
            "[I 2024-10-16 22:36:54,268] Trial 88 finished with value: 0.002559726962457338 and parameters: {'neighbors': 47, 'window': 'fixed', 'kernel': 'gaussian', 'metric': 'minkowski', 'h': 4.328604624763392, 'p': 3}. Best is trial 25 with value: 0.021757679180887373.\n",
            "[I 2024-10-16 22:36:57,697] Trial 89 finished with value: 0.021331058020477817 and parameters: {'neighbors': 42, 'window': 'unfixed', 'kernel': 'uniform', 'metric': 'chebyshev'}. Best is trial 25 with value: 0.021757679180887373.\n",
            "[I 2024-10-16 22:39:20,551] Trial 90 finished with value: 0.01749146757679181 and parameters: {'neighbors': 32, 'window': 'unfixed', 'kernel': 'uniform', 'metric': 'cosine'}. Best is trial 25 with value: 0.021757679180887373.\n",
            "[I 2024-10-16 22:39:23,931] Trial 91 finished with value: 0.020477815699658702 and parameters: {'neighbors': 41, 'window': 'unfixed', 'kernel': 'uniform', 'metric': 'chebyshev'}. Best is trial 25 with value: 0.021757679180887373.\n",
            "[I 2024-10-16 22:39:27,164] Trial 92 finished with value: 0.02218430034129693 and parameters: {'neighbors': 37, 'window': 'unfixed', 'kernel': 'uniform', 'metric': 'chebyshev'}. Best is trial 92 with value: 0.02218430034129693.\n",
            "[I 2024-10-16 22:39:32,978] Trial 93 finished with value: 0.01877133105802048 and parameters: {'neighbors': 50, 'window': 'unfixed', 'kernel': 'uniform', 'metric': 'chebyshev'}. Best is trial 92 with value: 0.02218430034129693.\n",
            "[I 2024-10-16 22:39:35,833] Trial 94 finished with value: 0.01749146757679181 and parameters: {'neighbors': 25, 'window': 'unfixed', 'kernel': 'uniform', 'metric': 'chebyshev'}. Best is trial 92 with value: 0.02218430034129693.\n",
            "[I 2024-10-16 22:39:39,180] Trial 95 finished with value: 0.02218430034129693 and parameters: {'neighbors': 37, 'window': 'unfixed', 'kernel': 'uniform', 'metric': 'chebyshev'}. Best is trial 92 with value: 0.02218430034129693.\n",
            "[I 2024-10-16 22:39:42,376] Trial 96 finished with value: 0.020051194539249147 and parameters: {'neighbors': 36, 'window': 'unfixed', 'kernel': 'uniform', 'metric': 'chebyshev'}. Best is trial 92 with value: 0.02218430034129693.\n",
            "[I 2024-10-16 22:39:47,506] Trial 97 finished with value: 0.017918088737201365 and parameters: {'neighbors': 30, 'window': 'unfixed', 'kernel': 'uniform', 'metric': 'chebyshev'}. Best is trial 92 with value: 0.02218430034129693.\n",
            "[I 2024-10-16 22:39:51,120] Trial 98 finished with value: 0.020051194539249147 and parameters: {'neighbors': 44, 'window': 'unfixed', 'kernel': 'uniform', 'metric': 'chebyshev'}. Best is trial 92 with value: 0.02218430034129693.\n",
            "[I 2024-10-16 22:39:54,232] Trial 99 finished with value: 0.021331058020477817 and parameters: {'neighbors': 33, 'window': 'unfixed', 'kernel': 'uniform', 'metric': 'chebyshev'}. Best is trial 92 with value: 0.02218430034129693.\n"
          ]
        },
        {
          "output_type": "stream",
          "name": "stdout",
          "text": [
            "{'neighbors': 37, 'window': 'unfixed', 'kernel': 'uniform', 'metric': 'chebyshev'}\n"
          ]
        }
      ]
    },
    {
      "cell_type": "code",
      "source": [
        "from sklearn.neighbors import KNeighborsClassifier\n",
        "\n",
        "def sklearn_objective(trial):\n",
        "    neighbors = trial.suggest_int('neighbors', 1, 50, log=True)\n",
        "    weights = trial.suggest_categorical('weights', ['uniform', 'distance'])\n",
        "    metric = trial.suggest_categorical('metric', ['minkowski', 'cosine'])\n",
        "    p = 1\n",
        "    if metric == 'minkowski':\n",
        "        p = trial.suggest_int('p', 1, 4)\n",
        "    classifier = KNeighborsClassifier(neighbors, weights=weights, metric=metric, p=p, n_jobs=1)\n",
        "    classifier.fit(train_data, train_target)\n",
        "    return accuracy_score(valid_target, classifier.predict(valid_data))\n",
        "\n",
        "study = optuna.create_study(direction='maximize')\n",
        "study.optimize(sklearn_objective, n_trials=100)\n",
        "print(study.best_params)"
      ],
      "metadata": {
        "id": "OyMeZ35Vg_5m",
        "colab": {
          "base_uri": "https://localhost:8080/"
        },
        "outputId": "06458e54-84ec-4529-d380-f143050f83a8"
      },
      "execution_count": null,
      "outputs": [
        {
          "output_type": "stream",
          "name": "stderr",
          "text": [
            "[I 2024-10-16 22:40:08,281] A new study created in memory with name: no-name-6a2c6f38-96e1-4591-ba0c-2e2aa401c4e6\n",
            "[I 2024-10-16 22:40:08,990] Trial 0 finished with value: 0.5298634812286689 and parameters: {'neighbors': 3, 'weights': 'distance', 'metric': 'cosine'}. Best is trial 0 with value: 0.5298634812286689.\n",
            "[I 2024-10-16 22:40:09,434] Trial 1 finished with value: 0.5034129692832765 and parameters: {'neighbors': 1, 'weights': 'uniform', 'metric': 'cosine'}. Best is trial 0 with value: 0.5298634812286689.\n",
            "[I 2024-10-16 22:40:10,147] Trial 2 finished with value: 0.5217576791808873 and parameters: {'neighbors': 14, 'weights': 'uniform', 'metric': 'cosine'}. Best is trial 0 with value: 0.5298634812286689.\n",
            "[I 2024-10-16 22:40:11,259] Trial 3 finished with value: 0.49445392491467577 and parameters: {'neighbors': 2, 'weights': 'uniform', 'metric': 'minkowski', 'p': 1}. Best is trial 0 with value: 0.5298634812286689.\n",
            "[I 2024-10-16 22:40:12,084] Trial 4 finished with value: 0.5098122866894198 and parameters: {'neighbors': 18, 'weights': 'uniform', 'metric': 'cosine'}. Best is trial 0 with value: 0.5298634812286689.\n",
            "[I 2024-10-16 22:40:12,666] Trial 5 finished with value: 0.5034129692832765 and parameters: {'neighbors': 2, 'weights': 'distance', 'metric': 'cosine'}. Best is trial 0 with value: 0.5298634812286689.\n",
            "[I 2024-10-16 22:40:13,382] Trial 6 finished with value: 0.549061433447099 and parameters: {'neighbors': 18, 'weights': 'distance', 'metric': 'cosine'}. Best is trial 6 with value: 0.549061433447099.\n",
            "[I 2024-10-16 22:40:14,241] Trial 7 finished with value: 0.5234641638225256 and parameters: {'neighbors': 7, 'weights': 'uniform', 'metric': 'cosine'}. Best is trial 6 with value: 0.549061433447099.\n",
            "[I 2024-10-16 22:40:15,071] Trial 8 finished with value: 0.5196245733788396 and parameters: {'neighbors': 6, 'weights': 'uniform', 'metric': 'cosine'}. Best is trial 6 with value: 0.549061433447099.\n",
            "[I 2024-10-16 22:40:15,713] Trial 9 finished with value: 0.5 and parameters: {'neighbors': 28, 'weights': 'uniform', 'metric': 'cosine'}. Best is trial 6 with value: 0.549061433447099.\n",
            "[I 2024-10-16 22:40:30,456] Trial 10 finished with value: 0.496160409556314 and parameters: {'neighbors': 10, 'weights': 'distance', 'metric': 'minkowski', 'p': 4}. Best is trial 6 with value: 0.549061433447099.\n",
            "[I 2024-10-16 22:40:31,152] Trial 11 finished with value: 0.5546075085324232 and parameters: {'neighbors': 49, 'weights': 'distance', 'metric': 'minkowski', 'p': 1}. Best is trial 11 with value: 0.5546075085324232.\n",
            "[I 2024-10-16 22:40:31,835] Trial 12 finished with value: 0.5584470989761092 and parameters: {'neighbors': 44, 'weights': 'distance', 'metric': 'minkowski', 'p': 1}. Best is trial 12 with value: 0.5584470989761092.\n",
            "[I 2024-10-16 22:40:32,518] Trial 13 finished with value: 0.5524744027303754 and parameters: {'neighbors': 50, 'weights': 'distance', 'metric': 'minkowski', 'p': 1}. Best is trial 12 with value: 0.5584470989761092.\n",
            "[I 2024-10-16 22:40:33,204] Trial 14 finished with value: 0.5588737201365188 and parameters: {'neighbors': 46, 'weights': 'distance', 'metric': 'minkowski', 'p': 1}. Best is trial 14 with value: 0.5588737201365188.\n",
            "[I 2024-10-16 22:40:33,413] Trial 15 finished with value: 0.5226109215017065 and parameters: {'neighbors': 28, 'weights': 'distance', 'metric': 'minkowski', 'p': 2}. Best is trial 14 with value: 0.5588737201365188.\n",
            "[I 2024-10-16 22:40:33,623] Trial 16 finished with value: 0.5247440273037542 and parameters: {'neighbors': 29, 'weights': 'distance', 'metric': 'minkowski', 'p': 2}. Best is trial 14 with value: 0.5588737201365188.\n",
            "[I 2024-10-16 22:40:48,373] Trial 17 finished with value: 0.4697098976109215 and parameters: {'neighbors': 35, 'weights': 'distance', 'metric': 'minkowski', 'p': 3}. Best is trial 14 with value: 0.5588737201365188.\n",
            "[I 2024-10-16 22:40:48,998] Trial 18 finished with value: 0.5848976109215017 and parameters: {'neighbors': 14, 'weights': 'distance', 'metric': 'minkowski', 'p': 1}. Best is trial 18 with value: 0.5848976109215017.\n",
            "[I 2024-10-16 22:40:49,175] Trial 19 finished with value: 0.5477815699658704 and parameters: {'neighbors': 9, 'weights': 'distance', 'metric': 'minkowski', 'p': 2}. Best is trial 18 with value: 0.5848976109215017.\n",
            "[I 2024-10-16 22:41:03,756] Trial 20 finished with value: 0.5170648464163823 and parameters: {'neighbors': 4, 'weights': 'distance', 'metric': 'minkowski', 'p': 3}. Best is trial 18 with value: 0.5848976109215017.\n",
            "[I 2024-10-16 22:41:04,402] Trial 21 finished with value: 0.587457337883959 and parameters: {'neighbors': 16, 'weights': 'distance', 'metric': 'minkowski', 'p': 1}. Best is trial 21 with value: 0.587457337883959.\n",
            "[I 2024-10-16 22:41:05,035] Trial 22 finished with value: 0.5848976109215017 and parameters: {'neighbors': 14, 'weights': 'distance', 'metric': 'minkowski', 'p': 1}. Best is trial 21 with value: 0.587457337883959.\n",
            "[I 2024-10-16 22:41:05,665] Trial 23 finished with value: 0.5848976109215017 and parameters: {'neighbors': 14, 'weights': 'distance', 'metric': 'minkowski', 'p': 1}. Best is trial 21 with value: 0.587457337883959.\n",
            "[I 2024-10-16 22:41:05,847] Trial 24 finished with value: 0.5473549488054608 and parameters: {'neighbors': 10, 'weights': 'distance', 'metric': 'minkowski', 'p': 2}. Best is trial 21 with value: 0.587457337883959.\n",
            "[I 2024-10-16 22:41:06,505] Trial 25 finished with value: 0.5823378839590444 and parameters: {'neighbors': 20, 'weights': 'distance', 'metric': 'minkowski', 'p': 1}. Best is trial 21 with value: 0.587457337883959.\n",
            "[I 2024-10-16 22:41:06,690] Trial 26 finished with value: 0.5465017064846417 and parameters: {'neighbors': 13, 'weights': 'distance', 'metric': 'minkowski', 'p': 2}. Best is trial 21 with value: 0.587457337883959.\n",
            "[I 2024-10-16 22:41:07,319] Trial 27 finished with value: 0.5810580204778157 and parameters: {'neighbors': 5, 'weights': 'distance', 'metric': 'minkowski', 'p': 1}. Best is trial 21 with value: 0.587457337883959.\n",
            "[I 2024-10-16 22:41:07,520] Trial 28 finished with value: 0.5358361774744027 and parameters: {'neighbors': 22, 'weights': 'distance', 'metric': 'minkowski', 'p': 2}. Best is trial 21 with value: 0.587457337883959.\n",
            "[I 2024-10-16 22:41:22,134] Trial 29 finished with value: 0.5068259385665529 and parameters: {'neighbors': 4, 'weights': 'distance', 'metric': 'minkowski', 'p': 4}. Best is trial 21 with value: 0.587457337883959.\n",
            "[I 2024-10-16 22:41:22,760] Trial 30 finished with value: 0.5797781569965871 and parameters: {'neighbors': 8, 'weights': 'distance', 'metric': 'minkowski', 'p': 1}. Best is trial 21 with value: 0.587457337883959.\n",
            "[I 2024-10-16 22:41:23,384] Trial 31 finished with value: 0.5870307167235495 and parameters: {'neighbors': 13, 'weights': 'distance', 'metric': 'minkowski', 'p': 1}. Best is trial 21 with value: 0.587457337883959.\n",
            "[I 2024-10-16 22:41:24,025] Trial 32 finished with value: 0.5870307167235495 and parameters: {'neighbors': 13, 'weights': 'distance', 'metric': 'minkowski', 'p': 1}. Best is trial 21 with value: 0.587457337883959.\n",
            "[I 2024-10-16 22:41:24,861] Trial 33 finished with value: 0.5827645051194539 and parameters: {'neighbors': 12, 'weights': 'distance', 'metric': 'minkowski', 'p': 1}. Best is trial 21 with value: 0.587457337883959.\n",
            "[I 2024-10-16 22:41:25,897] Trial 34 finished with value: 0.5742320819112628 and parameters: {'neighbors': 22, 'weights': 'distance', 'metric': 'minkowski', 'p': 1}. Best is trial 21 with value: 0.587457337883959.\n",
            "[I 2024-10-16 22:41:26,339] Trial 35 finished with value: 0.5213310580204779 and parameters: {'neighbors': 16, 'weights': 'uniform', 'metric': 'minkowski', 'p': 2}. Best is trial 21 with value: 0.587457337883959.\n",
            "[I 2024-10-16 22:41:27,314] Trial 36 finished with value: 0.523037542662116 and parameters: {'neighbors': 1, 'weights': 'distance', 'metric': 'minkowski', 'p': 1}. Best is trial 21 with value: 0.587457337883959.\n",
            "[I 2024-10-16 22:41:41,870] Trial 37 finished with value: 0.5179180887372014 and parameters: {'neighbors': 11, 'weights': 'distance', 'metric': 'minkowski', 'p': 3}. Best is trial 21 with value: 0.587457337883959.\n",
            "[I 2024-10-16 22:41:42,757] Trial 38 finished with value: 0.5234641638225256 and parameters: {'neighbors': 7, 'weights': 'uniform', 'metric': 'cosine'}. Best is trial 21 with value: 0.587457337883959.\n",
            "[I 2024-10-16 22:41:43,744] Trial 39 finished with value: 0.523037542662116 and parameters: {'neighbors': 2, 'weights': 'distance', 'metric': 'minkowski', 'p': 1}. Best is trial 21 with value: 0.587457337883959.\n",
            "[I 2024-10-16 22:41:44,439] Trial 40 finished with value: 0.5221843003412969 and parameters: {'neighbors': 5, 'weights': 'uniform', 'metric': 'cosine'}. Best is trial 21 with value: 0.587457337883959.\n",
            "[I 2024-10-16 22:41:45,084] Trial 41 finished with value: 0.587457337883959 and parameters: {'neighbors': 16, 'weights': 'distance', 'metric': 'minkowski', 'p': 1}. Best is trial 21 with value: 0.587457337883959.\n",
            "[I 2024-10-16 22:41:45,732] Trial 42 finished with value: 0.587457337883959 and parameters: {'neighbors': 16, 'weights': 'distance', 'metric': 'minkowski', 'p': 1}. Best is trial 21 with value: 0.587457337883959.\n",
            "[I 2024-10-16 22:41:46,375] Trial 43 finished with value: 0.5844709897610921 and parameters: {'neighbors': 24, 'weights': 'distance', 'metric': 'minkowski', 'p': 1}. Best is trial 21 with value: 0.587457337883959.\n",
            "[I 2024-10-16 22:41:47,019] Trial 44 finished with value: 0.5861774744027304 and parameters: {'neighbors': 18, 'weights': 'distance', 'metric': 'minkowski', 'p': 1}. Best is trial 21 with value: 0.587457337883959.\n",
            "[I 2024-10-16 22:41:47,573] Trial 45 finished with value: 0.5341296928327645 and parameters: {'neighbors': 35, 'weights': 'distance', 'metric': 'cosine'}. Best is trial 21 with value: 0.587457337883959.\n",
            "[I 2024-10-16 22:41:48,297] Trial 46 finished with value: 0.5477815699658704 and parameters: {'neighbors': 7, 'weights': 'uniform', 'metric': 'minkowski', 'p': 1}. Best is trial 21 with value: 0.587457337883959.\n",
            "[I 2024-10-16 22:41:48,927] Trial 47 finished with value: 0.5802047781569966 and parameters: {'neighbors': 9, 'weights': 'distance', 'metric': 'minkowski', 'p': 1}. Best is trial 21 with value: 0.587457337883959.\n",
            "[I 2024-10-16 22:41:49,557] Trial 48 finished with value: 0.587457337883959 and parameters: {'neighbors': 16, 'weights': 'distance', 'metric': 'minkowski', 'p': 1}. Best is trial 21 with value: 0.587457337883959.\n",
            "[I 2024-10-16 22:41:50,120] Trial 49 finished with value: 0.5503412969283277 and parameters: {'neighbors': 17, 'weights': 'distance', 'metric': 'cosine'}. Best is trial 21 with value: 0.587457337883959.\n",
            "[I 2024-10-16 22:41:50,340] Trial 50 finished with value: 0.5149317406143344 and parameters: {'neighbors': 33, 'weights': 'distance', 'metric': 'minkowski', 'p': 2}. Best is trial 21 with value: 0.587457337883959.\n",
            "[I 2024-10-16 22:41:50,980] Trial 51 finished with value: 0.587457337883959 and parameters: {'neighbors': 16, 'weights': 'distance', 'metric': 'minkowski', 'p': 1}. Best is trial 21 with value: 0.587457337883959.\n",
            "[I 2024-10-16 22:41:51,608] Trial 52 finished with value: 0.587457337883959 and parameters: {'neighbors': 16, 'weights': 'distance', 'metric': 'minkowski', 'p': 1}. Best is trial 21 with value: 0.587457337883959.\n",
            "[I 2024-10-16 22:41:52,267] Trial 53 finished with value: 0.5802047781569966 and parameters: {'neighbors': 27, 'weights': 'distance', 'metric': 'minkowski', 'p': 1}. Best is trial 21 with value: 0.587457337883959.\n",
            "[I 2024-10-16 22:41:52,909] Trial 54 finished with value: 0.5878839590443686 and parameters: {'neighbors': 19, 'weights': 'distance', 'metric': 'minkowski', 'p': 1}. Best is trial 54 with value: 0.5878839590443686.\n",
            "[I 2024-10-16 22:41:53,550] Trial 55 finished with value: 0.5810580204778157 and parameters: {'neighbors': 21, 'weights': 'distance', 'metric': 'minkowski', 'p': 1}. Best is trial 54 with value: 0.5878839590443686.\n",
            "[I 2024-10-16 22:41:54,350] Trial 56 finished with value: 0.568259385665529 and parameters: {'neighbors': 40, 'weights': 'distance', 'metric': 'minkowski', 'p': 1}. Best is trial 54 with value: 0.5878839590443686.\n",
            "[I 2024-10-16 22:41:54,779] Trial 57 finished with value: 0.5213310580204779 and parameters: {'neighbors': 11, 'weights': 'uniform', 'metric': 'minkowski', 'p': 2}. Best is trial 54 with value: 0.5878839590443686.\n",
            "[I 2024-10-16 22:41:55,813] Trial 58 finished with value: 0.5878839590443686 and parameters: {'neighbors': 19, 'weights': 'distance', 'metric': 'minkowski', 'p': 1}. Best is trial 54 with value: 0.5878839590443686.\n",
            "[I 2024-10-16 22:41:56,495] Trial 59 finished with value: 0.5447952218430034 and parameters: {'neighbors': 28, 'weights': 'distance', 'metric': 'cosine'}. Best is trial 54 with value: 0.5878839590443686.\n",
            "[I 2024-10-16 22:42:11,045] Trial 60 finished with value: 0.4756825938566553 and parameters: {'neighbors': 24, 'weights': 'distance', 'metric': 'minkowski', 'p': 4}. Best is trial 54 with value: 0.5878839590443686.\n",
            "[I 2024-10-16 22:42:12,063] Trial 61 finished with value: 0.587457337883959 and parameters: {'neighbors': 16, 'weights': 'distance', 'metric': 'minkowski', 'p': 1}. Best is trial 54 with value: 0.5878839590443686.\n",
            "[I 2024-10-16 22:42:13,089] Trial 62 finished with value: 0.5823378839590444 and parameters: {'neighbors': 20, 'weights': 'distance', 'metric': 'minkowski', 'p': 1}. Best is trial 54 with value: 0.5878839590443686.\n",
            "[I 2024-10-16 22:42:13,948] Trial 63 finished with value: 0.5917235494880546 and parameters: {'neighbors': 15, 'weights': 'distance', 'metric': 'minkowski', 'p': 1}. Best is trial 63 with value: 0.5917235494880546.\n",
            "[I 2024-10-16 22:42:14,586] Trial 64 finished with value: 0.5878839590443686 and parameters: {'neighbors': 19, 'weights': 'distance', 'metric': 'minkowski', 'p': 1}. Best is trial 63 with value: 0.5917235494880546.\n",
            "[I 2024-10-16 22:42:15,249] Trial 65 finished with value: 0.5819112627986348 and parameters: {'neighbors': 25, 'weights': 'distance', 'metric': 'minkowski', 'p': 1}. Best is trial 63 with value: 0.5917235494880546.\n",
            "[I 2024-10-16 22:42:15,897] Trial 66 finished with value: 0.5878839590443686 and parameters: {'neighbors': 19, 'weights': 'distance', 'metric': 'minkowski', 'p': 1}. Best is trial 63 with value: 0.5917235494880546.\n",
            "[I 2024-10-16 22:42:16,557] Trial 67 finished with value: 0.5716723549488054 and parameters: {'neighbors': 32, 'weights': 'distance', 'metric': 'minkowski', 'p': 1}. Best is trial 63 with value: 0.5917235494880546.\n",
            "[I 2024-10-16 22:42:16,754] Trial 68 finished with value: 0.5473549488054608 and parameters: {'neighbors': 19, 'weights': 'distance', 'metric': 'minkowski', 'p': 2}. Best is trial 63 with value: 0.5917235494880546.\n",
            "[I 2024-10-16 22:42:31,417] Trial 69 finished with value: 0.4680034129692833 and parameters: {'neighbors': 41, 'weights': 'distance', 'metric': 'minkowski', 'p': 3}. Best is trial 63 with value: 0.5917235494880546.\n",
            "[I 2024-10-16 22:42:32,040] Trial 70 finished with value: 0.5802047781569966 and parameters: {'neighbors': 9, 'weights': 'distance', 'metric': 'minkowski', 'p': 1}. Best is trial 63 with value: 0.5917235494880546.\n",
            "[I 2024-10-16 22:42:32,677] Trial 71 finished with value: 0.5827645051194539 and parameters: {'neighbors': 12, 'weights': 'distance', 'metric': 'minkowski', 'p': 1}. Best is trial 63 with value: 0.5917235494880546.\n",
            "[I 2024-10-16 22:42:33,305] Trial 72 finished with value: 0.5848976109215017 and parameters: {'neighbors': 14, 'weights': 'distance', 'metric': 'minkowski', 'p': 1}. Best is trial 63 with value: 0.5917235494880546.\n",
            "[I 2024-10-16 22:42:33,944] Trial 73 finished with value: 0.5878839590443686 and parameters: {'neighbors': 19, 'weights': 'distance', 'metric': 'minkowski', 'p': 1}. Best is trial 63 with value: 0.5917235494880546.\n",
            "[I 2024-10-16 22:42:34,611] Trial 74 finished with value: 0.5742320819112628 and parameters: {'neighbors': 22, 'weights': 'distance', 'metric': 'minkowski', 'p': 1}. Best is trial 63 with value: 0.5917235494880546.\n",
            "[I 2024-10-16 22:42:35,246] Trial 75 finished with value: 0.5878839590443686 and parameters: {'neighbors': 19, 'weights': 'distance', 'metric': 'minkowski', 'p': 1}. Best is trial 63 with value: 0.5917235494880546.\n",
            "[I 2024-10-16 22:42:35,886] Trial 76 finished with value: 0.5878839590443686 and parameters: {'neighbors': 19, 'weights': 'distance', 'metric': 'minkowski', 'p': 1}. Best is trial 63 with value: 0.5917235494880546.\n",
            "[I 2024-10-16 22:42:36,639] Trial 77 finished with value: 0.5686860068259386 and parameters: {'neighbors': 19, 'weights': 'uniform', 'metric': 'minkowski', 'p': 1}. Best is trial 63 with value: 0.5917235494880546.\n",
            "[I 2024-10-16 22:42:37,288] Trial 78 finished with value: 0.5844709897610921 and parameters: {'neighbors': 24, 'weights': 'distance', 'metric': 'minkowski', 'p': 1}. Best is trial 63 with value: 0.5917235494880546.\n",
            "[I 2024-10-16 22:42:37,506] Trial 79 finished with value: 0.5196245733788396 and parameters: {'neighbors': 31, 'weights': 'distance', 'metric': 'minkowski', 'p': 2}. Best is trial 63 with value: 0.5917235494880546.\n",
            "[I 2024-10-16 22:42:38,053] Trial 80 finished with value: 0.5465017064846417 and parameters: {'neighbors': 11, 'weights': 'distance', 'metric': 'cosine'}. Best is trial 63 with value: 0.5917235494880546.\n",
            "[I 2024-10-16 22:42:38,849] Trial 81 finished with value: 0.5861774744027304 and parameters: {'neighbors': 18, 'weights': 'distance', 'metric': 'minkowski', 'p': 1}. Best is trial 63 with value: 0.5917235494880546.\n",
            "[I 2024-10-16 22:42:39,883] Trial 82 finished with value: 0.5823378839590444 and parameters: {'neighbors': 26, 'weights': 'distance', 'metric': 'minkowski', 'p': 1}. Best is trial 63 with value: 0.5917235494880546.\n",
            "[I 2024-10-16 22:42:40,898] Trial 83 finished with value: 0.5848976109215017 and parameters: {'neighbors': 14, 'weights': 'distance', 'metric': 'minkowski', 'p': 1}. Best is trial 63 with value: 0.5917235494880546.\n",
            "[I 2024-10-16 22:42:41,937] Trial 84 finished with value: 0.5823378839590444 and parameters: {'neighbors': 20, 'weights': 'distance', 'metric': 'minkowski', 'p': 1}. Best is trial 63 with value: 0.5917235494880546.\n",
            "[I 2024-10-16 22:42:42,948] Trial 85 finished with value: 0.5861774744027304 and parameters: {'neighbors': 18, 'weights': 'distance', 'metric': 'minkowski', 'p': 1}. Best is trial 63 with value: 0.5917235494880546.\n",
            "[I 2024-10-16 22:42:43,712] Trial 86 finished with value: 0.5742320819112628 and parameters: {'neighbors': 22, 'weights': 'distance', 'metric': 'minkowski', 'p': 1}. Best is trial 63 with value: 0.5917235494880546.\n",
            "[I 2024-10-16 22:42:44,348] Trial 87 finished with value: 0.5827645051194539 and parameters: {'neighbors': 12, 'weights': 'distance', 'metric': 'minkowski', 'p': 1}. Best is trial 63 with value: 0.5917235494880546.\n",
            "[I 2024-10-16 22:42:45,071] Trial 88 finished with value: 0.5661262798634812 and parameters: {'neighbors': 10, 'weights': 'uniform', 'metric': 'minkowski', 'p': 1}. Best is trial 63 with value: 0.5917235494880546.\n",
            "[I 2024-10-16 22:42:45,715] Trial 89 finished with value: 0.5917235494880546 and parameters: {'neighbors': 15, 'weights': 'distance', 'metric': 'minkowski', 'p': 1}. Best is trial 63 with value: 0.5917235494880546.\n",
            "[I 2024-10-16 22:42:46,398] Trial 90 finished with value: 0.5674061433447098 and parameters: {'neighbors': 37, 'weights': 'distance', 'metric': 'minkowski', 'p': 1}. Best is trial 63 with value: 0.5917235494880546.\n",
            "[I 2024-10-16 22:42:47,011] Trial 91 finished with value: 0.5610068259385665 and parameters: {'neighbors': 3, 'weights': 'distance', 'metric': 'minkowski', 'p': 1}. Best is trial 63 with value: 0.5917235494880546.\n",
            "[I 2024-10-16 22:42:47,654] Trial 92 finished with value: 0.5917235494880546 and parameters: {'neighbors': 15, 'weights': 'distance', 'metric': 'minkowski', 'p': 1}. Best is trial 63 with value: 0.5917235494880546.\n",
            "[I 2024-10-16 22:42:48,294] Trial 93 finished with value: 0.5848976109215017 and parameters: {'neighbors': 14, 'weights': 'distance', 'metric': 'minkowski', 'p': 1}. Best is trial 63 with value: 0.5917235494880546.\n",
            "[I 2024-10-16 22:42:48,946] Trial 94 finished with value: 0.5814846416382252 and parameters: {'neighbors': 30, 'weights': 'distance', 'metric': 'minkowski', 'p': 1}. Best is trial 63 with value: 0.5917235494880546.\n",
            "[I 2024-10-16 22:42:49,588] Trial 95 finished with value: 0.5917235494880546 and parameters: {'neighbors': 15, 'weights': 'distance', 'metric': 'minkowski', 'p': 1}. Best is trial 63 with value: 0.5917235494880546.\n",
            "[I 2024-10-16 22:42:50,229] Trial 96 finished with value: 0.5917235494880546 and parameters: {'neighbors': 15, 'weights': 'distance', 'metric': 'minkowski', 'p': 1}. Best is trial 63 with value: 0.5917235494880546.\n",
            "[I 2024-10-16 22:42:50,762] Trial 97 finished with value: 0.5452218430034129 and parameters: {'neighbors': 9, 'weights': 'distance', 'metric': 'cosine'}. Best is trial 63 with value: 0.5917235494880546.\n",
            "[I 2024-10-16 22:42:51,412] Trial 98 finished with value: 0.5917235494880546 and parameters: {'neighbors': 15, 'weights': 'distance', 'metric': 'minkowski', 'p': 1}. Best is trial 63 with value: 0.5917235494880546.\n",
            "[I 2024-10-16 22:42:52,036] Trial 99 finished with value: 0.5917235494880546 and parameters: {'neighbors': 15, 'weights': 'distance', 'metric': 'minkowski', 'p': 1}. Best is trial 63 with value: 0.5917235494880546.\n"
          ]
        },
        {
          "output_type": "stream",
          "name": "stdout",
          "text": [
            "{'neighbors': 15, 'weights': 'distance', 'metric': 'minkowski', 'p': 1}\n"
          ]
        }
      ]
    },
    {
      "cell_type": "markdown",
      "source": [
        "My:\n",
        "```\n",
        "{'neighbors': 37, 'window': 'unfixed', 'kernel': 'uniform', 'metric': 'chebyshev'}\n",
        "```\n",
        "sklearn:\n",
        "```\n",
        "{'neighbors': 15, 'weights': 'distance', 'metric': 'minkowski', 'p': 1}\n",
        "```"
      ],
      "metadata": {
        "id": "LyVB-14GgNCk"
      }
    },
    {
      "cell_type": "markdown",
      "source": [
        "# Различное число соседей"
      ],
      "metadata": {
        "id": "fgAL6hO-qKSC"
      }
    },
    {
      "cell_type": "code",
      "source": [
        "neighbors_range = range(1, 51)\n",
        "size = len(neighbors_range)\n",
        "\n",
        "my_train_accuracy = [0.0] * size\n",
        "my_test_accuracy = [0.0] * size\n",
        "classifier = KnnClassifier(1, window_type='unfixed', kernel='uniform', metric='chebyshev')\n",
        "classifier.fit(X_train, y_train)\n",
        "for neighbors in neighbors_range:\n",
        "    classifier.neighbors_number = neighbors\n",
        "    my_train_accuracy[neighbors - 1] = accuracy_score(y_train, classifier.predict(X_train))\n",
        "    my_test_accuracy[neighbors - 1] = accuracy_score(y_test, classifier.predict(X_test))\n",
        "\n",
        "sklearn_train_accuracy = [0.0] * size\n",
        "sklearn_test_accuracy = [0.0] * size\n",
        "for neighbors in neighbors_range:\n",
        "    classifier = KNeighborsClassifier(neighbors, weights='distance', metric='minkowski', p=1, n_jobs=1)\n",
        "    classifier.fit(X_train, y_train)\n",
        "    sklearn_train_accuracy[neighbors - 1] = accuracy_score(y_train, classifier.predict(X_train))\n",
        "    sklearn_test_accuracy[neighbors - 1] = accuracy_score(y_test, classifier.predict(X_test))"
      ],
      "metadata": {
        "id": "c_90wYk4hFTB"
      },
      "execution_count": null,
      "outputs": []
    },
    {
      "cell_type": "code",
      "source": [
        "import matplotlib.pyplot as plt\n",
        "\n",
        "fig, ax = plt.subplots(1, 2, figsize=(12, 5))\n",
        "fig.suptitle('Accuracy dependency on the neighbors number')\n",
        "ax[0].set_title('My implementation')\n",
        "ax[0].set_xlabel('Neighbors number')\n",
        "ax[0].set_ylabel('Accuracy')\n",
        "ax[0].plot(neighbors_range, my_train_accuracy, label='train')\n",
        "ax[0].plot(neighbors_range, my_test_accuracy, label='test')\n",
        "ax[0].legend()\n",
        "\n",
        "ax[1].set_title('Sklearn implementation')\n",
        "ax[1].set_xlabel('Neighbors number')\n",
        "ax[1].set_ylabel('Accuracy')\n",
        "ax[1].plot(neighbors_range, sklearn_train_accuracy, label='train')\n",
        "ax[1].plot(neighbors_range, sklearn_test_accuracy, label='test')\n",
        "ax[1].legend()"
      ],
      "metadata": {
        "id": "D6oq3PiGhJBJ",
        "colab": {
          "base_uri": "https://localhost:8080/",
          "height": 532
        },
        "outputId": "72b6ba51-0f09-4578-f2f1-fb321d1b4c6f"
      },
      "execution_count": null,
      "outputs": [
        {
          "output_type": "execute_result",
          "data": {
            "text/plain": [
              "<matplotlib.legend.Legend at 0x7d88e2a418d0>"
            ]
          },
          "metadata": {},
          "execution_count": 98
        },
        {
          "output_type": "display_data",
          "data": {
            "text/plain": [
              "<Figure size 1200x500 with 2 Axes>"
            ],
            "image/png": "[encoded data removed]"
          },
          "metadata": {}
        }
      ]
    },
    {
      "cell_type": "code",
      "source": [],
      "metadata": {
        "id": "klmIlCIKlEIf"
      },
      "execution_count": null,
      "outputs": []
    },
    {
      "cell_type": "markdown",
      "source": [
        "# LOWESS"
      ],
      "metadata": {
        "id": "8bU4-776j2rm"
      }
    },
    {
      "cell_type": "code",
      "source": [
        "class Lowess:\n",
        "    neighbors_number = 1\n",
        "    knn_kernel = None\n",
        "    lowess_kernel = None\n",
        "    metric = None\n",
        "\n",
        "    def __init__(self,\n",
        "                 neighbors_number,\n",
        "                 knn_kernel='uniform',\n",
        "                 lowess_kernel='uniform',\n",
        "                 knn_a=1,\n",
        "                 knn_b=1,\n",
        "                 lowess_a=1,\n",
        "                 lowess_b=1,\n",
        "                 metric='minkowski',\n",
        "                 p=2):\n",
        "        self.neighbors_number = neighbors_number\n",
        "        self.metric = get_metric(metric, p)\n",
        "        self.knn_kernel = get_kernel(knn_kernel, knn_a, knn_b)\n",
        "        self.lowess_kernel = get_kernel(lowess_kernel, lowess_a, lowess_b)\n",
        "\n",
        "    def get_weights(self, X, y):\n",
        "        tree = BallTree(X, metric=self.metric)\n",
        "        features_number = len(y.unique())\n",
        "        lowess_weights = [0.0] * X.shape[0]\n",
        "        for i in range(X.shape[0]):\n",
        "            dist, ind = tree.query([X.iloc[i].values], self.neighbors_number + 1, return_distance=True)\n",
        "            dist, ind = dist[0][1:], ind[0][1:]\n",
        "            h = dist[-1]\n",
        "            feature_factors = [0.0] * features_number\n",
        "            for j in range(len(ind)):\n",
        "                try:\n",
        "                    factor = self.knn_kernel(dist[j] / h)\n",
        "                    feature_factors[y.iloc[ind[j]]-1] += factor\n",
        "                except IndexError:\n",
        "                    print(f'{len(feature_factors)=}, {feature_factors=}')\n",
        "                    print(f'{y.iloc[ind[j]]=}')\n",
        "                    raise ArithmeticError(\"EEEEEEEEEEEEEE\")\n",
        "            feature_factors /= np.linalg.norm(feature_factors)\n",
        "            lowess_weights[i] = self.lowess_kernel(1 - feature_factors[y.iloc[i]-1])\n",
        "        return lowess_weights\n"
      ],
      "metadata": {
        "id": "om7RuRCphMQw"
      },
      "execution_count": null,
      "outputs": []
    },
    {
      "cell_type": "code",
      "source": [
        "from sklearn.metrics import accuracy_score\n",
        "\n",
        "lowess = Lowess(neighbors_number=37, knn_kernel='uniform', lowess_kernel='uniform', metric='chebyshev')\n",
        "weights = lowess.get_weights(X_train, y_train)"
      ],
      "metadata": {
        "id": "xE9TIT4XkSn1"
      },
      "execution_count": null,
      "outputs": []
    },
    {
      "cell_type": "markdown",
      "source": [
        "## My kNN"
      ],
      "metadata": {
        "id": "jaJadF28ohTj"
      }
    },
    {
      "cell_type": "code",
      "source": [
        "classifier = KnnClassifier(neighbors_number=37, window_type='unfixed', kernel='uniform', metric='chebyshev')\n",
        "\n",
        "classifier.fit(X_train, y_train)\n",
        "print('До взвешивания: ', accuracy_score(y_test, classifier.predict(X_test)))\n",
        "\n",
        "classifier.fit(X_train, y_train, weights)\n",
        "print('После взвешивания: ', accuracy_score(y_test, classifier.predict(X_test)))"
      ],
      "metadata": {
        "colab": {
          "base_uri": "https://localhost:8080/"
        },
        "id": "OTfk3XF9knBC",
        "outputId": "cd7bd2dd-bc59-4f2b-b64b-a241827ebdbb"
      },
      "execution_count": null,
      "outputs": [
        {
          "output_type": "stream",
          "name": "stdout",
          "text": [
            "До взвешивания:  0.017064846416382253\n",
            "После взвешивания:  0.017064846416382253\n"
          ]
        }
      ]
    },
    {
      "cell_type": "markdown",
      "source": [
        "## sklearn kNN"
      ],
      "metadata": {
        "id": "ETTdA2-npaUy"
      }
    },
    {
      "cell_type": "code",
      "source": [
        "from sklearn.neighbors import KNeighborsClassifier\n",
        "from sklearn.metrics import accuracy_score\n",
        "\n",
        "oversampled_X_train = X_train.sample(frac=10, replace=True, weights=weights, random_state=42)\n",
        "oversampled_y_train = y_train.sample(frac=10, replace=True, weights=weights, random_state=42)\n",
        "classifier = KNeighborsClassifier(15, weights='distance', metric='minkowski', p=1, n_jobs=1)\n",
        "classifier.fit(X_train, y_train)\n",
        "print('До взвешивания: ', accuracy_score(y_test, classifier.predict(X_test)))\n",
        "\n",
        "classifier.fit(oversampled_X_train, oversampled_y_train)\n",
        "print('После взвешивания: ', accuracy_score(y_test, classifier.predict(X_test)))"
      ],
      "metadata": {
        "colab": {
          "base_uri": "https://localhost:8080/"
        },
        "id": "tUGJMc-pkm1z",
        "outputId": "4e126c6b-2566-44ff-aed0-113646706303"
      },
      "execution_count": null,
      "outputs": [
        {
          "output_type": "stream",
          "name": "stdout",
          "text": [
            "До взвешивания:  0.5843003412969283\n",
            "После взвешивания:  0.5215017064846417\n"
          ]
        }
      ]
    },
    {
      "cell_type": "code",
      "source": [],
      "metadata": {
        "id": "GGPN_aOPkmhy"
      },
      "execution_count": null,
      "outputs": []
    }
  ]
}