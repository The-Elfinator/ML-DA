{
  "nbformat": 4,
  "nbformat_minor": 0,
  "metadata": {
    "colab": {
      "provenance": []
    },
    "kernelspec": {
      "name": "python3",
      "display_name": "Python 3"
    },
    "language_info": {
      "name": "python"
    }
  },
  "cells": [
    {
      "cell_type": "markdown",
      "source": [
        "# Вспомогательные функции для ядер и loss"
      ],
      "metadata": {
        "id": "Ky-nhHBfivrO"
      }
    },
    {
      "cell_type": "code",
      "source": [
        "import numpy as np\n",
        "\n",
        "\n",
        "def get_kernel(kernel_name, r=0, n=2, sigma=1, alpha=1):\n",
        "    match kernel_name:\n",
        "        case 'linear':\n",
        "            return linear_kernel\n",
        "        case 'polynomial':\n",
        "            return lambda u, v: polynomial_kernel(r, n, u, v)\n",
        "        case 'gaussian':\n",
        "            return lambda u, v: gaussian_kernel(sigma, u, v)\n",
        "        case 'laplacian':\n",
        "            return lambda u, v: laplacian_kernel(alpha, u, v)\n",
        "        case _:\n",
        "            raise Exception('Unknown kernel specified: linear, polynomial, gaussian or laplacian are available.')\n",
        "\n",
        "\n",
        "def get_kernel_gradient(kernel_name, r=0, n=2, sigma=1, alpha=1):\n",
        "    match kernel_name:\n",
        "        case 'linear':\n",
        "            return linear_kernel_gradient\n",
        "        case 'polynomial':\n",
        "            return lambda X, y, w: polynomial_kernel_gradient(r, n, X, y, w)\n",
        "        case 'gaussian':\n",
        "            return lambda X, y, w: gaussian_kernel_gradient(sigma, X, y, w)\n",
        "        case 'laplacian':\n",
        "            return lambda X, y, w: laplacian_kernel_gradient(alpha, X, y, w)\n",
        "        case _:\n",
        "            raise Exception('Unknown kernel specified: linear, polynomial, gaussian or laplacian are available.')\n",
        "\n",
        "\n",
        "def linear_kernel(u, v):\n",
        "    return np.dot(u, v)\n",
        "\n",
        "\n",
        "def polynomial_kernel(r, n, u, v):\n",
        "    return (np.dot(u, v) + r) ** n\n",
        "\n",
        "\n",
        "def gaussian_kernel(sigma, u, v):\n",
        "    return np.exp(-(np.dot(u - v, u - v)) / (2 * sigma ** 2))\n",
        "\n",
        "\n",
        "def laplacian_kernel(alpha, u, v):\n",
        "    return np.exp(-alpha * np.linalg.norm(u - v, ord=2))\n",
        "\n",
        "\n",
        "def linear_kernel_gradient(X, y, w):\n",
        "    value = np.zeros(X.shape[1])\n",
        "    for i in range(X.shape[0]):\n",
        "        if y.iloc[i] * linear_kernel(X.iloc[i], w) < 1:\n",
        "            value -= y.iloc[i] * X.iloc[i]\n",
        "    return value\n",
        "\n",
        "\n",
        "def polynomial_kernel_gradient(r, n, X, y, w):\n",
        "    value = np.zeros(X.shape[1])\n",
        "    for i in range(X.shape[0]):\n",
        "        if y.iloc[i] * polynomial_kernel(r, n, X.iloc[i], w) < 1:\n",
        "            value -= y.iloc[i] * n * (np.dot(X.iloc[i], w) + r) ** (n - 1) * X.iloc[i]\n",
        "    return value\n",
        "\n",
        "\n",
        "def gaussian_kernel_gradient(sigma, X, y, w):\n",
        "    value = np.zeros(X.shape[1])\n",
        "    sigma2 = sigma * sigma\n",
        "    for i in range(X.shape[0]):\n",
        "        if y.iloc[i] * gaussian_kernel(sigma, X.iloc[i], w) < 1:\n",
        "            diff = X.iloc[i] - w\n",
        "            value -= y.iloc[i] / sigma2 * np.exp(-np.dot(diff, diff) / (2 * sigma2)) * diff\n",
        "    return value\n",
        "\n",
        "\n",
        "def laplacian_kernel_gradient(alpha, X, y, w):\n",
        "    value = np.zeros(X.shape[1])\n",
        "    for i in range(X.shape[0]):\n",
        "        if y.iloc[i] * laplacian_kernel(alpha, X.iloc[i], w) < 1:\n",
        "            diff = X.iloc[i] - w\n",
        "            norm = np.linalg.norm(diff, ord=2)\n",
        "            value -= y.iloc[i] * alpha / norm * np.exp(-alpha * norm) * diff\n",
        "    return value"
      ],
      "metadata": {
        "id": "gLCoMRYTxc4o"
      },
      "execution_count": null,
      "outputs": []
    },
    {
      "cell_type": "code",
      "source": [
        "def get_loss(loss_name):\n",
        "    match loss_name:\n",
        "        case 'linear':\n",
        "            return linear_loss\n",
        "        case 'logarithmic':\n",
        "            return logarithmic_loss\n",
        "        case 'square':\n",
        "            return square_loss\n",
        "        case 'sigmoid':\n",
        "            return sigmoid_loss\n",
        "        case _:\n",
        "            raise Exception('Unknown loss specified: '\n",
        "                            'linear, logarithmic, square or sigmoid are available.')\n",
        "\n",
        "\n",
        "def get_loss_gradient(loss_name):\n",
        "    match loss_name:\n",
        "        case 'linear':\n",
        "            return linear_loss_gradient\n",
        "        case 'logarithmic':\n",
        "            return logarithmic_loss_gradient\n",
        "        case 'square':\n",
        "            return square_loss_gradient\n",
        "        case 'sigmoid':\n",
        "            return sigmoid_loss_gradient\n",
        "        case _:\n",
        "            raise Exception('Unknown loss specified: '\n",
        "                            'linear, logarithmic, square or sigmoid are available.')\n",
        "\n",
        "\n",
        "def linear_loss(X, y, w):\n",
        "    value = 0\n",
        "    n = X.shape[0]\n",
        "    for i in range(n):\n",
        "        value += max(0, -np.dot(X.iloc[i], w) * y.iloc[i])\n",
        "    return value / n\n",
        "\n",
        "\n",
        "def logarithmic_loss(X, y, w):\n",
        "    value = 0\n",
        "    n = X.shape[0]\n",
        "    for i in range(n):\n",
        "        value += np.log2(1 + np.exp(-np.dot(X.iloc[i], w) * y.iloc[i]))\n",
        "    return value / n\n",
        "\n",
        "\n",
        "def square_loss(X, y, w):\n",
        "    value = 0\n",
        "    n = X.shape[0]\n",
        "    for i in range(n):\n",
        "        m = np.dot(X.iloc[i], w) * y.iloc[i]\n",
        "        value += (1 - m) * (1 - m)\n",
        "    return value / n\n",
        "\n",
        "\n",
        "def sigmoid_loss(X, y, w):\n",
        "    value = 0\n",
        "    n = X.shape[0]\n",
        "    for i in range(n):\n",
        "        value += 2 / (1 + np.exp(np.dot(X.iloc[i], w) * y.iloc[i]))\n",
        "    return value / n\n",
        "\n",
        "\n",
        "def linear_loss_gradient(X, y, w):\n",
        "    value = np.zeros(X.shape[1])\n",
        "    n = X.shape[0]\n",
        "    for i in range(n):\n",
        "        if np.dot(X.iloc[i], w) * y.iloc[i] <= 0:\n",
        "            value -= y.iloc[i] * X.iloc[i]\n",
        "    return value\n",
        "\n",
        "\n",
        "def logarithmic_loss_gradient(X, y, w):\n",
        "    value = np.zeros(X.shape[1])\n",
        "    n = X.shape[0]\n",
        "    for i in range(n):\n",
        "        value += X.iloc[i] * y.iloc[i] / (1 + np.exp(y.iloc[i] * np.dot(X.iloc[i], w)))\n",
        "    return -value\n",
        "\n",
        "\n",
        "def square_loss_gradient(X, y, w):\n",
        "    value = np.zeros(X.shape[1])\n",
        "    n = X.shape[0]\n",
        "    for i in range(n):\n",
        "        value -= 2 * y.iloc[i] * (1 - y.iloc[i] * np.dot(X.iloc[i], w)) * X.iloc[i]\n",
        "    return value\n",
        "\n",
        "\n",
        "def sigmoid_loss_gradient(X, y, w):\n",
        "    value = np.zeros(X.shape[1])\n",
        "    n = X.shape[0]\n",
        "    for i in range(n):\n",
        "        sigmoid = 1 / (1 + np.exp(y.iloc[i] * np.dot(X.iloc[i], w)))\n",
        "        value -= 2 * y.iloc[i] * sigmoid * (1 - sigmoid) * X.iloc[i]\n",
        "    return value"
      ],
      "metadata": {
        "id": "F-u6YlaGxr_O"
      },
      "execution_count": null,
      "outputs": []
    },
    {
      "cell_type": "markdown",
      "source": [
        "# Мои реализации"
      ],
      "metadata": {
        "id": "C4j35_R2i58v"
      }
    },
    {
      "cell_type": "code",
      "source": [
        "from numpy import dot, transpose, eye\n",
        "from numpy.linalg import inv\n",
        "from sklearn.metrics import f1_score\n",
        "\n",
        "class MatrixRegressor:\n",
        "    factors = None\n",
        "\n",
        "    def fit(self, F, y, tau):\n",
        "        self.factors = dot(\n",
        "            dot(\n",
        "                inv(\n",
        "                    dot(transpose(F), F) + tau * eye(F.shape[1])\n",
        "                ),\n",
        "                transpose(F)\n",
        "            ),\n",
        "            y\n",
        "        )\n",
        "\n",
        "    def predict(self, X):\n",
        "        return dot(X, self.factors)\n",
        "\n",
        "\n",
        "class MatrixClassifier:\n",
        "    regressor = MatrixRegressor()\n",
        "\n",
        "    def fit(self, F, y, tau):\n",
        "        self.regressor.fit(F, y, tau)\n",
        "\n",
        "    def predict(self, X):\n",
        "        return list(\n",
        "            map(\n",
        "                lambda x: 1 if x >= 0 else -1,\n",
        "                self.regressor.predict(X)\n",
        "            )\n",
        "        )\n",
        "\n",
        "\n",
        "class GDClassifier:\n",
        "    loss = None\n",
        "    loss_gradient = None\n",
        "    l1 = 0\n",
        "    l2 = 0\n",
        "    lr = 1e-4\n",
        "    epochs = 1\n",
        "    h = 1e-6\n",
        "    w = None\n",
        "    train_history = None\n",
        "    test_history = None\n",
        "\n",
        "    def __init__(self, lr, epochs, loss='linear', l1=0, l2=0):\n",
        "        self.loss = get_loss(loss)\n",
        "        self.loss_gradient = get_loss_gradient(loss)\n",
        "        self.l1 = l1\n",
        "        self.l2 = l2\n",
        "        self.lr = lr\n",
        "        self.epochs = epochs\n",
        "\n",
        "    def fit(self, X, y):\n",
        "        self.w = np.zeros(X.shape[1])\n",
        "        for epoch in range(self.epochs):\n",
        "            gradient = self.loss_gradient(X, y, self.w) + self.l1 * np.sign(self.w) + 2 * self.l2 * self.w\n",
        "            self.w -= self.lr * gradient\n",
        "\n",
        "    def predict(self, X):\n",
        "        return np.sign(dot(X, self.w))\n",
        "\n",
        "    def debug_fit(self, X_train, y_train, X_test, y_test):\n",
        "        self.w = np.zeros(X_train.shape[1])\n",
        "        self.train_history = np.zeros(self.epochs)\n",
        "        self.test_history = np.zeros(self.epochs)\n",
        "        for epoch in range(self.epochs):\n",
        "            gradient = self.loss_gradient(X_train, y_train, self.w) + self.l1 * np.sign(self.w) + 2 * self.l2 * self.w\n",
        "            self.w -= self.lr * gradient\n",
        "            self.train_history[epoch] = self.loss(X_train, y_train, self.w)\n",
        "            self.test_history[epoch] = f1_score(y_test, self.predict(X_test))\n",
        "\n",
        "\n",
        "class SVMClassifier:\n",
        "    c = 1\n",
        "    lr = 1e-4\n",
        "    epochs = 1\n",
        "    kernel = None\n",
        "    kernel_gradient = None\n",
        "    w = None\n",
        "    train_history = None\n",
        "    test_history = None\n",
        "\n",
        "    def __init__(self, c, lr, epochs, kernel='linear', r=0, n=2, sigma=1, alpha=1):\n",
        "        self.c = c\n",
        "        self.kernel = get_kernel(kernel, r, n, sigma, alpha)\n",
        "        self.kernel_gradient = get_kernel_gradient(kernel, r, n, sigma, alpha)\n",
        "        self.lr = lr\n",
        "        self.epochs = epochs\n",
        "\n",
        "    def fit(self, X, y):\n",
        "        self.w = np.zeros(X.shape[1])\n",
        "        for epoch in range(self.epochs):\n",
        "            gradient = self.kernel_gradient(X, y, self.w) + 1 / self.c * self.w\n",
        "            self.w -= self.lr * gradient\n",
        "\n",
        "    def predict(self, X):\n",
        "        return np.array([1 if self.kernel(X.iloc[i], self.w) >= 0 else -1 for i in range(X.shape[0])])\n",
        "\n",
        "    def debug_fit(self, X_train, y_train, X_test, y_test):\n",
        "        self.w = np.zeros(X_train.shape[1])\n",
        "        self.train_history = np.zeros(self.epochs)\n",
        "        self.test_history = np.zeros(self.epochs)\n",
        "        for epoch in range(self.epochs):\n",
        "            gradient = self.kernel_gradient(X_train, y_train, self.w) + 1 / self.c * self.w\n",
        "            self.w -= self.lr * gradient\n",
        "            self.train_history[epoch] = self.loss(X_train, y_train)\n",
        "            self.test_history[epoch] = f1_score(y_test, self.predict(X_test))\n",
        "\n",
        "    def loss(self, X, y):\n",
        "        value = 0\n",
        "        n = X.shape[0]\n",
        "        for i in range(n):\n",
        "            value += max(0, 1 - dot(X.iloc[i], self.w) * y.iloc[i])\n",
        "        return value / n"
      ],
      "metadata": {
        "id": "9019yn6TxvcT"
      },
      "execution_count": null,
      "outputs": []
    },
    {
      "cell_type": "markdown",
      "source": [
        "# Подготовка датасета"
      ],
      "metadata": {
        "id": "qPIY3Tf0jCPX"
      }
    },
    {
      "cell_type": "code",
      "source": [
        "!cp drive/MyDrive/us_cities.csv ./us_cities.csv"
      ],
      "metadata": {
        "id": "NrEnsmod0S17"
      },
      "execution_count": null,
      "outputs": []
    },
    {
      "cell_type": "code",
      "source": [
        "import pandas as pd\n",
        "from sklearn.utils import resample\n",
        "from sklearn.model_selection import train_test_split\n",
        "\n",
        "feature = 'Region'\n",
        "size = 1000\n",
        "train_ratio = 0.8\n",
        "\n",
        "df = pd.read_csv('us_cities.csv')\n",
        "df = df.dropna(ignore_index=True)\n",
        "df[feature] = df[feature].map({'West': -1, 'Midwest': -1, 'Northeast': 1, 'South': 1})\n",
        "df = df.iloc[:, 1:].drop(columns=['City', 'State', 'County', 'Division', 'Longitude', 'Latitude'])\n",
        "for column in df:\n",
        "    if column != 'Region':\n",
        "        mean = df[column].mean()\n",
        "        std = df[column].std()\n",
        "        outliers = np.where((df[column] - mean) / std >= 3)[0]\n",
        "        df = df.drop(index=outliers).reset_index(drop=True)\n",
        "\n",
        "west_df = resample(df.loc[df[feature] == -1], n_samples=size).reset_index(drop=True)\n",
        "east_df = resample(df.loc[df[feature] == 1], n_samples=size).reset_index(drop=True)\n",
        "df = pd.concat([west_df, east_df])\n",
        "target = pd.Series(df[feature])\n",
        "df = df.drop(columns=[feature])\n",
        "df = (df - df.mean()) / df.std()\n",
        "X_train, X_test, y_train, y_test = train_test_split(df, target, train_size=train_ratio)"
      ],
      "metadata": {
        "id": "18EtH2Cax-cl"
      },
      "execution_count": null,
      "outputs": []
    },
    {
      "cell_type": "markdown",
      "source": [
        "# Настройка гиперпараметров"
      ],
      "metadata": {
        "id": "jm3iBVSPjFnY"
      }
    },
    {
      "cell_type": "code",
      "source": [
        "!pip install optuna"
      ],
      "metadata": {
        "colab": {
          "base_uri": "https://localhost:8080/"
        },
        "id": "YgWkOCtP0n3a",
        "outputId": "8e13a6d4-ace7-4be3-a157-446f184f90f4"
      },
      "execution_count": null,
      "outputs": [
        {
          "output_type": "stream",
          "name": "stdout",
          "text": [
            "Collecting optuna\n",
            "  Downloading optuna-4.0.0-py3-none-any.whl.metadata (16 kB)\n",
            "Collecting alembic>=1.5.0 (from optuna)\n",
            "  Downloading alembic-1.13.3-py3-none-any.whl.metadata (7.4 kB)\n",
            "Collecting colorlog (from optuna)\n",
            "  Downloading colorlog-6.8.2-py3-none-any.whl.metadata (10 kB)\n",
            "Requirement already satisfied: numpy in /usr/local/lib/python3.10/dist-packages (from optuna) (1.26.4)\n",
            "Requirement already satisfied: packaging>=20.0 in /usr/local/lib/python3.10/dist-packages (from optuna) (24.1)\n",
            "Requirement already satisfied: sqlalchemy>=1.3.0 in /usr/local/lib/python3.10/dist-packages (from optuna) (2.0.35)\n",
            "Requirement already satisfied: tqdm in /usr/local/lib/python3.10/dist-packages (from optuna) (4.66.5)\n",
            "Requirement already satisfied: PyYAML in /usr/local/lib/python3.10/dist-packages (from optuna) (6.0.2)\n",
            "Collecting Mako (from alembic>=1.5.0->optuna)\n",
            "  Downloading Mako-1.3.5-py3-none-any.whl.metadata (2.9 kB)\n",
            "Requirement already satisfied: typing-extensions>=4 in /usr/local/lib/python3.10/dist-packages (from alembic>=1.5.0->optuna) (4.12.2)\n",
            "Requirement already satisfied: greenlet!=0.4.17 in /usr/local/lib/python3.10/dist-packages (from sqlalchemy>=1.3.0->optuna) (3.1.1)\n",
            "Requirement already satisfied: MarkupSafe>=0.9.2 in /usr/local/lib/python3.10/dist-packages (from Mako->alembic>=1.5.0->optuna) (3.0.1)\n",
            "Downloading optuna-4.0.0-py3-none-any.whl (362 kB)\n",
            "\u001b[2K   \u001b[90m━━━━━━━━━━━━━━━━━━━━━━━━━━━━━━━━━━━━━━━━\u001b[0m \u001b[32m362.8/362.8 kB\u001b[0m \u001b[31m7.8 MB/s\u001b[0m eta \u001b[36m0:00:00\u001b[0m\n",
            "\u001b[?25hDownloading alembic-1.13.3-py3-none-any.whl (233 kB)\n",
            "\u001b[2K   \u001b[90m━━━━━━━━━━━━━━━━━━━━━━━━━━━━━━━━━━━━━━━━\u001b[0m \u001b[32m233.2/233.2 kB\u001b[0m \u001b[31m14.0 MB/s\u001b[0m eta \u001b[36m0:00:00\u001b[0m\n",
            "\u001b[?25hDownloading colorlog-6.8.2-py3-none-any.whl (11 kB)\n",
            "Downloading Mako-1.3.5-py3-none-any.whl (78 kB)\n",
            "\u001b[2K   \u001b[90m━━━━━━━━━━━━━━━━━━━━━━━━━━━━━━━━━━━━━━━━\u001b[0m \u001b[32m78.6/78.6 kB\u001b[0m \u001b[31m5.4 MB/s\u001b[0m eta \u001b[36m0:00:00\u001b[0m\n",
            "\u001b[?25hInstalling collected packages: Mako, colorlog, alembic, optuna\n",
            "Successfully installed Mako-1.3.5 alembic-1.13.3 colorlog-6.8.2 optuna-4.0.0\n"
          ]
        }
      ]
    },
    {
      "cell_type": "code",
      "source": [
        "import optuna\n",
        "from sklearn.metrics import f1_score\n",
        "\n",
        "train_size = int(X_train.shape[0] * train_ratio)\n",
        "train_data = X_train[: train_size]\n",
        "valid_data = X_train[train_size:]\n",
        "train_target = y_train[: train_size]\n",
        "valid_target = y_train[train_size :]"
      ],
      "metadata": {
        "id": "MQ4rbO3a0jlk"
      },
      "execution_count": null,
      "outputs": []
    },
    {
      "cell_type": "code",
      "source": [
        "def gd_objective(trial):\n",
        "    lr = trial.suggest_float('lr', 1e-6, 1e-2, log=True)\n",
        "    epochs = trial.suggest_int('epochs', 10, 100)\n",
        "    loss = trial.suggest_categorical('loss', ['linear', 'logarithmic', 'square', 'sigmoid'])\n",
        "    l1 = trial.suggest_float('l1', 1e-2, 1, log=True)\n",
        "    l2 = trial.suggest_float('l2', 1e-2, 1, log=True)\n",
        "    classifier = GDClassifier(lr, epochs, loss, l1, l2)\n",
        "    classifier.fit(train_data, train_target)\n",
        "    return f1_score(valid_target, classifier.predict(valid_data))\n",
        "\n",
        "study = optuna.create_study(direction='maximize')\n",
        "study.optimize(gd_objective, n_trials=100)\n",
        "print(study.best_params)"
      ],
      "metadata": {
        "colab": {
          "base_uri": "https://localhost:8080/"
        },
        "id": "T7zl8HwN0mrj",
        "outputId": "57d6ab77-180d-46f7-e3e6-aa6ce54515e7"
      },
      "execution_count": null,
      "outputs": [
        {
          "output_type": "stream",
          "name": "stderr",
          "text": [
            "[I 2024-10-16 19:35:21,342] A new study created in memory with name: no-name-537a89c5-474d-47f8-915a-5e5c1c13276f\n",
            "[I 2024-10-16 19:36:52,234] Trial 0 finished with value: 0.7671232876712328 and parameters: {'lr': 0.0005132687797592293, 'epochs': 99, 'loss': 'logarithmic', 'l1': 0.7171136260774637, 'l2': 0.011436156669803627}. Best is trial 0 with value: 0.7671232876712328.\n",
            "[I 2024-10-16 19:37:25,247] Trial 1 finished with value: 0.625 and parameters: {'lr': 0.002657186536836602, 'epochs': 79, 'loss': 'linear', 'l1': 0.10085336982091044, 'l2': 0.10759692127781532}. Best is trial 0 with value: 0.7671232876712328.\n",
            "[I 2024-10-16 19:38:30,306] Trial 2 finished with value: 0.7087719298245614 and parameters: {'lr': 1.5509298369795495e-05, 'epochs': 60, 'loss': 'logarithmic', 'l1': 0.1823611530335368, 'l2': 0.013079868434624482}. Best is trial 0 with value: 0.7671232876712328.\n",
            "[I 2024-10-16 19:39:17,352] Trial 3 finished with value: 0.698961937716263 and parameters: {'lr': 1.17845166216751e-06, 'epochs': 66, 'loss': 'square', 'l1': 0.03913217732977096, 'l2': 0.8619103103536173}. Best is trial 0 with value: 0.7671232876712328.\n",
            "[I 2024-10-16 19:40:08,921] Trial 4 finished with value: 0.78 and parameters: {'lr': 0.00015312794757424848, 'epochs': 62, 'loss': 'logarithmic', 'l1': 0.03239718146100331, 'l2': 0.9986533393838319}. Best is trial 4 with value: 0.78.\n",
            "[I 2024-10-16 19:41:03,440] Trial 5 finished with value: 0.7266187050359713 and parameters: {'lr': 0.0016429870279683302, 'epochs': 65, 'loss': 'logarithmic', 'l1': 0.04463103513760213, 'l2': 0.01612614718117019}. Best is trial 4 with value: 0.78.\n",
            "[I 2024-10-16 19:41:12,468] Trial 6 finished with value: 0.6086956521739131 and parameters: {'lr': 2.121173167916765e-06, 'epochs': 22, 'loss': 'linear', 'l1': 0.9728161955418158, 'l2': 0.03562247055255449}. Best is trial 4 with value: 0.78.\n",
            "[I 2024-10-16 19:41:25,427] Trial 7 finished with value: 0.6529209621993127 and parameters: {'lr': 2.5007534456572678e-06, 'epochs': 16, 'loss': 'logarithmic', 'l1': 0.1229151064016408, 'l2': 0.02818987900084076}. Best is trial 4 with value: 0.78.\n",
            "[I 2024-10-16 19:42:18,601] Trial 8 finished with value: 0.6689419795221843 and parameters: {'lr': 1.8138871593788556e-06, 'epochs': 65, 'loss': 'logarithmic', 'l1': 0.5911921122280241, 'l2': 0.17701708132035263}. Best is trial 4 with value: 0.78.\n",
            "[I 2024-10-16 19:43:03,662] Trial 9 finished with value: 0.7697368421052632 and parameters: {'lr': 1.2378868844242485e-05, 'epochs': 64, 'loss': 'square', 'l1': 0.081058604643399, 'l2': 0.19549957543696275}. Best is trial 4 with value: 0.78.\n",
            "[I 2024-10-16 19:43:29,891] Trial 10 finished with value: 0.7083333333333334 and parameters: {'lr': 0.00018707419420994044, 'epochs': 36, 'loss': 'sigmoid', 'l1': 0.01071802943660038, 'l2': 0.826968145461182}. Best is trial 4 with value: 0.78.\n",
            "[I 2024-10-16 19:44:01,167] Trial 11 finished with value: 0.7697368421052632 and parameters: {'lr': 1.671663980083038e-05, 'epochs': 44, 'loss': 'square', 'l1': 0.036560927604165926, 'l2': 0.2881022306088745}. Best is trial 4 with value: 0.78.\n",
            "[I 2024-10-16 19:45:00,544] Trial 12 finished with value: 0.7777777777777778 and parameters: {'lr': 3.797709171681529e-05, 'epochs': 83, 'loss': 'square', 'l1': 0.01513454474211564, 'l2': 0.351973775978924}. Best is trial 4 with value: 0.78.\n",
            "[I 2024-10-16 19:46:04,593] Trial 13 finished with value: 0.7034482758620689 and parameters: {'lr': 6.930848133035789e-05, 'epochs': 89, 'loss': 'sigmoid', 'l1': 0.012836747988753856, 'l2': 0.47067630187259835}. Best is trial 4 with value: 0.78.\n",
            "[I 2024-10-16 19:47:02,207] Trial 14 finished with value: 0.7752442996742671 and parameters: {'lr': 8.65882711723201e-05, 'epochs': 79, 'loss': 'square', 'l1': 0.02068644721196331, 'l2': 0.40370364754924426}. Best is trial 4 with value: 0.78.\n",
            "[I 2024-10-16 19:47:34,730] Trial 15 finished with value: 0.5460992907801419 and parameters: {'lr': 0.000387310618286703, 'epochs': 45, 'loss': 'square', 'l1': 0.021286985562062252, 'l2': 0.9622463050178491}. Best is trial 4 with value: 0.78.\n",
            "[I 2024-10-16 19:48:31,833] Trial 16 finished with value: 0.7542087542087542 and parameters: {'lr': 0.007017613855230672, 'epochs': 80, 'loss': 'sigmoid', 'l1': 0.019504060419459377, 'l2': 0.509372584607487}. Best is trial 4 with value: 0.78.\n",
            "[I 2024-10-16 19:49:11,363] Trial 17 finished with value: 0.7285714285714285 and parameters: {'lr': 2.8605672873449526e-05, 'epochs': 99, 'loss': 'linear', 'l1': 0.060632594411758986, 'l2': 0.10779572435914173}. Best is trial 4 with value: 0.78.\n",
            "[I 2024-10-16 19:49:53,300] Trial 18 finished with value: 0.6827586206896552 and parameters: {'lr': 7.065203653595673e-06, 'epochs': 51, 'loss': 'logarithmic', 'l1': 0.23788817318439526, 'l2': 0.2700837234018585}. Best is trial 4 with value: 0.78.\n",
            "[I 2024-10-16 19:50:55,158] Trial 19 finished with value: 0.7777777777777778 and parameters: {'lr': 4.560652189526241e-05, 'epochs': 86, 'loss': 'square', 'l1': 0.02665530678608008, 'l2': 0.05157639284666315}. Best is trial 4 with value: 0.78.\n",
            "[I 2024-10-16 19:51:59,044] Trial 20 finished with value: 0.777027027027027 and parameters: {'lr': 0.0002802679788534517, 'epochs': 72, 'loss': 'logarithmic', 'l1': 0.059017368652097765, 'l2': 0.570391185850328}. Best is trial 4 with value: 0.78.\n",
            "[I 2024-10-16 19:53:02,951] Trial 21 finished with value: 0.7777777777777778 and parameters: {'lr': 4.4970103675218026e-05, 'epochs': 86, 'loss': 'square', 'l1': 0.029200855048513195, 'l2': 0.045378188353743444}. Best is trial 4 with value: 0.78.\n",
            "[I 2024-10-16 19:54:09,329] Trial 22 finished with value: 0.5460992907801419 and parameters: {'lr': 0.00015590668264256645, 'epochs': 93, 'loss': 'square', 'l1': 0.015731591613209032, 'l2': 0.06199989545769802}. Best is trial 4 with value: 0.78.\n",
            "[I 2024-10-16 19:55:04,779] Trial 23 finished with value: 0.5460992907801419 and parameters: {'lr': 0.0008722136792120791, 'epochs': 73, 'loss': 'square', 'l1': 0.026921684593237048, 'l2': 0.06615222702835719}. Best is trial 4 with value: 0.78.\n",
            "[I 2024-10-16 19:55:42,817] Trial 24 finished with value: 0.7593220338983051 and parameters: {'lr': 5.628205605110276e-06, 'epochs': 53, 'loss': 'square', 'l1': 0.010431264230170044, 'l2': 0.17392581456938483}. Best is trial 4 with value: 0.78.\n",
            "[I 2024-10-16 19:56:44,995] Trial 25 finished with value: 0.7777777777777778 and parameters: {'lr': 3.1944319376624076e-05, 'epochs': 85, 'loss': 'square', 'l1': 0.01734370002388117, 'l2': 0.021074528069968405}. Best is trial 4 with value: 0.78.\n",
            "[I 2024-10-16 19:57:51,289] Trial 26 finished with value: 0.7303754266211604 and parameters: {'lr': 0.00013538221905905112, 'epochs': 91, 'loss': 'sigmoid', 'l1': 0.028229328427436924, 'l2': 0.0754792448315124}. Best is trial 4 with value: 0.78.\n",
            "[I 2024-10-16 19:58:21,051] Trial 27 finished with value: 0.6050420168067226 and parameters: {'lr': 5.8864087311114336e-05, 'epochs': 75, 'loss': 'linear', 'l1': 0.050273037463711596, 'l2': 0.32038449153087206}. Best is trial 4 with value: 0.78.\n",
            "[I 2024-10-16 19:59:12,441] Trial 28 finished with value: 0.5460992907801419 and parameters: {'lr': 0.0007441278281342323, 'epochs': 71, 'loss': 'square', 'l1': 0.014341751697915947, 'l2': 0.6695389434540142}. Best is trial 4 with value: 0.78.\n",
            "[I 2024-10-16 20:00:32,898] Trial 29 finished with value: 0.757679180887372 and parameters: {'lr': 2.6645087243966025e-05, 'epochs': 98, 'loss': 'logarithmic', 'l1': 0.07101454342448524, 'l2': 0.047774079974266616}. Best is trial 4 with value: 0.78.\n",
            "[I 2024-10-16 20:00:59,953] Trial 30 finished with value: 0.673469387755102 and parameters: {'lr': 5.281411281346439e-06, 'epochs': 33, 'loss': 'logarithmic', 'l1': 0.02755565593073645, 'l2': 0.14663679564996882}. Best is trial 4 with value: 0.78.\n",
            "[I 2024-10-16 20:02:00,105] Trial 31 finished with value: 0.7777777777777778 and parameters: {'lr': 3.7782652797970456e-05, 'epochs': 85, 'loss': 'square', 'l1': 0.03086812732061776, 'l2': 0.042886026360831934}. Best is trial 4 with value: 0.78.\n",
            "[I 2024-10-16 20:03:00,491] Trial 32 finished with value: 0.7752442996742671 and parameters: {'lr': 5.6431475584825735e-05, 'epochs': 85, 'loss': 'square', 'l1': 0.025136959453111927, 'l2': 0.0887103309542223}. Best is trial 4 with value: 0.78.\n",
            "[I 2024-10-16 20:03:57,046] Trial 33 finished with value: 0.4696132596685083 and parameters: {'lr': 0.00024371851756845438, 'epochs': 80, 'loss': 'square', 'l1': 0.11396220265866455, 'l2': 0.023346420582432966}. Best is trial 4 with value: 0.78.\n",
            "[I 2024-10-16 20:04:37,749] Trial 34 finished with value: 0.5460992907801419 and parameters: {'lr': 0.00012255885038674113, 'epochs': 57, 'loss': 'square', 'l1': 0.04023986453287204, 'l2': 0.12522940368683613}. Best is trial 4 with value: 0.78.\n",
            "[I 2024-10-16 20:05:44,067] Trial 35 finished with value: 0.7737704918032787 and parameters: {'lr': 1.6764357364935035e-05, 'epochs': 94, 'loss': 'square', 'l1': 0.1834979805538939, 'l2': 0.010753980267787655}. Best is trial 4 with value: 0.78.\n",
            "[I 2024-10-16 20:06:18,157] Trial 36 finished with value: 0.656934306569343 and parameters: {'lr': 1.0513446536689405e-05, 'epochs': 87, 'loss': 'linear', 'l1': 0.01319836543027735, 'l2': 0.048578686843302625}. Best is trial 4 with value: 0.78.\n",
            "[I 2024-10-16 20:07:20,446] Trial 37 finished with value: 0.7593220338983051 and parameters: {'lr': 4.127280649496358e-05, 'epochs': 78, 'loss': 'logarithmic', 'l1': 0.035907308936287366, 'l2': 0.6773043007352326}. Best is trial 4 with value: 0.78.\n",
            "[I 2024-10-16 20:08:08,652] Trial 38 finished with value: 0.7752442996742671 and parameters: {'lr': 9.286799161790335e-05, 'epochs': 68, 'loss': 'square', 'l1': 0.4547602599994873, 'l2': 0.03390118459569795}. Best is trial 4 with value: 0.78.\n",
            "[I 2024-10-16 20:09:00,121] Trial 39 finished with value: 0.777027027027027 and parameters: {'lr': 0.0004734133639831294, 'epochs': 61, 'loss': 'logarithmic', 'l1': 0.04798707385282468, 'l2': 0.015150964273223306}. Best is trial 4 with value: 0.78.\n",
            "[I 2024-10-16 20:09:46,349] Trial 40 finished with value: 0.6690909090909091 and parameters: {'lr': 0.0017713261170575639, 'epochs': 96, 'loss': 'linear', 'l1': 0.08969012560312103, 'l2': 0.2326710837989132}. Best is trial 4 with value: 0.78.\n",
            "[I 2024-10-16 20:10:53,313] Trial 41 finished with value: 0.7777777777777778 and parameters: {'lr': 2.462191412186277e-05, 'epochs': 84, 'loss': 'square', 'l1': 0.01728762138852939, 'l2': 0.021446625132285378}. Best is trial 4 with value: 0.78.\n",
            "[I 2024-10-16 20:12:03,670] Trial 42 finished with value: 0.7777777777777778 and parameters: {'lr': 4.467347269081779e-05, 'epochs': 90, 'loss': 'square', 'l1': 0.021812851575507764, 'l2': 0.02376929248461051}. Best is trial 4 with value: 0.78.\n",
            "[I 2024-10-16 20:13:04,274] Trial 43 finished with value: 0.7777777777777778 and parameters: {'lr': 2.0247433156781024e-05, 'epochs': 83, 'loss': 'square', 'l1': 0.01673293795108468, 'l2': 0.019028527388268046}. Best is trial 4 with value: 0.78.\n",
            "[I 2024-10-16 20:14:00,189] Trial 44 finished with value: 0.7697368421052632 and parameters: {'lr': 9.065761304814405e-06, 'epochs': 76, 'loss': 'square', 'l1': 0.03261616878691074, 'l2': 0.03281948468240134}. Best is trial 4 with value: 0.78.\n",
            "[I 2024-10-16 20:14:50,410] Trial 45 finished with value: 0.7619047619047619 and parameters: {'lr': 3.526478706328278e-06, 'epochs': 69, 'loss': 'square', 'l1': 0.011641876759653943, 'l2': 0.05790164601526003}. Best is trial 4 with value: 0.78.\n",
            "[I 2024-10-16 20:16:04,516] Trial 46 finished with value: 0.7083333333333334 and parameters: {'lr': 8.269475877567233e-05, 'epochs': 100, 'loss': 'sigmoid', 'l1': 0.020019669762794474, 'l2': 0.3850615097799189}. Best is trial 4 with value: 0.78.\n",
            "[I 2024-10-16 20:17:09,791] Trial 47 finished with value: 0.7777777777777778 and parameters: {'lr': 3.561950625308744e-05, 'epochs': 89, 'loss': 'square', 'l1': 0.024734498101964302, 'l2': 0.0377472068747601}. Best is trial 4 with value: 0.78.\n",
            "[I 2024-10-16 20:17:18,812] Trial 48 finished with value: 0.6689419795221843 and parameters: {'lr': 1.3524036896665546e-05, 'epochs': 11, 'loss': 'logarithmic', 'l1': 0.015527531527052899, 'l2': 0.028269267110089206}. Best is trial 4 with value: 0.78.\n",
            "[I 2024-10-16 20:18:19,046] Trial 49 finished with value: 0.4696132596685083 and parameters: {'lr': 0.0001939308168661922, 'epochs': 82, 'loss': 'square', 'l1': 0.04038174894182714, 'l2': 0.012578252993391981}. Best is trial 4 with value: 0.78.\n",
            "[I 2024-10-16 20:19:04,366] Trial 50 finished with value: 0.6896551724137931 and parameters: {'lr': 5.60357753594593e-05, 'epochs': 61, 'loss': 'sigmoid', 'l1': 0.017843065445312396, 'l2': 0.01632019365100036}. Best is trial 4 with value: 0.78.\n",
            "[I 2024-10-16 20:20:07,548] Trial 51 finished with value: 0.7777777777777778 and parameters: {'lr': 3.503804538624345e-05, 'epochs': 87, 'loss': 'square', 'l1': 0.030836975652867818, 'l2': 0.05124207652003352}. Best is trial 4 with value: 0.78.\n",
            "[I 2024-10-16 20:21:15,362] Trial 52 finished with value: 0.7752442996742671 and parameters: {'lr': 8.76382429474228e-05, 'epochs': 94, 'loss': 'square', 'l1': 0.055924224759975556, 'l2': 0.0423346604798633}. Best is trial 4 with value: 0.78.\n",
            "[I 2024-10-16 20:22:10,202] Trial 53 finished with value: 0.7777777777777778 and parameters: {'lr': 2.4767225976081304e-05, 'epochs': 76, 'loss': 'square', 'l1': 0.023148070492417915, 'l2': 0.08262686780761101}. Best is trial 4 with value: 0.78.\n",
            "[I 2024-10-16 20:22:44,519] Trial 54 finished with value: 0.5441696113074205 and parameters: {'lr': 0.00012211894024309174, 'epochs': 47, 'loss': 'square', 'l1': 0.033230634581243534, 'l2': 0.09891575370591058}. Best is trial 4 with value: 0.78.\n",
            "[I 2024-10-16 20:23:05,929] Trial 55 finished with value: 0.7737704918032787 and parameters: {'lr': 4.703658207622317e-05, 'epochs': 29, 'loss': 'square', 'l1': 0.011730624302455092, 'l2': 0.028583536783674673}. Best is trial 4 with value: 0.78.\n",
            "[I 2024-10-16 20:24:18,038] Trial 56 finished with value: 0.7448275862068966 and parameters: {'lr': 1.8804546336587385e-05, 'epochs': 86, 'loss': 'logarithmic', 'l1': 0.07202467741579403, 'l2': 0.06959695485441227}. Best is trial 4 with value: 0.78.\n",
            "[I 2024-10-16 20:25:18,201] Trial 57 finished with value: 0.7752442996742671 and parameters: {'lr': 6.9212331033055e-05, 'epochs': 82, 'loss': 'square', 'l1': 0.045555086255184674, 'l2': 0.04223459515249413}. Best is trial 4 with value: 0.78.\n",
            "[I 2024-10-16 20:25:56,151] Trial 58 finished with value: 0.6642335766423357 and parameters: {'lr': 0.00031797820765971696, 'epochs': 92, 'loss': 'linear', 'l1': 0.01408985347347311, 'l2': 0.861130068495663}. Best is trial 4 with value: 0.78.\n",
            "[I 2024-10-16 20:27:08,279] Trial 59 finished with value: 0.4696132596685083 and parameters: {'lr': 0.00017319268639753258, 'epochs': 96, 'loss': 'square', 'l1': 0.019069951835645364, 'l2': 0.12367499249609376}. Best is trial 4 with value: 0.78.\n",
            "[I 2024-10-16 20:28:02,324] Trial 60 finished with value: 0.7430555555555556 and parameters: {'lr': 2.8402435727948033e-05, 'epochs': 64, 'loss': 'logarithmic', 'l1': 0.029474275822726076, 'l2': 0.057676588105027085}. Best is trial 4 with value: 0.78.\n",
            "[I 2024-10-16 20:29:04,986] Trial 61 finished with value: 0.7777777777777778 and parameters: {'lr': 3.200425128497605e-05, 'epochs': 83, 'loss': 'square', 'l1': 0.010156832910530746, 'l2': 0.025219436198365443}. Best is trial 4 with value: 0.78.\n",
            "[I 2024-10-16 20:30:06,727] Trial 62 finished with value: 0.7737704918032787 and parameters: {'lr': 2.0663603260333226e-05, 'epochs': 79, 'loss': 'square', 'l1': 0.0169995186570189, 'l2': 0.016309639654925233}. Best is trial 4 with value: 0.78.\n",
            "[I 2024-10-16 20:31:03,733] Trial 63 finished with value: 0.7697368421052632 and parameters: {'lr': 1.4311237345067503e-05, 'epochs': 74, 'loss': 'square', 'l1': 0.02112727225691403, 'l2': 0.019636579852387356}. Best is trial 4 with value: 0.78.\n",
            "[I 2024-10-16 20:32:06,529] Trial 64 finished with value: 0.7752442996742671 and parameters: {'lr': 6.311957860546419e-05, 'epochs': 85, 'loss': 'square', 'l1': 0.024453667242581547, 'l2': 0.04036010997456013}. Best is trial 4 with value: 0.78.\n",
            "[I 2024-10-16 20:33:11,562] Trial 65 finished with value: 0.5460992907801419 and parameters: {'lr': 0.007000456694722765, 'epochs': 89, 'loss': 'square', 'l1': 0.012525789010446535, 'l2': 0.029896261653061966}. Best is trial 4 with value: 0.78.\n",
            "[I 2024-10-16 20:34:02,711] Trial 66 finished with value: 0.6621160409556314 and parameters: {'lr': 7.818257303175652e-06, 'epochs': 71, 'loss': 'sigmoid', 'l1': 0.03765059572170419, 'l2': 0.020074581707739524}. Best is trial 4 with value: 0.78.\n",
            "[I 2024-10-16 20:35:00,525] Trial 67 finished with value: 0.7777777777777778 and parameters: {'lr': 4.938390584235302e-05, 'epochs': 79, 'loss': 'square', 'l1': 0.015214219518582494, 'l2': 0.4430700323595059}. Best is trial 4 with value: 0.78.\n",
            "[I 2024-10-16 20:35:30,699] Trial 68 finished with value: 0.7894736842105263 and parameters: {'lr': 0.0001123614944928394, 'epochs': 42, 'loss': 'square', 'l1': 0.0268516397217715, 'l2': 0.3424604625781282}. Best is trial 68 with value: 0.7894736842105263.\n",
            "[I 2024-10-16 20:35:58,523] Trial 69 finished with value: 0.7676767676767676 and parameters: {'lr': 0.00011471299719465624, 'epochs': 34, 'loss': 'logarithmic', 'l1': 0.026222990809948537, 'l2': 0.6638226211250139}. Best is trial 68 with value: 0.7894736842105263.\n",
            "[I 2024-10-16 20:36:30,783] Trial 70 finished with value: 0.7752442996742671 and parameters: {'lr': 9.818145680828459e-05, 'epochs': 45, 'loss': 'square', 'l1': 0.15205441359750327, 'l2': 0.32695427557102374}. Best is trial 68 with value: 0.7894736842105263.\n",
            "[I 2024-10-16 20:36:59,546] Trial 71 finished with value: 0.7697368421052632 and parameters: {'lr': 2.5383273809520834e-05, 'epochs': 40, 'loss': 'square', 'l1': 0.01952092047594765, 'l2': 0.9821928145601344}. Best is trial 68 with value: 0.7894736842105263.\n",
            "[I 2024-10-16 20:37:18,102] Trial 72 finished with value: 0.4696132596685083 and parameters: {'lr': 0.000218877090163657, 'epochs': 26, 'loss': 'square', 'l1': 0.03297593998446119, 'l2': 0.19778931717061682}. Best is trial 68 with value: 0.7894736842105263.\n",
            "[I 2024-10-16 20:38:18,922] Trial 73 finished with value: 0.6944444444444444 and parameters: {'lr': 1.0232032925729607e-06, 'epochs': 84, 'loss': 'square', 'l1': 0.0281909581876212, 'l2': 0.05158407520361363}. Best is trial 68 with value: 0.7894736842105263.\n",
            "[I 2024-10-16 20:38:57,215] Trial 74 finished with value: 0.7777777777777778 and parameters: {'lr': 6.96155510601194e-05, 'epochs': 49, 'loss': 'square', 'l1': 0.023336156621644375, 'l2': 0.2470831948236896}. Best is trial 68 with value: 0.7894736842105263.\n",
            "[I 2024-10-16 20:39:19,161] Trial 75 finished with value: 0.6830985915492958 and parameters: {'lr': 3.915658349684788e-05, 'epochs': 53, 'loss': 'linear', 'l1': 0.05496513905272468, 'l2': 0.1626300173566515}. Best is trial 68 with value: 0.7894736842105263.\n",
            "[I 2024-10-16 20:39:47,914] Trial 76 finished with value: 0.7631578947368421 and parameters: {'lr': 2.1584637954833615e-05, 'epochs': 40, 'loss': 'square', 'l1': 0.04124191111305, 'l2': 0.5796606945089546}. Best is trial 68 with value: 0.7894736842105263.\n",
            "[I 2024-10-16 20:40:31,835] Trial 77 finished with value: 0.5460992907801419 and parameters: {'lr': 0.00014838260674755255, 'epochs': 57, 'loss': 'square', 'l1': 0.01872251148208864, 'l2': 0.782272015869453}. Best is trial 68 with value: 0.7894736842105263.\n",
            "[I 2024-10-16 20:41:42,218] Trial 78 finished with value: 0.78 and parameters: {'lr': 7.254435194325415e-05, 'epochs': 87, 'loss': 'logarithmic', 'l1': 0.9185755964201273, 'l2': 0.022093502317011484}. Best is trial 68 with value: 0.7894736842105263.\n",
            "[I 2024-10-16 20:42:59,367] Trial 79 finished with value: 0.7586206896551724 and parameters: {'lr': 0.0007354244523487896, 'epochs': 91, 'loss': 'logarithmic', 'l1': 0.8794229529243576, 'l2': 0.3583914324437285}. Best is trial 68 with value: 0.7894736842105263.\n",
            "[I 2024-10-16 20:44:12,692] Trial 80 finished with value: 0.78 and parameters: {'lr': 7.866896315855244e-05, 'epochs': 88, 'loss': 'logarithmic', 'l1': 0.2917575623200057, 'l2': 0.032676226021308964}. Best is trial 68 with value: 0.7894736842105263.\n",
            "[I 2024-10-16 20:45:27,975] Trial 81 finished with value: 0.78 and parameters: {'lr': 8.093203692145166e-05, 'epochs': 88, 'loss': 'logarithmic', 'l1': 0.3953283063876853, 'l2': 0.03630123888443927}. Best is trial 68 with value: 0.7894736842105263.\n",
            "[I 2024-10-16 20:46:40,115] Trial 82 finished with value: 0.78 and parameters: {'lr': 7.432062974444735e-05, 'epochs': 87, 'loss': 'logarithmic', 'l1': 0.3837637742646496, 'l2': 0.03394396081980149}. Best is trial 68 with value: 0.7894736842105263.\n",
            "[I 2024-10-16 20:47:58,965] Trial 83 finished with value: 0.78 and parameters: {'lr': 7.36643715638406e-05, 'epochs': 95, 'loss': 'logarithmic', 'l1': 0.37990387807516723, 'l2': 0.03441068560132403}. Best is trial 68 with value: 0.7894736842105263.\n",
            "[I 2024-10-16 20:49:19,424] Trial 84 finished with value: 0.7728813559322034 and parameters: {'lr': 0.00032926107854606924, 'epochs': 96, 'loss': 'logarithmic', 'l1': 0.3753921630532668, 'l2': 0.03402451071256187}. Best is trial 68 with value: 0.7894736842105263.\n",
            "[I 2024-10-16 20:50:40,575] Trial 85 finished with value: 0.7774086378737541 and parameters: {'lr': 7.92477843810642e-05, 'epochs': 94, 'loss': 'logarithmic', 'l1': 0.31362224803663774, 'l2': 0.037245291558796724}. Best is trial 68 with value: 0.7894736842105263.\n",
            "[I 2024-10-16 20:51:53,922] Trial 86 finished with value: 0.78 and parameters: {'lr': 0.000108403075147016, 'epochs': 88, 'loss': 'logarithmic', 'l1': 0.5082387121989507, 'l2': 0.03189834516458636}. Best is trial 68 with value: 0.7894736842105263.\n",
            "[I 2024-10-16 20:53:08,142] Trial 87 finished with value: 0.78 and parameters: {'lr': 0.0001101296236594375, 'epochs': 89, 'loss': 'logarithmic', 'l1': 0.5505425477376313, 'l2': 0.03176225467063585}. Best is trial 68 with value: 0.7894736842105263.\n",
            "[I 2024-10-16 20:54:35,677] Trial 88 finished with value: 0.78 and parameters: {'lr': 0.0001048075803596566, 'epochs': 98, 'loss': 'logarithmic', 'l1': 0.5564442925149754, 'l2': 0.02519045800769053}. Best is trial 68 with value: 0.7894736842105263.\n",
            "[I 2024-10-16 20:55:51,467] Trial 89 finished with value: 0.7785234899328859 and parameters: {'lr': 0.00014855121789090304, 'epochs': 91, 'loss': 'logarithmic', 'l1': 0.6248225377522496, 'l2': 0.03136595038556298}. Best is trial 68 with value: 0.7894736842105263.\n",
            "[I 2024-10-16 20:57:10,479] Trial 90 finished with value: 0.7811447811447811 and parameters: {'lr': 0.0002520971214122815, 'epochs': 89, 'loss': 'logarithmic', 'l1': 0.27621970636425924, 'l2': 0.02610259812250444}. Best is trial 68 with value: 0.7894736842105263.\n",
            "[I 2024-10-16 20:58:24,202] Trial 91 finished with value: 0.7744107744107744 and parameters: {'lr': 0.00020186788240196847, 'epochs': 88, 'loss': 'logarithmic', 'l1': 0.2973552039429855, 'l2': 0.02353397908669423}. Best is trial 68 with value: 0.7894736842105263.\n",
            "[I 2024-10-16 20:59:40,298] Trial 92 finished with value: 0.7811447811447811 and parameters: {'lr': 0.0002505021554440747, 'epochs': 93, 'loss': 'logarithmic', 'l1': 0.46589013896576714, 'l2': 0.02606908440094471}. Best is trial 68 with value: 0.7894736842105263.\n",
            "[I 2024-10-16 21:01:00,225] Trial 93 finished with value: 0.7811447811447811 and parameters: {'lr': 0.00026315317650864913, 'epochs': 94, 'loss': 'logarithmic', 'l1': 0.4515785743041156, 'l2': 0.025788855546228395}. Best is trial 68 with value: 0.7894736842105263.\n",
            "[I 2024-10-16 21:02:22,266] Trial 94 finished with value: 0.7811447811447811 and parameters: {'lr': 0.00024414381260617473, 'epochs': 100, 'loss': 'logarithmic', 'l1': 0.4143334691854354, 'l2': 0.02639117243101534}. Best is trial 68 with value: 0.7894736842105263.\n",
            "[I 2024-10-16 21:03:43,761] Trial 95 finished with value: 0.7619047619047619 and parameters: {'lr': 0.00044833576045675405, 'epochs': 99, 'loss': 'logarithmic', 'l1': 0.23413333879602785, 'l2': 0.018620073363795692}. Best is trial 68 with value: 0.7894736842105263.\n",
            "[I 2024-10-16 21:05:02,363] Trial 96 finished with value: 0.7811447811447811 and parameters: {'lr': 0.00025241833496570873, 'epochs': 97, 'loss': 'logarithmic', 'l1': 0.41933985605293883, 'l2': 0.027732255273463013}. Best is trial 68 with value: 0.7894736842105263.\n",
            "[I 2024-10-16 21:06:29,800] Trial 97 finished with value: 0.7811447811447811 and parameters: {'lr': 0.0002588112453322402, 'epochs': 97, 'loss': 'logarithmic', 'l1': 0.680387064228992, 'l2': 0.02686642706929513}. Best is trial 68 with value: 0.7894736842105263.\n",
            "[I 2024-10-16 21:07:49,707] Trial 98 finished with value: 0.7811447811447811 and parameters: {'lr': 0.00026965431668329296, 'epochs': 93, 'loss': 'logarithmic', 'l1': 0.7671804552036896, 'l2': 0.014061362432118165}. Best is trial 68 with value: 0.7894736842105263.\n",
            "[I 2024-10-16 21:09:18,639] Trial 99 finished with value: 0.7671232876712328 and parameters: {'lr': 0.0005736404840134056, 'epochs': 98, 'loss': 'logarithmic', 'l1': 0.7989287178111922, 'l2': 0.012617349868316209}. Best is trial 68 with value: 0.7894736842105263.\n"
          ]
        },
        {
          "output_type": "stream",
          "name": "stdout",
          "text": [
            "{'lr': 0.0001123614944928394, 'epochs': 42, 'loss': 'square', 'l1': 0.0268516397217715, 'l2': 0.3424604625781282}\n"
          ]
        }
      ]
    },
    {
      "cell_type": "code",
      "source": [
        "def svm_objective(trial):\n",
        "    c = trial.suggest_float('C', 1e-2, 1e2, log=True)\n",
        "    lr = trial.suggest_float('lr', 1e-6, 1e-2, log=True)\n",
        "    epochs = trial.suggest_int('epochs', 10, 100)\n",
        "    kernel = trial.suggest_categorical('kernel', ['linear', 'polynomial', 'gaussian', 'laplacian'])\n",
        "    r, n, sigma, alpha = 0, 2, 1, 1\n",
        "    if kernel == 'polynomial':\n",
        "        r = trial.suggest_float('r', 0, 1)\n",
        "        n = trial.suggest_int('n', 1, 2)\n",
        "    if kernel == 'gaussian':\n",
        "        sigma = trial.suggest_float('sigma', 1e-1, 10, log=True)\n",
        "    if kernel == 'laplacian':\n",
        "        alpha = trial.suggest_float('alpha', 1e-1, 10, log=True)\n",
        "    classifier = SVMClassifier(c, lr, epochs, kernel, r, n, sigma, alpha)\n",
        "    classifier.fit(train_data, train_target)\n",
        "    return f1_score(valid_target, classifier.predict(valid_data))\n",
        "\n",
        "study = optuna.create_study(direction='maximize')\n",
        "study.optimize(svm_objective, n_trials=100)\n",
        "print(study.best_params)"
      ],
      "metadata": {
        "colab": {
          "base_uri": "https://localhost:8080/"
        },
        "id": "JPL3XXne0wRD",
        "outputId": "0e495db2-28ce-485d-c58e-900a78c63240"
      },
      "execution_count": null,
      "outputs": [
        {
          "output_type": "stream",
          "name": "stderr",
          "text": [
            "[I 2024-10-16 21:09:57,507] A new study created in memory with name: no-name-93dab4b9-3299-47be-ac19-cbae7faf12d5\n",
            "[I 2024-10-16 21:11:30,325] Trial 0 finished with value: 0.6721991701244814 and parameters: {'C': 45.16986672108772, 'lr': 0.0013406949977106681, 'epochs': 59, 'kernel': 'gaussian', 'sigma': 5.313909188983047}. Best is trial 0 with value: 0.6721991701244814.\n",
            "[I 2024-10-16 21:12:53,525] Trial 1 finished with value: 0.7443181818181818 and parameters: {'C': 21.631326675221942, 'lr': 2.9735885682471593e-05, 'epochs': 79, 'kernel': 'polynomial', 'r': 0.4088981912116728, 'n': 1}. Best is trial 1 with value: 0.7443181818181818.\n",
            "[I 2024-10-16 21:13:26,211] Trial 2 finished with value: 0.6721991701244814 and parameters: {'C': 0.7957812304738692, 'lr': 0.006261117112839037, 'epochs': 53, 'kernel': 'polynomial', 'r': 0.8377701573496685, 'n': 2}. Best is trial 1 with value: 0.7443181818181818.\n",
            "[I 2024-10-16 21:13:42,541] Trial 3 finished with value: 0.6721991701244814 and parameters: {'C': 4.35560680554068, 'lr': 0.005441953897901374, 'epochs': 15, 'kernel': 'laplacian', 'alpha': 7.759652833443854}. Best is trial 1 with value: 0.7443181818181818.\n",
            "[I 2024-10-16 21:14:12,868] Trial 4 finished with value: 0.7724137931034483 and parameters: {'C': 33.09838335200433, 'lr': 0.003913313835252396, 'epochs': 32, 'kernel': 'linear'}. Best is trial 4 with value: 0.7724137931034483.\n",
            "[I 2024-10-16 21:14:26,854] Trial 5 finished with value: 0.7361111111111112 and parameters: {'C': 22.033742429516572, 'lr': 8.345460486063484e-05, 'epochs': 15, 'kernel': 'linear'}. Best is trial 4 with value: 0.7724137931034483.\n",
            "[I 2024-10-16 21:14:48,441] Trial 6 finished with value: 0.6721991701244814 and parameters: {'C': 5.764596913871854, 'lr': 0.0006347215131697032, 'epochs': 11, 'kernel': 'gaussian', 'sigma': 0.8573479245890258}. Best is trial 4 with value: 0.7724137931034483.\n",
            "[I 2024-10-16 21:16:25,656] Trial 7 finished with value: 0.6721991701244814 and parameters: {'C': 1.8524240558014406, 'lr': 1.5072582802504343e-05, 'epochs': 89, 'kernel': 'laplacian', 'alpha': 0.21833285815227252}. Best is trial 4 with value: 0.7724137931034483.\n",
            "[I 2024-10-16 21:17:16,578] Trial 8 finished with value: 0.6721991701244814 and parameters: {'C': 6.753008587602484, 'lr': 0.001128353714565521, 'epochs': 35, 'kernel': 'gaussian', 'sigma': 1.0193169295438358}. Best is trial 4 with value: 0.7724137931034483.\n",
            "[I 2024-10-16 21:18:08,169] Trial 9 finished with value: 0.6721991701244814 and parameters: {'C': 0.04072944458206491, 'lr': 7.745102456377468e-06, 'epochs': 60, 'kernel': 'polynomial', 'r': 0.881791416724896, 'n': 1}. Best is trial 4 with value: 0.7724137931034483.\n",
            "[I 2024-10-16 21:18:34,440] Trial 10 finished with value: 0.6460481099656358 and parameters: {'C': 0.21108283751317564, 'lr': 1.0688352141923818e-06, 'epochs': 35, 'kernel': 'linear'}. Best is trial 4 with value: 0.7724137931034483.\n",
            "[I 2024-10-16 21:19:47,851] Trial 11 finished with value: 0.7712418300653595 and parameters: {'C': 90.5737480073547, 'lr': 9.694561545460776e-05, 'epochs': 95, 'kernel': 'polynomial', 'r': 0.10364580390796496, 'n': 1}. Best is trial 4 with value: 0.7724137931034483.\n",
            "[I 2024-10-16 21:20:45,346] Trial 12 finished with value: 0.7702702702702703 and parameters: {'C': 77.72873649860745, 'lr': 0.00022436101453443742, 'epochs': 97, 'kernel': 'linear'}. Best is trial 4 with value: 0.7724137931034483.\n",
            "[I 2024-10-16 21:21:07,836] Trial 13 finished with value: 0.7542087542087542 and parameters: {'C': 83.08357625118953, 'lr': 0.00014230589816902124, 'epochs': 37, 'kernel': 'linear'}. Best is trial 4 with value: 0.7724137931034483.\n",
            "[I 2024-10-16 21:22:05,345] Trial 14 finished with value: 0.7635135135135135 and parameters: {'C': 0.011569512212109626, 'lr': 0.00037684298852060864, 'epochs': 75, 'kernel': 'polynomial', 'r': 0.03406345972623076, 'n': 1}. Best is trial 4 with value: 0.7724137931034483.\n",
            "[I 2024-10-16 21:22:37,649] Trial 15 finished with value: 0.7457627118644068 and parameters: {'C': 18.974434470530596, 'lr': 5.247428167733479e-05, 'epochs': 49, 'kernel': 'linear'}. Best is trial 4 with value: 0.7724137931034483.\n",
            "[I 2024-10-16 21:22:55,594] Trial 16 finished with value: 0.6721991701244814 and parameters: {'C': 0.5285252947409541, 'lr': 0.0019092712717893676, 'epochs': 27, 'kernel': 'polynomial', 'r': 0.005776629257530683, 'n': 2}. Best is trial 4 with value: 0.7724137931034483.\n",
            "[I 2024-10-16 21:24:14,990] Trial 17 finished with value: 0.6721991701244814 and parameters: {'C': 99.3826061668033, 'lr': 3.6622146066874694e-06, 'epochs': 75, 'kernel': 'laplacian', 'alpha': 0.10428611510264046}. Best is trial 4 with value: 0.7724137931034483.\n",
            "[I 2024-10-16 21:25:11,980] Trial 18 finished with value: 0.6206896551724138 and parameters: {'C': 12.417360817380807, 'lr': 0.003413287568592407, 'epochs': 100, 'kernel': 'polynomial', 'r': 0.33441020797522103, 'n': 1}. Best is trial 4 with value: 0.7724137931034483.\n",
            "[I 2024-10-16 21:25:38,290] Trial 19 finished with value: 0.7744107744107744 and parameters: {'C': 2.3493869585262734, 'lr': 0.0003288605353666267, 'epochs': 44, 'kernel': 'linear'}. Best is trial 19 with value: 0.7744107744107744.\n",
            "[I 2024-10-16 21:26:03,344] Trial 20 finished with value: 0.7728813559322034 and parameters: {'C': 0.20483319999441102, 'lr': 0.0005038079531531376, 'epochs': 44, 'kernel': 'linear'}. Best is trial 19 with value: 0.7744107744107744.\n",
            "[I 2024-10-16 21:26:29,526] Trial 21 finished with value: 0.7702702702702703 and parameters: {'C': 0.20325339077185609, 'lr': 0.00046401980388603167, 'epochs': 45, 'kernel': 'linear'}. Best is trial 19 with value: 0.7744107744107744.\n",
            "[I 2024-10-16 21:26:41,888] Trial 22 finished with value: 0.7414965986394558 and parameters: {'C': 0.21935841336240078, 'lr': 0.0027260979270299743, 'epochs': 25, 'kernel': 'linear'}. Best is trial 19 with value: 0.7744107744107744.\n",
            "[I 2024-10-16 21:27:05,092] Trial 23 finished with value: 0.7578947368421053 and parameters: {'C': 1.6967259083984374, 'lr': 0.0009160529633587973, 'epochs': 41, 'kernel': 'linear'}. Best is trial 19 with value: 0.7744107744107744.\n",
            "[I 2024-10-16 21:27:21,484] Trial 24 finished with value: 0.7542087542087542 and parameters: {'C': 0.05573832846744692, 'lr': 0.00022865134034355837, 'epochs': 26, 'kernel': 'linear'}. Best is trial 19 with value: 0.7744107744107744.\n",
            "[I 2024-10-16 21:27:49,700] Trial 25 finished with value: 0.7728813559322034 and parameters: {'C': 0.07990630169935285, 'lr': 0.006512680998345958, 'epochs': 63, 'kernel': 'linear'}. Best is trial 19 with value: 0.7744107744107744.\n",
            "[I 2024-10-16 21:28:33,875] Trial 26 finished with value: 0.7465753424657534 and parameters: {'C': 0.05995469635940448, 'lr': 3.2113824015105026e-05, 'epochs': 67, 'kernel': 'linear'}. Best is trial 19 with value: 0.7744107744107744.\n",
            "[I 2024-10-16 21:29:00,759] Trial 27 finished with value: 0.6111111111111112 and parameters: {'C': 0.44997567328883026, 'lr': 0.007905009946631361, 'epochs': 63, 'kernel': 'linear'}. Best is trial 19 with value: 0.7744107744107744.\n",
            "[I 2024-10-16 21:29:31,720] Trial 28 finished with value: 0.7744107744107744 and parameters: {'C': 0.10450476213280332, 'lr': 0.0002668519797192087, 'epochs': 53, 'kernel': 'linear'}. Best is trial 19 with value: 0.7744107744107744.\n",
            "[I 2024-10-16 21:30:39,802] Trial 29 finished with value: 0.6721991701244814 and parameters: {'C': 0.018212559447748824, 'lr': 0.00021944216958449586, 'epochs': 53, 'kernel': 'gaussian', 'sigma': 0.10026659029457799}. Best is trial 19 with value: 0.7744107744107744.\n",
            "[I 2024-10-16 21:31:03,466] Trial 30 finished with value: 0.7278688524590164 and parameters: {'C': 0.10079119402498289, 'lr': 0.0016804229850255264, 'epochs': 46, 'kernel': 'linear'}. Best is trial 19 with value: 0.7744107744107744.\n",
            "[I 2024-10-16 21:31:35,528] Trial 31 finished with value: 0.7735191637630662 and parameters: {'C': 0.13381067721013043, 'lr': 0.0006873656976546296, 'epochs': 57, 'kernel': 'linear'}. Best is trial 19 with value: 0.7744107744107744.\n",
            "[I 2024-10-16 21:32:05,846] Trial 32 finished with value: 0.757679180887372 and parameters: {'C': 0.029878835910788437, 'lr': 0.0007246892129290838, 'epochs': 53, 'kernel': 'linear'}. Best is trial 19 with value: 0.7744107744107744.\n",
            "[I 2024-10-16 21:32:38,960] Trial 33 finished with value: 0.7744107744107744 and parameters: {'C': 0.1381007240294892, 'lr': 0.00030446406241461124, 'epochs': 57, 'kernel': 'linear'}. Best is trial 19 with value: 0.7744107744107744.\n",
            "[I 2024-10-16 21:33:55,691] Trial 34 finished with value: 0.6721991701244814 and parameters: {'C': 0.12423132745771012, 'lr': 0.0003295168102638036, 'epochs': 71, 'kernel': 'laplacian', 'alpha': 3.8351362636574136}. Best is trial 19 with value: 0.7744107744107744.\n",
            "[I 2024-10-16 21:34:30,411] Trial 35 finished with value: 0.7583892617449665 and parameters: {'C': 1.726692641529869, 'lr': 0.000126855596555348, 'epochs': 57, 'kernel': 'linear'}. Best is trial 19 with value: 0.7744107744107744.\n",
            "[I 2024-10-16 21:36:16,001] Trial 36 finished with value: 0.6721991701244814 and parameters: {'C': 0.42512449787774187, 'lr': 5.254677088347168e-05, 'epochs': 82, 'kernel': 'gaussian', 'sigma': 0.11976584066843635}. Best is trial 19 with value: 0.7744107744107744.\n",
            "[I 2024-10-16 21:36:42,806] Trial 37 finished with value: 0.7152777777777778 and parameters: {'C': 3.0754791814455493, 'lr': 0.0012526153120591046, 'epochs': 51, 'kernel': 'linear'}. Best is trial 19 with value: 0.7744107744107744.\n",
            "[I 2024-10-16 21:37:17,162] Trial 38 finished with value: 0.7814569536423841 and parameters: {'C': 0.9484429821906193, 'lr': 0.00017472549472511637, 'epochs': 59, 'kernel': 'linear'}. Best is trial 38 with value: 0.7814569536423841.\n",
            "[I 2024-10-16 21:38:26,629] Trial 39 finished with value: 0.6721991701244814 and parameters: {'C': 0.861492736007978, 'lr': 5.867185407644459e-05, 'epochs': 65, 'kernel': 'laplacian', 'alpha': 0.7484431323179962}. Best is trial 38 with value: 0.7814569536423841.\n",
            "[I 2024-10-16 21:39:12,748] Trial 40 finished with value: 0.7448275862068966 and parameters: {'C': 2.880354634714527, 'lr': 2.5263366837731926e-05, 'epochs': 69, 'kernel': 'linear'}. Best is trial 38 with value: 0.7814569536423841.\n",
            "[I 2024-10-16 21:39:47,370] Trial 41 finished with value: 0.7785234899328859 and parameters: {'C': 0.14043887570118405, 'lr': 0.00027109469544079267, 'epochs': 59, 'kernel': 'linear'}. Best is trial 38 with value: 0.7814569536423841.\n",
            "[I 2024-10-16 21:40:24,181] Trial 42 finished with value: 0.78 and parameters: {'C': 0.6382314730004762, 'lr': 0.00016953747984600477, 'epochs': 59, 'kernel': 'linear'}. Best is trial 38 with value: 0.7814569536423841.\n",
            "[I 2024-10-16 21:41:01,550] Trial 43 finished with value: 0.7651006711409396 and parameters: {'C': 1.0095178261441062, 'lr': 0.0001406965154805797, 'epochs': 61, 'kernel': 'linear'}. Best is trial 38 with value: 0.7814569536423841.\n",
            "[I 2024-10-16 21:41:52,731] Trial 44 finished with value: 0.6721991701244814 and parameters: {'C': 0.3561998038469907, 'lr': 7.673164614693684e-05, 'epochs': 40, 'kernel': 'gaussian', 'sigma': 9.675814920320045}. Best is trial 38 with value: 0.7814569536423841.\n",
            "[I 2024-10-16 21:42:23,743] Trial 45 finished with value: 0.7692307692307693 and parameters: {'C': 1.1163086148361208, 'lr': 0.0001890173190417791, 'epochs': 51, 'kernel': 'linear'}. Best is trial 38 with value: 0.7814569536423841.\n",
            "[I 2024-10-16 21:42:53,105] Trial 46 finished with value: 0.7542087542087542 and parameters: {'C': 0.6174601929471912, 'lr': 0.00011309132406149558, 'epochs': 48, 'kernel': 'linear'}. Best is trial 38 with value: 0.7814569536423841.\n",
            "[I 2024-10-16 21:43:36,227] Trial 47 finished with value: 0.782608695652174 and parameters: {'C': 7.405026489540593, 'lr': 0.00017161957240401256, 'epochs': 73, 'kernel': 'linear'}. Best is trial 47 with value: 0.782608695652174.\n",
            "[I 2024-10-16 21:45:06,540] Trial 48 finished with value: 0.6721991701244814 and parameters: {'C': 7.970089198333595, 'lr': 7.561077008517606e-05, 'epochs': 84, 'kernel': 'laplacian', 'alpha': 1.2941915053826603}. Best is trial 47 with value: 0.782608695652174.\n",
            "[I 2024-10-16 21:45:53,504] Trial 49 finished with value: 0.7457627118644068 and parameters: {'C': 3.791637087648399, 'lr': 3.434788389671658e-05, 'epochs': 74, 'kernel': 'linear'}. Best is trial 47 with value: 0.782608695652174.\n",
            "[I 2024-10-16 21:47:23,215] Trial 50 finished with value: 0.6721991701244814 and parameters: {'C': 5.52108076358009, 'lr': 0.0003739925455804412, 'epochs': 71, 'kernel': 'gaussian', 'sigma': 0.6304658840525632}. Best is trial 47 with value: 0.782608695652174.\n",
            "[I 2024-10-16 21:47:58,364] Trial 51 finished with value: 0.7759197324414716 and parameters: {'C': 0.2912527296725801, 'lr': 0.00017063722055616956, 'epochs': 59, 'kernel': 'linear'}. Best is trial 47 with value: 0.782608695652174.\n",
            "[I 2024-10-16 21:48:33,996] Trial 52 finished with value: 0.7651006711409396 and parameters: {'C': 1.223272766688129, 'lr': 0.00014299198218349835, 'epochs': 60, 'kernel': 'linear'}. Best is trial 47 with value: 0.782608695652174.\n",
            "[I 2024-10-16 21:49:11,518] Trial 53 finished with value: 0.7735191637630662 and parameters: {'C': 0.31091026832622876, 'lr': 0.0004893699627106674, 'epochs': 66, 'kernel': 'linear'}. Best is trial 47 with value: 0.782608695652174.\n",
            "[I 2024-10-16 21:50:14,932] Trial 54 finished with value: 0.6721991701244814 and parameters: {'C': 10.663000809681673, 'lr': 0.00018654214678337142, 'epochs': 78, 'kernel': 'polynomial', 'r': 0.653349212800968, 'n': 2}. Best is trial 47 with value: 0.782608695652174.\n",
            "[I 2024-10-16 21:50:41,661] Trial 55 finished with value: 0.7583892617449665 and parameters: {'C': 0.678707589290137, 'lr': 8.295388153771826e-05, 'epochs': 42, 'kernel': 'linear'}. Best is trial 47 with value: 0.782608695652174.\n",
            "[I 2024-10-16 21:51:15,417] Trial 56 finished with value: 0.7759197324414716 and parameters: {'C': 29.2854272681338, 'lr': 0.00016814987484029657, 'epochs': 58, 'kernel': 'linear'}. Best is trial 47 with value: 0.782608695652174.\n",
            "[I 2024-10-16 21:51:57,527] Trial 57 finished with value: 0.7087719298245614 and parameters: {'C': 30.228698342368727, 'lr': 1.4455730703853722e-05, 'epochs': 62, 'kernel': 'linear'}. Best is trial 47 with value: 0.782608695652174.\n",
            "[I 2024-10-16 21:52:39,348] Trial 58 finished with value: 0.782608695652174 and parameters: {'C': 36.606152496805144, 'lr': 0.0001735163323084939, 'epochs': 72, 'kernel': 'linear'}. Best is trial 47 with value: 0.782608695652174.\n",
            "[I 2024-10-16 21:53:49,050] Trial 59 finished with value: 0.6721991701244814 and parameters: {'C': 0.2737725013730172, 'lr': 0.00010387240605086854, 'epochs': 85, 'kernel': 'polynomial', 'r': 0.6151723949821707, 'n': 2}. Best is trial 47 with value: 0.782608695652174.\n",
            "[I 2024-10-16 21:54:39,957] Trial 60 finished with value: 0.7516778523489933 and parameters: {'C': 59.599622955604694, 'lr': 4.109624713127989e-05, 'epochs': 79, 'kernel': 'linear'}. Best is trial 47 with value: 0.782608695652174.\n",
            "[I 2024-10-16 21:55:22,618] Trial 61 finished with value: 0.7840531561461794 and parameters: {'C': 46.60277871020312, 'lr': 0.00017267720954344096, 'epochs': 70, 'kernel': 'linear'}. Best is trial 61 with value: 0.7840531561461794.\n",
            "[I 2024-10-16 21:56:03,539] Trial 62 finished with value: 0.7735191637630662 and parameters: {'C': 45.88618274905083, 'lr': 0.0004745476177569209, 'epochs': 72, 'kernel': 'linear'}. Best is trial 61 with value: 0.7840531561461794.\n",
            "[I 2024-10-16 21:56:53,438] Trial 63 finished with value: 0.7665505226480837 and parameters: {'C': 14.01253420048824, 'lr': 0.0002807298689074375, 'epochs': 89, 'kernel': 'linear'}. Best is trial 61 with value: 0.7840531561461794.\n",
            "[I 2024-10-16 21:57:34,445] Trial 64 finished with value: 0.7583892617449665 and parameters: {'C': 64.57294476940496, 'lr': 0.00010624482761704293, 'epochs': 67, 'kernel': 'linear'}. Best is trial 61 with value: 0.7840531561461794.\n",
            "[I 2024-10-16 21:58:19,111] Trial 65 finished with value: 0.7744107744107744 and parameters: {'C': 18.04420615887104, 'lr': 0.0002262931001736309, 'epochs': 78, 'kernel': 'linear'}. Best is trial 61 with value: 0.7840531561461794.\n",
            "[I 2024-10-16 21:58:57,983] Trial 66 finished with value: 0.7840531561461794 and parameters: {'C': 37.89400209330956, 'lr': 0.0001729979112341806, 'epochs': 65, 'kernel': 'linear'}. Best is trial 61 with value: 0.7840531561461794.\n",
            "[I 2024-10-16 21:59:34,989] Trial 67 finished with value: 0.7311827956989247 and parameters: {'C': 40.39948300651332, 'lr': 0.0009070591779305522, 'epochs': 69, 'kernel': 'linear'}. Best is trial 61 with value: 0.7840531561461794.\n",
            "[I 2024-10-16 22:00:55,994] Trial 68 finished with value: 0.6721991701244814 and parameters: {'C': 23.446527720733343, 'lr': 6.922120648736568e-05, 'epochs': 75, 'kernel': 'laplacian', 'alpha': 0.6925480487590387}. Best is trial 61 with value: 0.7840531561461794.\n",
            "[I 2024-10-16 22:01:41,796] Trial 69 finished with value: 0.6460481099656358 and parameters: {'C': 9.046860583746286, 'lr': 1.7791671684307232e-06, 'epochs': 65, 'kernel': 'linear'}. Best is trial 61 with value: 0.7840531561461794.\n",
            "[I 2024-10-16 22:02:16,655] Trial 70 finished with value: 0.7719298245614035 and parameters: {'C': 41.42297441462537, 'lr': 0.0005773717883365812, 'epochs': 64, 'kernel': 'linear'}. Best is trial 61 with value: 0.7840531561461794.\n",
            "[I 2024-10-16 22:02:49,997] Trial 71 finished with value: 0.7759197324414716 and parameters: {'C': 0.17505815498487948, 'lr': 0.0001731065905381074, 'epochs': 55, 'kernel': 'linear'}. Best is trial 61 with value: 0.7840531561461794.\n",
            "[I 2024-10-16 22:03:25,088] Trial 72 finished with value: 0.7785234899328859 and parameters: {'C': 58.8423830236521, 'lr': 0.0002429598792062318, 'epochs': 61, 'kernel': 'linear'}. Best is trial 61 with value: 0.7840531561461794.\n",
            "[I 2024-10-16 22:04:04,825] Trial 73 finished with value: 0.7665505226480837 and parameters: {'C': 57.37703006062, 'lr': 0.00037290616769748627, 'epochs': 70, 'kernel': 'linear'}. Best is trial 61 with value: 0.7840531561461794.\n",
            "[I 2024-10-16 22:04:46,892] Trial 74 finished with value: 0.7702702702702703 and parameters: {'C': 76.97074853828327, 'lr': 0.00025518519327541304, 'epochs': 74, 'kernel': 'linear'}. Best is trial 61 with value: 0.7840531561461794.\n",
            "[I 2024-10-16 22:05:27,018] Trial 75 finished with value: 0.7651006711409396 and parameters: {'C': 15.636445972595734, 'lr': 0.0001303069499830463, 'epochs': 68, 'kernel': 'linear'}. Best is trial 61 with value: 0.7840531561461794.\n",
            "[I 2024-10-16 22:06:15,022] Trial 76 finished with value: 0.6721991701244814 and parameters: {'C': 24.038369927380014, 'lr': 9.677638776358263e-05, 'epochs': 55, 'kernel': 'polynomial', 'r': 0.2735128071487674, 'n': 2}. Best is trial 61 with value: 0.7840531561461794.\n",
            "[I 2024-10-16 22:06:50,015] Trial 77 finished with value: 0.7744107744107744 and parameters: {'C': 33.47232603561033, 'lr': 0.00024675699392265993, 'epochs': 61, 'kernel': 'linear'}. Best is trial 61 with value: 0.7840531561461794.\n",
            "[I 2024-10-16 22:08:08,581] Trial 78 finished with value: 0.6721991701244814 and parameters: {'C': 99.62531815890979, 'lr': 0.00041145193554779734, 'epochs': 63, 'kernel': 'gaussian', 'sigma': 2.654448602696691}. Best is trial 61 with value: 0.7840531561461794.\n",
            "[I 2024-10-16 22:08:52,343] Trial 79 finished with value: 0.7553956834532374 and parameters: {'C': 47.924480778423316, 'lr': 0.0007863210806204737, 'epochs': 80, 'kernel': 'linear'}. Best is trial 61 with value: 0.7840531561461794.\n",
            "[I 2024-10-16 22:09:33,964] Trial 80 finished with value: 0.7516778523489933 and parameters: {'C': 1.532629165827699, 'lr': 6.353517145291211e-05, 'epochs': 66, 'kernel': 'linear'}. Best is trial 61 with value: 0.7840531561461794.\n",
            "[I 2024-10-16 22:10:09,857] Trial 81 finished with value: 0.7759197324414716 and parameters: {'C': 0.7814606531996037, 'lr': 0.00016479383966152295, 'epochs': 59, 'kernel': 'linear'}. Best is trial 61 with value: 0.7840531561461794.\n",
            "[I 2024-10-16 22:10:52,197] Trial 82 finished with value: 0.7785234899328859 and parameters: {'C': 0.46840777245910503, 'lr': 0.00020840469991390017, 'epochs': 72, 'kernel': 'linear'}. Best is trial 61 with value: 0.7840531561461794.\n",
            "[I 2024-10-16 22:11:32,953] Trial 83 finished with value: 0.7702702702702703 and parameters: {'C': 0.4780176782158143, 'lr': 0.0003021260062137409, 'epochs': 71, 'kernel': 'linear'}. Best is trial 61 with value: 0.7840531561461794.\n",
            "[I 2024-10-16 22:12:15,003] Trial 84 finished with value: 0.7785234899328859 and parameters: {'C': 77.18786183669894, 'lr': 0.00021052937563129407, 'epochs': 72, 'kernel': 'linear'}. Best is trial 61 with value: 0.7840531561461794.\n",
            "[I 2024-10-16 22:13:00,183] Trial 85 finished with value: 0.7840531561461794 and parameters: {'C': 2.481204800111662, 'lr': 0.00013781774916055733, 'epochs': 77, 'kernel': 'linear'}. Best is trial 61 with value: 0.7840531561461794.\n",
            "[I 2024-10-16 22:13:58,734] Trial 86 finished with value: 0.6721991701244814 and parameters: {'C': 5.358554325126196, 'lr': 4.439575193022332e-05, 'epochs': 56, 'kernel': 'laplacian', 'alpha': 2.418375720021635}. Best is trial 61 with value: 0.7840531561461794.\n",
            "[I 2024-10-16 22:14:45,456] Trial 87 finished with value: 0.7558528428093646 and parameters: {'C': 1.9512392048317109, 'lr': 8.963740471923416e-05, 'epochs': 77, 'kernel': 'linear'}. Best is trial 61 with value: 0.7840531561461794.\n",
            "[I 2024-10-16 22:15:34,799] Trial 88 finished with value: 0.7840531561461794 and parameters: {'C': 35.833093349955625, 'lr': 0.00012930394824434081, 'epochs': 82, 'kernel': 'linear'}. Best is trial 61 with value: 0.7840531561461794.\n",
            "[I 2024-10-16 22:16:25,939] Trial 89 finished with value: 0.7840531561461794 and parameters: {'C': 4.040723995987625, 'lr': 0.0001233946269066666, 'epochs': 86, 'kernel': 'linear'}. Best is trial 61 with value: 0.7840531561461794.\n",
            "[I 2024-10-16 22:17:20,087] Trial 90 finished with value: 0.7785234899328859 and parameters: {'C': 4.217576818970062, 'lr': 0.0001379165254175334, 'epochs': 92, 'kernel': 'linear'}. Best is trial 61 with value: 0.7840531561461794.\n",
            "[I 2024-10-16 22:18:08,856] Trial 91 finished with value: 0.7774086378737541 and parameters: {'C': 2.360306742734147, 'lr': 0.00012083143749824845, 'epochs': 84, 'kernel': 'linear'}. Best is trial 61 with value: 0.7840531561461794.\n",
            "[I 2024-10-16 22:19:02,483] Trial 92 finished with value: 0.7583892617449665 and parameters: {'C': 1.2487930734475878, 'lr': 8.730709407516034e-05, 'epochs': 88, 'kernel': 'linear'}. Best is trial 61 with value: 0.7840531561461794.\n",
            "[I 2024-10-16 22:19:52,995] Trial 93 finished with value: 0.7744107744107744 and parameters: {'C': 3.170078843996644, 'lr': 0.0001512680477851391, 'epochs': 87, 'kernel': 'linear'}. Best is trial 61 with value: 0.7840531561461794.\n",
            "[I 2024-10-16 22:20:40,658] Trial 94 finished with value: 0.7692307692307693 and parameters: {'C': 6.165717310130208, 'lr': 0.0003335690654113635, 'epochs': 80, 'kernel': 'linear'}. Best is trial 61 with value: 0.7840531561461794.\n",
            "[I 2024-10-16 22:22:22,696] Trial 95 finished with value: 0.6721991701244814 and parameters: {'C': 7.344173066513004, 'lr': 0.00011339636860496118, 'epochs': 81, 'kernel': 'gaussian', 'sigma': 0.3044701423982518}. Best is trial 61 with value: 0.7840531561461794.\n",
            "[I 2024-10-16 22:23:06,459] Trial 96 finished with value: 0.7785234899328859 and parameters: {'C': 19.355472455607323, 'lr': 0.00019727683103737314, 'epochs': 76, 'kernel': 'linear'}. Best is trial 61 with value: 0.7840531561461794.\n",
            "[I 2024-10-16 22:24:13,139] Trial 97 finished with value: 0.6721991701244814 and parameters: {'C': 11.786026027270498, 'lr': 5.4800113105552793e-05, 'epochs': 91, 'kernel': 'polynomial', 'r': 0.9672759293703169, 'n': 2}. Best is trial 61 with value: 0.7840531561461794.\n",
            "[I 2024-10-16 22:24:58,228] Trial 98 finished with value: 0.7692307692307693 and parameters: {'C': 34.62597972212489, 'lr': 0.00012559529440532457, 'epochs': 74, 'kernel': 'linear'}. Best is trial 61 with value: 0.7840531561461794.\n",
            "[I 2024-10-16 22:25:51,607] Trial 99 finished with value: 0.7516778523489933 and parameters: {'C': 2.3258064725215437, 'lr': 7.243745086217615e-05, 'epochs': 86, 'kernel': 'linear'}. Best is trial 61 with value: 0.7840531561461794.\n"
          ]
        },
        {
          "output_type": "stream",
          "name": "stdout",
          "text": [
            "{'C': 46.60277871020312, 'lr': 0.00017267720954344096, 'epochs': 70, 'kernel': 'linear'}\n"
          ]
        }
      ]
    },
    {
      "cell_type": "markdown",
      "source": [
        "For GradientDescent:\n",
        "```\n",
        "{'lr': 0.0001123614944928394, 'epochs': 42, 'loss': 'square', 'l1': 0.0268516397217715, 'l2': 0.3424604625781282}\n",
        "```"
      ],
      "metadata": {
        "id": "hoo7nNIyLjQc"
      }
    },
    {
      "cell_type": "markdown",
      "source": [
        "For SVM:\n",
        "```\n",
        "{'C': 46.60277871020312, 'lr': 0.00017267720954344096, 'epochs': 70, 'kernel': 'linear', 'r': 0.87, 'n': 1}\n",
        "```"
      ],
      "metadata": {
        "id": "yc8Hi8PhcBq1"
      }
    },
    {
      "cell_type": "markdown",
      "source": [
        "# Кривые обучения"
      ],
      "metadata": {
        "id": "J9l2BYK2jKqf"
      }
    },
    {
      "cell_type": "code",
      "source": [
        "gd_classifier = GDClassifier(lr=0.0001124, epochs=100, loss='square', l1=0.027, l2=0.342)\n",
        "gd_classifier.debug_fit(X_train, y_train, X_test, y_test)"
      ],
      "metadata": {
        "id": "_jSRTwqaKn2f"
      },
      "execution_count": null,
      "outputs": []
    },
    {
      "cell_type": "code",
      "source": [
        "svm_classifier = SVMClassifier(c=46.603, lr=0.0001727, epochs=100, kernel='linear', r=0.87, n=1)\n",
        "svm_classifier.debug_fit(X_train, y_train, X_test, y_test)"
      ],
      "metadata": {
        "id": "I4146Q8jMP5u"
      },
      "execution_count": null,
      "outputs": []
    },
    {
      "cell_type": "code",
      "source": [
        "matrix_classifier = MatrixClassifier()\n",
        "matrix_classifier.fit(X_train, y_train, 0.011)\n",
        "matrix_test = np.full(100, f1_score(y_test, matrix_classifier.predict(X_test)))"
      ],
      "metadata": {
        "id": "AXWZSn7OdkiA"
      },
      "execution_count": null,
      "outputs": []
    },
    {
      "cell_type": "code",
      "source": [
        "import matplotlib.pyplot as plt\n",
        "\n",
        "fig, ax = plt.subplots(1, 2, figsize=(12, 6))\n",
        "ax[0].set_title('Train')\n",
        "ax[0].set_xlabel('Epochs')\n",
        "ax[0].set_ylabel('Empirical risk')\n",
        "ax[0].plot(gd_classifier.train_history, label='GD')\n",
        "ax[0].plot(svm_classifier.train_history, label='SVM')\n",
        "ax[0].legend()\n",
        "\n",
        "ax[1].set_title('Test')\n",
        "ax[1].set_xlabel('Epochs')\n",
        "ax[1].set_ylabel('F-measure')\n",
        "ax[1].plot(gd_classifier.test_history, label='GD')\n",
        "ax[1].plot(svm_classifier.test_history, label='SVM')\n",
        "ax[1].plot(matrix_test, label='Matrix')\n",
        "ax[1].legend()"
      ],
      "metadata": {
        "colab": {
          "base_uri": "https://localhost:8080/",
          "height": 581
        },
        "id": "O4cd_GNWd8cY",
        "outputId": "7372f7a2-8664-484c-b3d8-b0f6f65904b1"
      },
      "execution_count": null,
      "outputs": [
        {
          "output_type": "execute_result",
          "data": {
            "text/plain": [
              "<matplotlib.legend.Legend at 0x792deae5b070>"
            ]
          },
          "metadata": {},
          "execution_count": 19
        },
        {
          "output_type": "display_data",
          "data": {
            "text/plain": [
              "<Figure size 1200x600 with 2 Axes>"
            ],
            "image/png": "[encoded data removed]"
          },
          "metadata": {}
        }
      ]
    },
    {
      "cell_type": "markdown",
      "source": [
        "# Библиотечные реализации"
      ],
      "metadata": {
        "id": "r0sS7R5zftUW"
      }
    },
    {
      "cell_type": "code",
      "source": [
        "from sklearn.linear_model import ElasticNet\n",
        "\n",
        "def en_objective(trial):\n",
        "    alpha = trial.suggest_float('alpha', 1e-2, 1, log=True)\n",
        "    l1 = trial.suggest_float('l1', 1e-2, 1, log=True)\n",
        "    classifier = ElasticNet(alpha=alpha, l1_ratio=l1)\n",
        "    classifier.fit(train_data, train_target)\n",
        "    prediction = classifier.predict(valid_data)\n",
        "    return f1_score(valid_target, np.array([1 if prediction[i] >= 0 else -1 for i in range(len(prediction))]))\n",
        "\n",
        "study = optuna.create_study(direction='maximize')\n",
        "study.optimize(en_objective, n_trials=100)\n",
        "print(study.best_params)"
      ],
      "metadata": {
        "colab": {
          "base_uri": "https://localhost:8080/"
        },
        "id": "Ryv48X9EeSnq",
        "outputId": "2f3821cd-a2c4-49a5-95db-670adcf80cb7"
      },
      "execution_count": null,
      "outputs": [
        {
          "output_type": "stream",
          "name": "stderr",
          "text": [
            "[I 2024-10-16 22:46:55,260] A new study created in memory with name: no-name-0d978b0d-9c8c-4b4d-9285-100ef89f59eb\n",
            "[I 2024-10-16 22:46:55,384] Trial 0 finished with value: 0.7651006711409396 and parameters: {'alpha': 0.010208506926109775, 'l1': 0.020701450408656598}. Best is trial 0 with value: 0.7651006711409396.\n",
            "[I 2024-10-16 22:46:55,435] Trial 1 finished with value: 0.7708333333333334 and parameters: {'alpha': 0.5938704558749004, 'l1': 0.02300873175835592}. Best is trial 1 with value: 0.7708333333333334.\n",
            "[I 2024-10-16 22:46:55,484] Trial 2 finished with value: 0.7482517482517482 and parameters: {'alpha': 0.32189531835717333, 'l1': 0.14212281441731883}. Best is trial 1 with value: 0.7708333333333334.\n",
            "[I 2024-10-16 22:46:55,538] Trial 3 finished with value: 0.0 and parameters: {'alpha': 0.7655501983628005, 'l1': 0.9685242799359596}. Best is trial 1 with value: 0.7708333333333334.\n",
            "[I 2024-10-16 22:46:55,567] Trial 4 finished with value: 0.7785234899328859 and parameters: {'alpha': 0.031125824785747006, 'l1': 0.0362133996106067}. Best is trial 4 with value: 0.7785234899328859.\n",
            "[I 2024-10-16 22:46:55,586] Trial 5 finished with value: 0.7482517482517482 and parameters: {'alpha': 0.38561649283494354, 'l1': 0.12562485646921095}. Best is trial 4 with value: 0.7785234899328859.\n",
            "[I 2024-10-16 22:46:55,612] Trial 6 finished with value: 0.7785234899328859 and parameters: {'alpha': 0.011434400429848094, 'l1': 0.26762081572870833}. Best is trial 4 with value: 0.7785234899328859.\n",
            "[I 2024-10-16 22:46:55,642] Trial 7 finished with value: 0.7526132404181185 and parameters: {'alpha': 0.22546082094736308, 'l1': 0.18737210733219015}. Best is trial 4 with value: 0.7785234899328859.\n",
            "[I 2024-10-16 22:46:55,691] Trial 8 finished with value: 0.7785234899328859 and parameters: {'alpha': 0.03374424061595074, 'l1': 0.15478088103901727}. Best is trial 4 with value: 0.7785234899328859.\n",
            "[I 2024-10-16 22:46:55,735] Trial 9 finished with value: 0.7728813559322034 and parameters: {'alpha': 0.027722449855549856, 'l1': 0.3820133197257625}. Best is trial 4 with value: 0.7785234899328859.\n",
            "[I 2024-10-16 22:46:55,847] Trial 10 finished with value: 0.7744107744107744 and parameters: {'alpha': 0.08487928638544108, 'l1': 0.04264803676144138}. Best is trial 4 with value: 0.7785234899328859.\n",
            "[I 2024-10-16 22:46:55,922] Trial 11 finished with value: 0.7744107744107744 and parameters: {'alpha': 0.01268331589129173, 'l1': 0.05385180371180462}. Best is trial 4 with value: 0.7785234899328859.\n",
            "[I 2024-10-16 22:46:56,016] Trial 12 finished with value: 0.777027027027027 and parameters: {'alpha': 0.031465664939310224, 'l1': 0.4368373134143575}. Best is trial 4 with value: 0.7785234899328859.\n",
            "[I 2024-10-16 22:46:56,113] Trial 13 finished with value: 0.7785234899328859 and parameters: {'alpha': 0.0693388270495106, 'l1': 0.010988694923648705}. Best is trial 4 with value: 0.7785234899328859.\n",
            "[I 2024-10-16 22:46:56,234] Trial 14 finished with value: 0.7785234899328859 and parameters: {'alpha': 0.02126495138280713, 'l1': 0.06940142602930252}. Best is trial 4 with value: 0.7785234899328859.\n",
            "[I 2024-10-16 22:46:56,352] Trial 15 finished with value: 0.777027027027027 and parameters: {'alpha': 0.05088074673113831, 'l1': 0.2862025203271627}. Best is trial 4 with value: 0.7785234899328859.\n",
            "[I 2024-10-16 22:46:56,477] Trial 16 finished with value: 0.777027027027027 and parameters: {'alpha': 0.017141696261689716, 'l1': 0.8774611672816078}. Best is trial 4 with value: 0.7785234899328859.\n",
            "[I 2024-10-16 22:46:56,636] Trial 17 finished with value: 0.7811447811447811 and parameters: {'alpha': 0.1748709061208027, 'l1': 0.03466659272710724}. Best is trial 17 with value: 0.7811447811447811.\n",
            "[I 2024-10-16 22:46:56,726] Trial 18 finished with value: 0.7811447811447811 and parameters: {'alpha': 0.19778134125633604, 'l1': 0.030411358311211317}. Best is trial 17 with value: 0.7811447811447811.\n",
            "[I 2024-10-16 22:46:56,768] Trial 19 finished with value: 0.7811447811447811 and parameters: {'alpha': 0.16386098060608859, 'l1': 0.01067646792042595}. Best is trial 17 with value: 0.7811447811447811.\n",
            "[I 2024-10-16 22:46:56,844] Trial 20 finished with value: 0.7811447811447811 and parameters: {'alpha': 0.14490263828339672, 'l1': 0.02248431351120177}. Best is trial 17 with value: 0.7811447811447811.\n",
            "[I 2024-10-16 22:46:56,951] Trial 21 finished with value: 0.777027027027027 and parameters: {'alpha': 0.1263864281811917, 'l1': 0.011694816559602203}. Best is trial 17 with value: 0.7811447811447811.\n",
            "[I 2024-10-16 22:46:57,068] Trial 22 finished with value: 0.7811447811447811 and parameters: {'alpha': 0.19763079144889173, 'l1': 0.016678834793590783}. Best is trial 17 with value: 0.7811447811447811.\n",
            "[I 2024-10-16 22:46:57,172] Trial 23 finished with value: 0.777027027027027 and parameters: {'alpha': 0.24945512888492544, 'l1': 0.03380871843185824}. Best is trial 17 with value: 0.7811447811447811.\n",
            "[I 2024-10-16 22:46:57,287] Trial 24 finished with value: 0.7811447811447811 and parameters: {'alpha': 0.13573156075410775, 'l1': 0.0762933816883405}. Best is trial 17 with value: 0.7811447811447811.\n",
            "[I 2024-10-16 22:46:57,385] Trial 25 finished with value: 0.773972602739726 and parameters: {'alpha': 0.47247233002083505, 'l1': 0.015383879408720692}. Best is trial 17 with value: 0.7811447811447811.\n",
            "[I 2024-10-16 22:46:57,484] Trial 26 finished with value: 0.7785234899328859 and parameters: {'alpha': 0.0662070409792432, 'l1': 0.028074991086606035}. Best is trial 17 with value: 0.7811447811447811.\n",
            "[I 2024-10-16 22:46:57,674] Trial 27 finished with value: 0.7811447811447811 and parameters: {'alpha': 0.16311876464443129, 'l1': 0.04934070094240277}. Best is trial 17 with value: 0.7811447811447811.\n",
            "[I 2024-10-16 22:46:57,881] Trial 28 finished with value: 0.7744107744107744 and parameters: {'alpha': 0.10557979984286946, 'l1': 0.014918407470388693}. Best is trial 17 with value: 0.7811447811447811.\n",
            "[I 2024-10-16 22:46:58,062] Trial 29 finished with value: 0.7728813559322034 and parameters: {'alpha': 0.2704953666303151, 'l1': 0.08697742521941373}. Best is trial 17 with value: 0.7811447811447811.\n",
            "[I 2024-10-16 22:46:58,194] Trial 30 finished with value: 0.7811447811447811 and parameters: {'alpha': 0.1806709596054286, 'l1': 0.01953467368627392}. Best is trial 17 with value: 0.7811447811447811.\n",
            "[I 2024-10-16 22:46:58,361] Trial 31 finished with value: 0.7811447811447811 and parameters: {'alpha': 0.13467978163904434, 'l1': 0.023337760482909232}. Best is trial 17 with value: 0.7811447811447811.\n",
            "[I 2024-10-16 22:46:58,472] Trial 32 finished with value: 0.7744107744107744 and parameters: {'alpha': 0.09340256703793061, 'l1': 0.026479522162135276}. Best is trial 17 with value: 0.7811447811447811.\n",
            "[I 2024-10-16 22:46:58,619] Trial 33 finished with value: 0.7755102040816326 and parameters: {'alpha': 0.32736629737387746, 'l1': 0.010004386886177254}. Best is trial 17 with value: 0.7811447811447811.\n",
            "[I 2024-10-16 22:46:58,788] Trial 34 finished with value: 0.773972602739726 and parameters: {'alpha': 0.5253736310843301, 'l1': 0.019945176406448228}. Best is trial 17 with value: 0.7811447811447811.\n",
            "[I 2024-10-16 22:46:58,866] Trial 35 finished with value: 0.7561837455830389 and parameters: {'alpha': 0.9114584483180814, 'l1': 0.03350993059625415}. Best is trial 17 with value: 0.7811447811447811.\n",
            "[I 2024-10-16 22:46:58,927] Trial 36 finished with value: 0.7811447811447811 and parameters: {'alpha': 0.16750546946635786, 'l1': 0.013544061872797166}. Best is trial 17 with value: 0.7811447811447811.\n",
            "[I 2024-10-16 22:46:59,022] Trial 37 finished with value: 0.7628865979381443 and parameters: {'alpha': 0.4079774015960141, 'l1': 0.059924979172962606}. Best is trial 17 with value: 0.7811447811447811.\n",
            "[I 2024-10-16 22:46:59,158] Trial 38 finished with value: 0.777027027027027 and parameters: {'alpha': 0.31736877603554303, 'l1': 0.038977484824880886}. Best is trial 17 with value: 0.7811447811447811.\n",
            "[I 2024-10-16 22:46:59,279] Trial 39 finished with value: 0.7785234899328859 and parameters: {'alpha': 0.04508327342658464, 'l1': 0.11107962864081457}. Best is trial 17 with value: 0.7811447811447811.\n",
            "[I 2024-10-16 22:46:59,407] Trial 40 finished with value: 0.7811447811447811 and parameters: {'alpha': 0.21363010995806986, 'l1': 0.02809123402005226}. Best is trial 17 with value: 0.7811447811447811.\n",
            "[I 2024-10-16 22:46:59,571] Trial 41 finished with value: 0.7811447811447811 and parameters: {'alpha': 0.17981250647453306, 'l1': 0.01755352801150919}. Best is trial 17 with value: 0.7811447811447811.\n",
            "[I 2024-10-16 22:46:59,671] Trial 42 finished with value: 0.777027027027027 and parameters: {'alpha': 0.11395640879232037, 'l1': 0.022218016642476673}. Best is trial 17 with value: 0.7811447811447811.\n",
            "[I 2024-10-16 22:46:59,751] Trial 43 finished with value: 0.7811447811447811 and parameters: {'alpha': 0.21800740577182176, 'l1': 0.013360786817343243}. Best is trial 17 with value: 0.7811447811447811.\n",
            "[I 2024-10-16 22:46:59,856] Trial 44 finished with value: 0.7728813559322034 and parameters: {'alpha': 0.2952672596494746, 'l1': 0.01694115397009574}. Best is trial 17 with value: 0.7811447811447811.\n",
            "[I 2024-10-16 22:46:59,998] Trial 45 finished with value: 0.7744107744107744 and parameters: {'alpha': 0.07654843248070338, 'l1': 0.04380650664951814}. Best is trial 17 with value: 0.7811447811447811.\n",
            "[I 2024-10-16 22:47:00,101] Trial 46 finished with value: 0.7811447811447811 and parameters: {'alpha': 0.160666009423547, 'l1': 0.02413108612566205}. Best is trial 17 with value: 0.7811447811447811.\n",
            "[I 2024-10-16 22:47:00,198] Trial 47 finished with value: 0.7535211267605634 and parameters: {'alpha': 0.7045119523751165, 'l1': 0.012111513470358402}. Best is trial 17 with value: 0.7811447811447811.\n",
            "[I 2024-10-16 22:47:00,288] Trial 48 finished with value: 0.7755102040816326 and parameters: {'alpha': 0.3660085131169395, 'l1': 0.03195471227509763}. Best is trial 17 with value: 0.7811447811447811.\n",
            "[I 2024-10-16 22:47:00,360] Trial 49 finished with value: 0.7811447811447811 and parameters: {'alpha': 0.21016308955754331, 'l1': 0.017403690808364188}. Best is trial 17 with value: 0.7811447811447811.\n",
            "[I 2024-10-16 22:47:00,447] Trial 50 finished with value: 0.7811447811447811 and parameters: {'alpha': 0.14211128963169187, 'l1': 0.020212271607691134}. Best is trial 17 with value: 0.7811447811447811.\n",
            "[I 2024-10-16 22:47:00,524] Trial 51 finished with value: 0.7811447811447811 and parameters: {'alpha': 0.1139753432087384, 'l1': 0.0813043770221347}. Best is trial 17 with value: 0.7811447811447811.\n",
            "[I 2024-10-16 22:47:00,629] Trial 52 finished with value: 0.7728813559322034 and parameters: {'alpha': 0.13597952327360296, 'l1': 0.18653181085841744}. Best is trial 17 with value: 0.7811447811447811.\n",
            "[I 2024-10-16 22:47:00,792] Trial 53 finished with value: 0.777027027027027 and parameters: {'alpha': 0.09018120149278656, 'l1': 0.04971673796269977}. Best is trial 17 with value: 0.7811447811447811.\n",
            "[I 2024-10-16 22:47:00,868] Trial 54 finished with value: 0.7728813559322034 and parameters: {'alpha': 0.2535444204537652, 'l1': 0.07436704461718326}. Best is trial 17 with value: 0.7811447811447811.\n",
            "[I 2024-10-16 22:47:00,959] Trial 55 finished with value: 0.777027027027027 and parameters: {'alpha': 0.1864206453844119, 'l1': 0.05701734050103109}. Best is trial 17 with value: 0.7811447811447811.\n",
            "[I 2024-10-16 22:47:01,058] Trial 56 finished with value: 0.7785234899328859 and parameters: {'alpha': 0.056839389142713706, 'l1': 0.029386370272498387}. Best is trial 17 with value: 0.7811447811447811.\n",
            "[I 2024-10-16 22:47:01,132] Trial 57 finished with value: 0.7811447811447811 and parameters: {'alpha': 0.11693400770245359, 'l1': 0.09744467954714674}. Best is trial 17 with value: 0.7811447811447811.\n",
            "[I 2024-10-16 22:47:01,168] Trial 58 finished with value: 0.7811447811447811 and parameters: {'alpha': 0.14887753984738894, 'l1': 0.037933337494684694}. Best is trial 17 with value: 0.7811447811447811.\n",
            "[I 2024-10-16 22:47:01,239] Trial 59 finished with value: 0.777027027027027 and parameters: {'alpha': 0.24752694608903794, 'l1': 0.01364166589328347}. Best is trial 17 with value: 0.7811447811447811.\n",
            "[I 2024-10-16 22:47:01,275] Trial 60 finished with value: 0.764505119453925 and parameters: {'alpha': 0.20218715896323516, 'l1': 0.14813054250170682}. Best is trial 17 with value: 0.7811447811447811.\n",
            "[I 2024-10-16 22:47:01,312] Trial 61 finished with value: 0.7811447811447811 and parameters: {'alpha': 0.16132480447744518, 'l1': 0.0491589965404987}. Best is trial 17 with value: 0.7811447811447811.\n",
            "[I 2024-10-16 22:47:01,378] Trial 62 finished with value: 0.777027027027027 and parameters: {'alpha': 0.0821527244256742, 'l1': 0.06433054446852753}. Best is trial 17 with value: 0.7811447811447811.\n",
            "[I 2024-10-16 22:47:01,453] Trial 63 finished with value: 0.777027027027027 and parameters: {'alpha': 0.09822339421569325, 'l1': 0.043832604584722844}. Best is trial 17 with value: 0.7811447811447811.\n",
            "[I 2024-10-16 22:47:01,566] Trial 64 finished with value: 0.7811447811447811 and parameters: {'alpha': 0.13513882679912556, 'l1': 0.02374675102615487}. Best is trial 17 with value: 0.7811447811447811.\n",
            "[I 2024-10-16 22:47:01,690] Trial 65 finished with value: 0.7811447811447811 and parameters: {'alpha': 0.18888417332622903, 'l1': 0.010286929284043733}. Best is trial 17 with value: 0.7811447811447811.\n",
            "[I 2024-10-16 22:47:01,746] Trial 66 finished with value: 0.777027027027027 and parameters: {'alpha': 0.2392707082801996, 'l1': 0.03713874900112499}. Best is trial 17 with value: 0.7811447811447811.\n",
            "[I 2024-10-16 22:47:01,824] Trial 67 finished with value: 0.7697594501718213 and parameters: {'alpha': 0.2872142046723672, 'l1': 0.12056590280738967}. Best is trial 17 with value: 0.7811447811447811.\n",
            "[I 2024-10-16 22:47:01,890] Trial 68 finished with value: 0.7811447811447811 and parameters: {'alpha': 0.15794381760668133, 'l1': 0.015334260743754503}. Best is trial 17 with value: 0.7811447811447811.\n",
            "[I 2024-10-16 22:47:01,929] Trial 69 finished with value: 0.777027027027027 and parameters: {'alpha': 0.1234668430447688, 'l1': 0.025037510275951365}. Best is trial 17 with value: 0.7811447811447811.\n",
            "[I 2024-10-16 22:47:01,967] Trial 70 finished with value: 0.777027027027027 and parameters: {'alpha': 0.10509123595289942, 'l1': 0.03138883540061982}. Best is trial 17 with value: 0.7811447811447811.\n",
            "[I 2024-10-16 22:47:02,049] Trial 71 finished with value: 0.7811447811447811 and parameters: {'alpha': 0.17533482220623078, 'l1': 0.020738429005993937}. Best is trial 17 with value: 0.7811447811447811.\n",
            "[I 2024-10-16 22:47:02,135] Trial 72 finished with value: 0.7811447811447811 and parameters: {'alpha': 0.19244082151745898, 'l1': 0.017307016515608058}. Best is trial 17 with value: 0.7811447811447811.\n",
            "[I 2024-10-16 22:47:02,221] Trial 73 finished with value: 0.5502183406113537 and parameters: {'alpha': 0.34806477526149865, 'l1': 0.7279088898808}. Best is trial 17 with value: 0.7811447811447811.\n",
            "[I 2024-10-16 22:47:02,320] Trial 74 finished with value: 0.7811447811447811 and parameters: {'alpha': 0.14184404529975506, 'l1': 0.020371638223675482}. Best is trial 17 with value: 0.7811447811447811.\n",
            "[I 2024-10-16 22:47:02,356] Trial 75 finished with value: 0.777027027027027 and parameters: {'alpha': 0.22597883280776448, 'l1': 0.012078001784896394}. Best is trial 17 with value: 0.7811447811447811.\n",
            "[I 2024-10-16 22:47:02,435] Trial 76 finished with value: 0.7811447811447811 and parameters: {'alpha': 0.1685293627589715, 'l1': 0.04857741095066882}. Best is trial 17 with value: 0.7811447811447811.\n",
            "[I 2024-10-16 22:47:02,547] Trial 77 finished with value: 0.7713310580204779 and parameters: {'alpha': 0.4037895054188506, 'l1': 0.02642278042422653}. Best is trial 17 with value: 0.7811447811447811.\n",
            "[I 2024-10-16 22:47:02,625] Trial 78 finished with value: 0.7728813559322034 and parameters: {'alpha': 0.288185173000467, 'l1': 0.018374139510813188}. Best is trial 17 with value: 0.7811447811447811.\n",
            "[I 2024-10-16 22:47:02,696] Trial 79 finished with value: 0.777027027027027 and parameters: {'alpha': 0.12362377413097968, 'l1': 0.014738794267829756}. Best is trial 17 with value: 0.7811447811447811.\n",
            "[I 2024-10-16 22:47:02,761] Trial 80 finished with value: 0.7785234899328859 and parameters: {'alpha': 0.06981450212713819, 'l1': 0.0354042528576425}. Best is trial 17 with value: 0.7811447811447811.\n",
            "[I 2024-10-16 22:47:02,839] Trial 81 finished with value: 0.7811447811447811 and parameters: {'alpha': 0.14497567897527056, 'l1': 0.021812583399728313}. Best is trial 17 with value: 0.7811447811447811.\n",
            "[I 2024-10-16 22:47:02,914] Trial 82 finished with value: 0.777027027027027 and parameters: {'alpha': 0.10575776343816032, 'l1': 0.02933962382731503}. Best is trial 17 with value: 0.7811447811447811.\n",
            "[I 2024-10-16 22:47:02,983] Trial 83 finished with value: 0.777027027027027 and parameters: {'alpha': 0.20584289918312773, 'l1': 0.06690696088470129}. Best is trial 17 with value: 0.7811447811447811.\n",
            "[I 2024-10-16 22:47:03,053] Trial 84 finished with value: 0.777027027027027 and parameters: {'alpha': 0.12777487953211697, 'l1': 0.023501628452820045}. Best is trial 17 with value: 0.7811447811447811.\n",
            "[I 2024-10-16 22:47:03,143] Trial 85 finished with value: 0.7811447811447811 and parameters: {'alpha': 0.1766206922704682, 'l1': 0.018578094350063478}. Best is trial 17 with value: 0.7811447811447811.\n",
            "[I 2024-10-16 22:47:03,226] Trial 86 finished with value: 0.7811447811447811 and parameters: {'alpha': 0.15676228294876648, 'l1': 0.04251332873676899}. Best is trial 17 with value: 0.7811447811447811.\n",
            "[I 2024-10-16 22:47:03,321] Trial 87 finished with value: 0.7728813559322034 and parameters: {'alpha': 0.2650651265797854, 'l1': 0.012494587181555201}. Best is trial 17 with value: 0.7811447811447811.\n",
            "[I 2024-10-16 22:47:03,418] Trial 88 finished with value: 0.777027027027027 and parameters: {'alpha': 0.2349553548730211, 'l1': 0.03237549050016146}. Best is trial 17 with value: 0.7811447811447811.\n",
            "[I 2024-10-16 22:47:03,494] Trial 89 finished with value: 0.7785234899328859 and parameters: {'alpha': 0.09205707618380006, 'l1': 0.010846289488803425}. Best is trial 17 with value: 0.7811447811447811.\n",
            "[I 2024-10-16 22:47:03,576] Trial 90 finished with value: 0.7744107744107744 and parameters: {'alpha': 0.11147369219406308, 'l1': 0.015971465435652404}. Best is trial 17 with value: 0.7811447811447811.\n",
            "[I 2024-10-16 22:47:03,668] Trial 91 finished with value: 0.7811447811447811 and parameters: {'alpha': 0.17738032080979246, 'l1': 0.013597898848971956}. Best is trial 17 with value: 0.7811447811447811.\n",
            "[I 2024-10-16 22:47:03,746] Trial 92 finished with value: 0.7811447811447811 and parameters: {'alpha': 0.2121682798359821, 'l1': 0.014488273511664875}. Best is trial 17 with value: 0.7811447811447811.\n",
            "[I 2024-10-16 22:47:03,825] Trial 93 finished with value: 0.7811447811447811 and parameters: {'alpha': 0.1346407423332129, 'l1': 0.02598281773044133}. Best is trial 17 with value: 0.7811447811447811.\n",
            "[I 2024-10-16 22:47:03,902] Trial 94 finished with value: 0.7811447811447811 and parameters: {'alpha': 0.14994219893457378, 'l1': 0.011366029859747143}. Best is trial 17 with value: 0.7811447811447811.\n",
            "[I 2024-10-16 22:47:03,981] Trial 95 finished with value: 0.7811447811447811 and parameters: {'alpha': 0.1997212112885386, 'l1': 0.0186831166135828}. Best is trial 17 with value: 0.7811447811447811.\n",
            "[I 2024-10-16 22:47:04,031] Trial 96 finished with value: 0.777027027027027 and parameters: {'alpha': 0.1682349600160282, 'l1': 0.08876467817972364}. Best is trial 17 with value: 0.7811447811447811.\n",
            "[I 2024-10-16 22:47:04,095] Trial 97 finished with value: 0.777027027027027 and parameters: {'alpha': 0.11940914625647506, 'l1': 0.022278417286004586}. Best is trial 17 with value: 0.7811447811447811.\n",
            "[I 2024-10-16 22:47:04,169] Trial 98 finished with value: 0.777027027027027 and parameters: {'alpha': 0.19258614283358114, 'l1': 0.053019573586170377}. Best is trial 17 with value: 0.7811447811447811.\n",
            "[I 2024-10-16 22:47:04,243] Trial 99 finished with value: 0.7811447811447811 and parameters: {'alpha': 0.15329008729042962, 'l1': 0.04102835359907323}. Best is trial 17 with value: 0.7811447811447811.\n"
          ]
        },
        {
          "output_type": "stream",
          "name": "stdout",
          "text": [
            "{'alpha': 0.1748709061208027, 'l1': 0.03466659272710724}\n"
          ]
        }
      ]
    },
    {
      "cell_type": "code",
      "source": [
        "from sklearn.svm import SVC\n",
        "\n",
        "def svc_objective(trial):\n",
        "    c = trial.suggest_float('C', 1e-2, 1e2, log=True)\n",
        "    kernel = trial.suggest_categorical('kernel', ['linear', 'poly', 'rbf', 'sigmoid'])\n",
        "    degree, coef0 = 1, 0\n",
        "    if kernel == 'poly':\n",
        "        degree = trial.suggest_int('degree', 1, 3)\n",
        "        coef0 = trial.suggest_float('coef0', 0, 2)\n",
        "    if kernel == 'sigmoid':\n",
        "        coef0 = trial.suggest_float('coef0', 0, 2)\n",
        "    classifier = SVC(C=c, kernel=kernel, degree=degree, coef0=coef0)\n",
        "    classifier.fit(train_data, train_target)\n",
        "    return f1_score(valid_target, classifier.predict(valid_data))\n",
        "\n",
        "study = optuna.create_study(direction='maximize')\n",
        "study.optimize(svc_objective, n_trials=100)\n",
        "print(study.best_params)"
      ],
      "metadata": {
        "colab": {
          "base_uri": "https://localhost:8080/"
        },
        "id": "11GWBnkgg0CL",
        "outputId": "8e03dacc-ffe7-4848-8602-748b6bbebf34"
      },
      "execution_count": null,
      "outputs": [
        {
          "output_type": "stream",
          "name": "stderr",
          "text": [
            "[I 2024-10-16 22:47:12,879] A new study created in memory with name: no-name-69f471d2-05f2-4d61-b89b-85fe13b88459\n",
            "[I 2024-10-16 22:47:13,164] Trial 0 finished with value: 0.7536231884057971 and parameters: {'C': 0.4379074148468777, 'kernel': 'linear'}. Best is trial 0 with value: 0.7536231884057971.\n",
            "[I 2024-10-16 22:47:13,728] Trial 1 finished with value: 0.5416666666666666 and parameters: {'C': 0.6890307270539315, 'kernel': 'sigmoid', 'coef0': 1.610208528563768}. Best is trial 0 with value: 0.7536231884057971.\n",
            "[I 2024-10-16 22:47:17,031] Trial 2 finished with value: 0.7345454545454545 and parameters: {'C': 32.733591610765316, 'kernel': 'linear'}. Best is trial 0 with value: 0.7536231884057971.\n",
            "[I 2024-10-16 22:47:17,465] Trial 3 finished with value: 0.012269938650306749 and parameters: {'C': 0.010260164832874737, 'kernel': 'sigmoid', 'coef0': 1.7768421277425168}. Best is trial 0 with value: 0.7536231884057971.\n",
            "[I 2024-10-16 22:47:17,687] Trial 4 finished with value: 0.5333333333333333 and parameters: {'C': 21.127877710079535, 'kernel': 'sigmoid', 'coef0': 1.4286633825052775}. Best is trial 0 with value: 0.7536231884057971.\n",
            "[I 2024-10-16 22:47:21,956] Trial 5 finished with value: 0.7436823104693141 and parameters: {'C': 61.22061444996273, 'kernel': 'linear'}. Best is trial 0 with value: 0.7536231884057971.\n",
            "[I 2024-10-16 22:47:22,095] Trial 6 finished with value: 0.8157894736842105 and parameters: {'C': 93.83022715060325, 'kernel': 'rbf'}. Best is trial 6 with value: 0.8157894736842105.\n",
            "[I 2024-10-16 22:47:22,182] Trial 7 finished with value: 0.7882736156351792 and parameters: {'C': 1.055702362583033, 'kernel': 'rbf'}. Best is trial 6 with value: 0.8157894736842105.\n",
            "[I 2024-10-16 22:47:22,267] Trial 8 finished with value: 0.7933333333333333 and parameters: {'C': 7.65686107785677, 'kernel': 'poly', 'degree': 3, 'coef0': 0.12418765993951153}. Best is trial 6 with value: 0.8157894736842105.\n",
            "[I 2024-10-16 22:47:22,370] Trial 9 finished with value: 0.75 and parameters: {'C': 0.6988480637737152, 'kernel': 'linear'}. Best is trial 6 with value: 0.8157894736842105.\n",
            "[I 2024-10-16 22:47:22,481] Trial 10 finished with value: 0.732484076433121 and parameters: {'C': 0.030085521030932472, 'kernel': 'rbf'}. Best is trial 6 with value: 0.8157894736842105.\n",
            "[I 2024-10-16 22:47:22,581] Trial 11 finished with value: 0.7882736156351792 and parameters: {'C': 5.454311155367821, 'kernel': 'poly', 'degree': 3, 'coef0': 0.05459031482827603}. Best is trial 6 with value: 0.8157894736842105.\n",
            "[I 2024-10-16 22:47:22,692] Trial 12 finished with value: 0.7947019867549668 and parameters: {'C': 6.997927382648695, 'kernel': 'poly', 'degree': 3, 'coef0': 0.13727819652684015}. Best is trial 6 with value: 0.8157894736842105.\n",
            "[I 2024-10-16 22:47:22,838] Trial 13 finished with value: 0.8118811881188119 and parameters: {'C': 95.78948691030291, 'kernel': 'rbf'}. Best is trial 6 with value: 0.8157894736842105.\n",
            "[I 2024-10-16 22:47:22,987] Trial 14 finished with value: 0.8157894736842105 and parameters: {'C': 92.81603510299608, 'kernel': 'rbf'}. Best is trial 6 with value: 0.8157894736842105.\n",
            "[I 2024-10-16 22:47:23,088] Trial 15 finished with value: 0.8026315789473685 and parameters: {'C': 17.67419202827247, 'kernel': 'rbf'}. Best is trial 6 with value: 0.8157894736842105.\n",
            "[I 2024-10-16 22:47:23,189] Trial 16 finished with value: 0.770764119601329 and parameters: {'C': 2.427121095758442, 'kernel': 'rbf'}. Best is trial 6 with value: 0.8157894736842105.\n",
            "[I 2024-10-16 22:47:23,286] Trial 17 finished with value: 0.7581699346405228 and parameters: {'C': 0.2068145793033962, 'kernel': 'rbf'}. Best is trial 6 with value: 0.8157894736842105.\n",
            "[I 2024-10-16 22:47:23,442] Trial 18 finished with value: 0.8145695364238411 and parameters: {'C': 88.83977470700445, 'kernel': 'rbf'}. Best is trial 6 with value: 0.8157894736842105.\n",
            "[I 2024-10-16 22:47:23,548] Trial 19 finished with value: 0.7572815533980582 and parameters: {'C': 0.1128230181029143, 'kernel': 'rbf'}. Best is trial 6 with value: 0.8157894736842105.\n",
            "[I 2024-10-16 22:47:23,676] Trial 20 finished with value: 0.8039867109634552 and parameters: {'C': 32.241125688794234, 'kernel': 'rbf'}. Best is trial 6 with value: 0.8157894736842105.\n",
            "[I 2024-10-16 22:47:23,800] Trial 21 finished with value: 0.8187919463087249 and parameters: {'C': 70.84183443621316, 'kernel': 'rbf'}. Best is trial 21 with value: 0.8187919463087249.\n",
            "[I 2024-10-16 22:47:23,914] Trial 22 finished with value: 0.8080808080808081 and parameters: {'C': 47.44360443904285, 'kernel': 'rbf'}. Best is trial 21 with value: 0.8187919463087249.\n",
            "[I 2024-10-16 22:47:24,011] Trial 23 finished with value: 0.803921568627451 and parameters: {'C': 16.00518706935365, 'kernel': 'rbf'}. Best is trial 21 with value: 0.8187919463087249.\n",
            "[I 2024-10-16 22:47:24,106] Trial 24 finished with value: 0.7934426229508197 and parameters: {'C': 10.551995811687856, 'kernel': 'rbf'}. Best is trial 21 with value: 0.8187919463087249.\n",
            "[I 2024-10-16 22:47:24,197] Trial 25 finished with value: 0.7666666666666667 and parameters: {'C': 2.7695968799868393, 'kernel': 'rbf'}. Best is trial 21 with value: 0.8187919463087249.\n",
            "[I 2024-10-16 22:47:24,398] Trial 26 finished with value: 0.8013468013468014 and parameters: {'C': 44.97435283003375, 'kernel': 'rbf'}. Best is trial 21 with value: 0.8187919463087249.\n",
            "[I 2024-10-16 22:47:24,646] Trial 27 finished with value: 0.5288135593220339 and parameters: {'C': 68.85518921601245, 'kernel': 'sigmoid', 'coef0': 0.8787314032536937}. Best is trial 21 with value: 0.8187919463087249.\n",
            "[I 2024-10-16 22:47:24,778] Trial 28 finished with value: 0.7509025270758123 and parameters: {'C': 25.902060710256983, 'kernel': 'poly', 'degree': 1, 'coef0': 0.8537362222155738}. Best is trial 21 with value: 0.8187919463087249.\n",
            "[I 2024-10-16 22:47:29,561] Trial 29 finished with value: 0.7436823104693141 and parameters: {'C': 98.71061724898513, 'kernel': 'linear'}. Best is trial 21 with value: 0.8187919463087249.\n",
            "[I 2024-10-16 22:47:29,736] Trial 30 finished with value: 0.7748344370860927 and parameters: {'C': 2.1290452723537543, 'kernel': 'rbf'}. Best is trial 21 with value: 0.8187919463087249.\n",
            "[I 2024-10-16 22:47:29,985] Trial 31 finished with value: 0.8157894736842105 and parameters: {'C': 94.61663305370386, 'kernel': 'rbf'}. Best is trial 21 with value: 0.8187919463087249.\n",
            "[I 2024-10-16 22:47:30,187] Trial 32 finished with value: 0.8080808080808081 and parameters: {'C': 47.705174853716485, 'kernel': 'rbf'}. Best is trial 21 with value: 0.8187919463087249.\n",
            "[I 2024-10-16 22:47:30,327] Trial 33 finished with value: 0.7973856209150327 and parameters: {'C': 13.42537976998119, 'kernel': 'rbf'}. Best is trial 21 with value: 0.8187919463087249.\n",
            "[I 2024-10-16 22:47:30,426] Trial 34 finished with value: 0.6292834890965732 and parameters: {'C': 37.980675124153116, 'kernel': 'sigmoid', 'coef0': 0.5558301393520022}. Best is trial 21 with value: 0.8187919463087249.\n",
            "[I 2024-10-16 22:47:30,535] Trial 35 finished with value: 0.8052805280528053 and parameters: {'C': 26.35167054923276, 'kernel': 'rbf'}. Best is trial 21 with value: 0.8187919463087249.\n",
            "[I 2024-10-16 22:47:32,163] Trial 36 finished with value: 0.7436823104693141 and parameters: {'C': 65.24722471628954, 'kernel': 'linear'}. Best is trial 21 with value: 0.8187919463087249.\n",
            "[I 2024-10-16 22:47:32,280] Trial 37 finished with value: 0.5083612040133779 and parameters: {'C': 24.284934259695365, 'kernel': 'sigmoid', 'coef0': 1.9739237567864396}. Best is trial 21 with value: 0.8187919463087249.\n",
            "[I 2024-10-16 22:47:32,409] Trial 38 finished with value: 0.8120805369127517 and parameters: {'C': 56.63080601625677, 'kernel': 'rbf'}. Best is trial 21 with value: 0.8187919463087249.\n",
            "[I 2024-10-16 22:47:32,552] Trial 39 finished with value: 0.8157894736842105 and parameters: {'C': 92.33699169944448, 'kernel': 'rbf'}. Best is trial 21 with value: 0.8187919463087249.\n",
            "[I 2024-10-16 22:47:32,797] Trial 40 finished with value: 0.7472527472527473 and parameters: {'C': 4.269853423659056, 'kernel': 'linear'}. Best is trial 21 with value: 0.8187919463087249.\n",
            "[I 2024-10-16 22:47:32,951] Trial 41 finished with value: 0.8157894736842105 and parameters: {'C': 96.48792039806365, 'kernel': 'rbf'}. Best is trial 21 with value: 0.8187919463087249.\n",
            "[I 2024-10-16 22:47:33,082] Trial 42 finished with value: 0.8120805369127517 and parameters: {'C': 56.17233840123898, 'kernel': 'rbf'}. Best is trial 21 with value: 0.8187919463087249.\n",
            "[I 2024-10-16 22:47:33,193] Trial 43 finished with value: 0.8066666666666666 and parameters: {'C': 37.70717149486112, 'kernel': 'rbf'}. Best is trial 21 with value: 0.8187919463087249.\n",
            "[I 2024-10-16 22:47:33,420] Trial 44 finished with value: 0.7445255474452555 and parameters: {'C': 67.89752695937759, 'kernel': 'poly', 'degree': 1, 'coef0': 1.2808842990486764}. Best is trial 21 with value: 0.8187919463087249.\n",
            "[I 2024-10-16 22:47:33,532] Trial 45 finished with value: 0.7290322580645161 and parameters: {'C': 0.022390999144337044, 'kernel': 'rbf'}. Best is trial 21 with value: 0.8187919463087249.\n",
            "[I 2024-10-16 22:47:33,657] Trial 46 finished with value: 0.8052805280528053 and parameters: {'C': 21.60710902403886, 'kernel': 'rbf'}. Best is trial 21 with value: 0.8187919463087249.\n",
            "[I 2024-10-16 22:47:33,754] Trial 47 finished with value: 0.6292834890965732 and parameters: {'C': 9.968901548137676, 'kernel': 'sigmoid', 'coef0': 0.5848133470820807}. Best is trial 21 with value: 0.8187919463087249.\n",
            "[I 2024-10-16 22:47:33,884] Trial 48 finished with value: 0.8066666666666666 and parameters: {'C': 33.357109534829334, 'kernel': 'rbf'}. Best is trial 21 with value: 0.8187919463087249.\n",
            "[I 2024-10-16 22:47:33,967] Trial 49 finished with value: 0.7687074829931972 and parameters: {'C': 0.22869657194130166, 'kernel': 'poly', 'degree': 2, 'coef0': 1.2136890545296701}. Best is trial 21 with value: 0.8187919463087249.\n",
            "[I 2024-10-16 22:47:34,103] Trial 50 finished with value: 0.82 and parameters: {'C': 74.80171993498125, 'kernel': 'rbf'}. Best is trial 50 with value: 0.82.\n",
            "[I 2024-10-16 22:47:34,239] Trial 51 finished with value: 0.82 and parameters: {'C': 74.59715284407206, 'kernel': 'rbf'}. Best is trial 50 with value: 0.82.\n",
            "[I 2024-10-16 22:47:34,361] Trial 52 finished with value: 0.8160535117056856 and parameters: {'C': 63.46967803271448, 'kernel': 'rbf'}. Best is trial 50 with value: 0.82.\n",
            "[I 2024-10-16 22:47:34,484] Trial 53 finished with value: 0.8160535117056856 and parameters: {'C': 62.80033047335291, 'kernel': 'rbf'}. Best is trial 50 with value: 0.82.\n",
            "[I 2024-10-16 22:47:34,597] Trial 54 finished with value: 0.8066666666666666 and parameters: {'C': 33.55650955055054, 'kernel': 'rbf'}. Best is trial 50 with value: 0.82.\n",
            "[I 2024-10-16 22:47:34,709] Trial 55 finished with value: 0.8065573770491803 and parameters: {'C': 19.250756357600107, 'kernel': 'rbf'}. Best is trial 50 with value: 0.82.\n",
            "[I 2024-10-16 22:47:34,837] Trial 56 finished with value: 0.8160535117056856 and parameters: {'C': 63.57104247859861, 'kernel': 'rbf'}. Best is trial 50 with value: 0.82.\n",
            "[I 2024-10-16 22:47:34,947] Trial 57 finished with value: 0.7973856209150327 and parameters: {'C': 13.407482214125256, 'kernel': 'rbf'}. Best is trial 50 with value: 0.82.\n",
            "[I 2024-10-16 22:47:36,732] Trial 58 finished with value: 0.7436823104693141 and parameters: {'C': 66.42589085500526, 'kernel': 'linear'}. Best is trial 50 with value: 0.82.\n",
            "[I 2024-10-16 22:47:36,845] Trial 59 finished with value: 0.8013468013468014 and parameters: {'C': 44.618155702673654, 'kernel': 'rbf'}. Best is trial 50 with value: 0.82.\n",
            "[I 2024-10-16 22:47:36,946] Trial 60 finished with value: 0.7922077922077922 and parameters: {'C': 0.9241571280542559, 'kernel': 'rbf'}. Best is trial 50 with value: 0.82.\n",
            "[I 2024-10-16 22:47:37,083] Trial 61 finished with value: 0.8187919463087249 and parameters: {'C': 68.4593041396593, 'kernel': 'rbf'}. Best is trial 50 with value: 0.82.\n",
            "[I 2024-10-16 22:47:37,210] Trial 62 finished with value: 0.8187919463087249 and parameters: {'C': 69.56801117430298, 'kernel': 'rbf'}. Best is trial 50 with value: 0.82.\n",
            "[I 2024-10-16 22:47:37,326] Trial 63 finished with value: 0.8052805280528053 and parameters: {'C': 30.44615966878677, 'kernel': 'rbf'}. Best is trial 50 with value: 0.82.\n",
            "[I 2024-10-16 22:47:37,450] Trial 64 finished with value: 0.8080808080808081 and parameters: {'C': 47.12604413044817, 'kernel': 'rbf'}. Best is trial 50 with value: 0.82.\n",
            "[I 2024-10-16 22:47:37,581] Trial 65 finished with value: 0.82 and parameters: {'C': 74.29787564776304, 'kernel': 'rbf'}. Best is trial 50 with value: 0.82.\n",
            "[I 2024-10-16 22:47:37,726] Trial 66 finished with value: 0.82 and parameters: {'C': 75.5372987502641, 'kernel': 'rbf'}. Best is trial 50 with value: 0.82.\n",
            "[I 2024-10-16 22:47:38,023] Trial 67 finished with value: 0.777027027027027 and parameters: {'C': 75.69540836603706, 'kernel': 'poly', 'degree': 2, 'coef0': 0.474068520897335}. Best is trial 50 with value: 0.82.\n",
            "[I 2024-10-16 22:47:38,138] Trial 68 finished with value: 0.8013468013468014 and parameters: {'C': 42.532042319463415, 'kernel': 'rbf'}. Best is trial 50 with value: 0.82.\n",
            "[I 2024-10-16 22:47:38,235] Trial 69 finished with value: 0.8013029315960912 and parameters: {'C': 15.318079875096785, 'kernel': 'rbf'}. Best is trial 50 with value: 0.82.\n",
            "[I 2024-10-16 22:47:38,408] Trial 70 finished with value: 0.36792452830188677 and parameters: {'C': 0.0641036594172807, 'kernel': 'sigmoid', 'coef0': 1.1001858874157349}. Best is trial 50 with value: 0.82.\n",
            "[I 2024-10-16 22:47:38,545] Trial 71 finished with value: 0.82 and parameters: {'C': 79.24415187526289, 'kernel': 'rbf'}. Best is trial 50 with value: 0.82.\n",
            "[I 2024-10-16 22:47:38,695] Trial 72 finished with value: 0.82 and parameters: {'C': 80.33803959557096, 'kernel': 'rbf'}. Best is trial 50 with value: 0.82.\n",
            "[I 2024-10-16 22:47:38,810] Trial 73 finished with value: 0.8080808080808081 and parameters: {'C': 48.52977685635535, 'kernel': 'rbf'}. Best is trial 50 with value: 0.82.\n",
            "[I 2024-10-16 22:47:38,921] Trial 74 finished with value: 0.8052805280528053 and parameters: {'C': 27.762311820784277, 'kernel': 'rbf'}. Best is trial 50 with value: 0.82.\n",
            "[I 2024-10-16 22:47:39,072] Trial 75 finished with value: 0.8239202657807309 and parameters: {'C': 81.36884338144257, 'kernel': 'rbf'}. Best is trial 75 with value: 0.8239202657807309.\n",
            "[I 2024-10-16 22:47:39,204] Trial 76 finished with value: 0.8211920529801324 and parameters: {'C': 81.83928578670847, 'kernel': 'rbf'}. Best is trial 75 with value: 0.8239202657807309.\n",
            "[I 2024-10-16 22:47:39,338] Trial 77 finished with value: 0.8211920529801324 and parameters: {'C': 82.04945868560218, 'kernel': 'rbf'}. Best is trial 75 with value: 0.8239202657807309.\n",
            "[I 2024-10-16 22:47:39,430] Trial 78 finished with value: 0.7777777777777778 and parameters: {'C': 0.4528154952080643, 'kernel': 'rbf'}. Best is trial 75 with value: 0.8239202657807309.\n",
            "[I 2024-10-16 22:47:41,653] Trial 79 finished with value: 0.7391304347826086 and parameters: {'C': 52.2823032027882, 'kernel': 'linear'}. Best is trial 75 with value: 0.8239202657807309.\n",
            "[I 2024-10-16 22:47:41,928] Trial 80 finished with value: 0.8184818481848185 and parameters: {'C': 98.96223943949035, 'kernel': 'rbf'}. Best is trial 75 with value: 0.8239202657807309.\n",
            "[I 2024-10-16 22:47:42,171] Trial 81 finished with value: 0.82 and parameters: {'C': 76.22105235022751, 'kernel': 'rbf'}. Best is trial 75 with value: 0.8239202657807309.\n",
            "[I 2024-10-16 22:47:42,407] Trial 82 finished with value: 0.82 and parameters: {'C': 77.71114820871782, 'kernel': 'rbf'}. Best is trial 75 with value: 0.8239202657807309.\n",
            "[I 2024-10-16 22:47:42,612] Trial 83 finished with value: 0.8066666666666666 and parameters: {'C': 36.10506501681297, 'kernel': 'rbf'}. Best is trial 75 with value: 0.8239202657807309.\n",
            "[I 2024-10-16 22:47:42,832] Trial 84 finished with value: 0.8080808080808081 and parameters: {'C': 53.53410179597561, 'kernel': 'rbf'}. Best is trial 75 with value: 0.8239202657807309.\n",
            "[I 2024-10-16 22:47:43,057] Trial 85 finished with value: 0.8211920529801324 and parameters: {'C': 82.7794580621954, 'kernel': 'rbf'}. Best is trial 75 with value: 0.8239202657807309.\n",
            "[I 2024-10-16 22:47:43,255] Trial 86 finished with value: 0.8066666666666666 and parameters: {'C': 38.5849845978182, 'kernel': 'rbf'}. Best is trial 75 with value: 0.8239202657807309.\n",
            "[I 2024-10-16 22:47:43,700] Trial 87 finished with value: 0.7445255474452555 and parameters: {'C': 85.8430285076436, 'kernel': 'poly', 'degree': 1, 'coef0': 1.5234485606883084}. Best is trial 75 with value: 0.8239202657807309.\n",
            "[I 2024-10-16 22:47:43,877] Trial 88 finished with value: 0.5993265993265994 and parameters: {'C': 52.032088924152546, 'kernel': 'sigmoid', 'coef0': 0.3433022582864256}. Best is trial 75 with value: 0.8239202657807309.\n",
            "[I 2024-10-16 22:47:44,140] Trial 89 finished with value: 0.8184818481848185 and parameters: {'C': 99.19898779890092, 'kernel': 'rbf'}. Best is trial 75 with value: 0.8239202657807309.\n",
            "[I 2024-10-16 22:47:44,332] Trial 90 finished with value: 0.8065573770491803 and parameters: {'C': 21.405403485039315, 'kernel': 'rbf'}. Best is trial 75 with value: 0.8239202657807309.\n",
            "[I 2024-10-16 22:47:44,567] Trial 91 finished with value: 0.82 and parameters: {'C': 80.03049040989491, 'kernel': 'rbf'}. Best is trial 75 with value: 0.8239202657807309.\n",
            "[I 2024-10-16 22:47:44,810] Trial 92 finished with value: 0.8080808080808081 and parameters: {'C': 55.477609016200226, 'kernel': 'rbf'}. Best is trial 75 with value: 0.8239202657807309.\n",
            "[I 2024-10-16 22:47:45,015] Trial 93 finished with value: 0.8013468013468014 and parameters: {'C': 40.845676182266445, 'kernel': 'rbf'}. Best is trial 75 with value: 0.8239202657807309.\n",
            "[I 2024-10-16 22:47:45,271] Trial 94 finished with value: 0.8184818481848185 and parameters: {'C': 84.27695116473622, 'kernel': 'rbf'}. Best is trial 75 with value: 0.8239202657807309.\n",
            "[I 2024-10-16 22:47:45,481] Trial 95 finished with value: 0.8052805280528053 and parameters: {'C': 27.931862052751928, 'kernel': 'rbf'}. Best is trial 75 with value: 0.8239202657807309.\n",
            "[I 2024-10-16 22:47:45,678] Trial 96 finished with value: 0.8120805369127517 and parameters: {'C': 57.51503264628145, 'kernel': 'rbf'}. Best is trial 75 with value: 0.8239202657807309.\n",
            "[I 2024-10-16 22:47:47,889] Trial 97 finished with value: 0.7436823104693141 and parameters: {'C': 80.40227383736585, 'kernel': 'linear'}. Best is trial 75 with value: 0.8239202657807309.\n",
            "[I 2024-10-16 22:47:48,010] Trial 98 finished with value: 0.8066666666666666 and parameters: {'C': 34.757185664665045, 'kernel': 'rbf'}. Best is trial 75 with value: 0.8239202657807309.\n",
            "[I 2024-10-16 22:47:48,122] Trial 99 finished with value: 0.8013468013468014 and parameters: {'C': 43.97064824000165, 'kernel': 'rbf'}. Best is trial 75 with value: 0.8239202657807309.\n"
          ]
        },
        {
          "output_type": "stream",
          "name": "stdout",
          "text": [
            "{'C': 81.36884338144257, 'kernel': 'rbf'}\n"
          ]
        }
      ]
    },
    {
      "cell_type": "markdown",
      "source": [
        "EN:\n",
        "```\n",
        "{'alpha': 0.1748709061208027, 'l1': 0.03466659272710724}\n",
        "```\n",
        "SVC:\n",
        "```\n",
        "{'C': 81.36884338144257, 'kernel': 'rbf'}\n",
        "```"
      ],
      "metadata": {
        "id": "1P4HVEj2hHfF"
      }
    },
    {
      "cell_type": "markdown",
      "source": [
        "## Кривые обучения"
      ],
      "metadata": {
        "id": "25AArHPOjZ9N"
      }
    },
    {
      "cell_type": "code",
      "source": [
        "en_classifier = ElasticNet(alpha=0.175, l1_ratio=0.0347)\n",
        "en_classifier.fit(X_train, y_train)\n",
        "prediction = en_classifier.predict(X_test)\n",
        "en_result = f1_score(y_test, np.array([1 if prediction[i] >= 0 else -1 for i in range(len(prediction))]))"
      ],
      "metadata": {
        "id": "WRRt71iHg4g9"
      },
      "execution_count": null,
      "outputs": []
    },
    {
      "cell_type": "code",
      "source": [
        "svc_classifier = SVC(C=81.3688, kernel='rbf')\n",
        "svc_classifier.fit(X_train, y_train)\n",
        "svc_result = f1_score(y_test, svc_classifier.predict(X_test))"
      ],
      "metadata": {
        "id": "XJFfwGojhE8f"
      },
      "execution_count": null,
      "outputs": []
    },
    {
      "cell_type": "code",
      "source": [
        "fig, ax = plt.subplots(figsize=(6, 6))\n",
        "\n",
        "ax.set_title('Test')\n",
        "ax.set_xlabel('Epochs')\n",
        "ax.set_ylabel('F-measure')\n",
        "ax.plot(gd_classifier.test_history, label='GD')\n",
        "ax.plot(svm_classifier.test_history, label='SVM')\n",
        "ax.plot(matrix_test, label='Matrix')\n",
        "ax.plot(np.full(100, en_result), label='ElasticNet')\n",
        "ax.plot(np.full(100, svc_result), label='LinearSVC')\n",
        "ax.legend()"
      ],
      "metadata": {
        "colab": {
          "base_uri": "https://localhost:8080/",
          "height": 581
        },
        "id": "SrNbA10UhaMO",
        "outputId": "53dfc32a-98b5-43e0-cf5d-b134cc92a62e"
      },
      "execution_count": null,
      "outputs": [
        {
          "output_type": "execute_result",
          "data": {
            "text/plain": [
              "<matplotlib.legend.Legend at 0x792dea158310>"
            ]
          },
          "metadata": {},
          "execution_count": 24
        },
        {
          "output_type": "display_data",
          "data": {
            "text/plain": [
              "<Figure size 600x600 with 1 Axes>"
            ],
            "image/png": "[encoded data removed]"
          },
          "metadata": {}
        }
      ]
    },
    {
      "cell_type": "markdown",
      "source": [
        "# Сравнение"
      ],
      "metadata": {
        "id": "bhAnhVxjh4eK"
      }
    },
    {
      "cell_type": "markdown",
      "source": [
        "## MyGD VS ElasticNet"
      ],
      "metadata": {
        "id": "Jld_eTJ9h8SY"
      }
    },
    {
      "cell_type": "code",
      "source": [
        "from sklearn.metrics import mean_squared_error\n",
        "\n",
        "gd_factors = pd.Series(gd_classifier.w, name='GD')\n",
        "en_factors = pd.Series(en_classifier.sparse_coef_.toarray().flatten(), index=gd_classifier.w.index, name='ElasticNet')\n",
        "print(pd.DataFrame([gd_factors, en_factors]).transpose())\n",
        "print('MSE: ', mean_squared_error(gd_classifier.w, en_classifier.sparse_coef_.toarray().flatten()))"
      ],
      "metadata": {
        "colab": {
          "base_uri": "https://localhost:8080/"
        },
        "id": "3p4UwlIdhgyy",
        "outputId": "73df3e3a-6331-4afc-cd37-ab12b0441742"
      },
      "execution_count": null,
      "outputs": [
        {
          "output_type": "stream",
          "name": "stdout",
          "text": [
            "                                 GD  ElasticNet\n",
            "Population            -2.280221e+15    0.003997\n",
            "Asian                 -1.607178e+15    0.016060\n",
            "White                 -2.222631e+15    0.000000\n",
            "Black                 -1.198569e+15    0.144276\n",
            "Indian                -7.974989e+14    0.014324\n",
            "Hispanic              -1.444320e+15    0.039645\n",
            "Hawaiian              -9.775641e+14   -0.077113\n",
            "Other                 -1.540850e+15    0.000000\n",
            "Females               -2.314989e+15    0.039074\n",
            "Males                 -2.324313e+15    0.018778\n",
            "Median_age             1.198198e+15    0.000000\n",
            "Median_female_age      1.087015e+15    0.005082\n",
            "Median_male_age        1.226148e+15   -0.028912\n",
            "Households            -2.266946e+15    0.027292\n",
            "Persons_per_household -5.140082e+14    0.069803\n",
            "Household_income      -5.668231e+14   -0.134121\n",
            "Total_area            -4.495736e+14    0.059375\n",
            "Land_area             -4.514370e+14    0.058673\n",
            "Water_area            -1.753251e+14    0.014537\n",
            "Elevation              5.457257e+14   -0.245678\n",
            "Density               -9.615316e+14   -0.053441\n",
            "MSE:  2.0227082569148662e+30\n"
          ]
        }
      ]
    },
    {
      "cell_type": "markdown",
      "source": [
        "## MySVM VS SVC"
      ],
      "metadata": {
        "id": "LqNe_O5Mic3L"
      }
    },
    {
      "cell_type": "code",
      "source": [
        "svc_classifier.support_vectors_"
      ],
      "metadata": {
        "colab": {
          "base_uri": "https://localhost:8080/"
        },
        "id": "_cS485fyiEtJ",
        "outputId": "6d78c4d7-26fd-4584-9624-963af17806a9"
      },
      "execution_count": null,
      "outputs": [
        {
          "output_type": "execute_result",
          "data": {
            "text/plain": [
              "array([[-0.77194937, -0.37452484, -0.84690516, ..., -0.23491871,\n",
              "         0.25209082,  0.68836648],\n",
              "       [-0.44287791, -0.37452484, -0.4331379 , ..., -0.23491871,\n",
              "        -0.20869429, -0.1685777 ],\n",
              "       [ 2.97903521,  3.39816128,  3.14368369, ...,  1.58388709,\n",
              "        -1.07398542,  2.97649031],\n",
              "       ...,\n",
              "       [ 1.84583566, -0.12616619,  2.07272115, ..., -0.19866344,\n",
              "         0.02345699, -0.22812987],\n",
              "       [ 0.94519071, -0.00790017,  1.06216259, ..., -0.23491871,\n",
              "         0.14305007,  0.18405971],\n",
              "       [-0.31463682, -0.161646  , -0.40656015, ...,  2.49026872,\n",
              "        -0.54636888, -0.7712768 ]])"
            ]
          },
          "metadata": {},
          "execution_count": 26
        }
      ]
    },
    {
      "cell_type": "code",
      "source": [
        "support_vectors = []\n",
        "for i in range(X_train.shape[0]):\n",
        "    m = np.dot(X_train.iloc[i], svm_classifier.w) * y_train.iloc[i]\n",
        "    if 0.9 <= m <= 1.1:\n",
        "        support_vectors.append(X_train.iloc[i])\n",
        "np.asarray(support_vectors)"
      ],
      "metadata": {
        "colab": {
          "base_uri": "https://localhost:8080/"
        },
        "id": "TlBIUeBdihJG",
        "outputId": "6ded90ee-9ee6-4217-f294-1b1fefa1ab68"
      },
      "execution_count": null,
      "outputs": [
        {
          "output_type": "execute_result",
          "data": {
            "text/plain": [
              "array([[-0.70070432, -0.33904503, -0.76807796, ...,  0.91920723,\n",
              "        -0.52526422, -0.9089194 ],\n",
              "       [-0.25468344, -0.31539183, -0.267631  , ..., -0.23491871,\n",
              "         0.07621864, -0.17390951],\n",
              "       [-0.21274296, -0.23260561,  0.05190604, ..., -0.23491871,\n",
              "        -0.38456647,  1.0820588 ],\n",
              "       ...,\n",
              "       [-0.75958231, -0.37452484, -0.78499108, ..., -0.23491871,\n",
              "         0.76915503, -0.32762956],\n",
              "       [-0.7638839 , -0.37452484, -0.83784456, ..., -0.23491871,\n",
              "        -0.2333164 , -0.52548056],\n",
              "       [-0.63134122, -0.35087164, -0.63337709, ..., -0.22283362,\n",
              "        -0.38456647, -0.81134736]])"
            ]
          },
          "metadata": {},
          "execution_count": 27
        }
      ]
    },
    {
      "cell_type": "code",
      "source": [],
      "metadata": {
        "id": "VmC1im7rilSx"
      },
      "execution_count": null,
      "outputs": []
    }
  ]
}